{
 "cells": [
  {
   "cell_type": "code",
   "execution_count": 2,
   "metadata": {
    "executionInfo": {
     "elapsed": 2571,
     "status": "ok",
     "timestamp": 1669484044970,
     "user": {
      "displayName": "Lucas de Sousa Rosa",
      "userId": "13726313841360537470"
     },
     "user_tz": 180
    },
    "id": "ooIH0eUWpw2e"
   },
   "outputs": [
    {
     "name": "stderr",
     "output_type": "stream",
     "text": [
      "/usr/lib/python3/dist-packages/scipy/__init__.py:146: UserWarning: A NumPy version >=1.17.3 and <1.25.0 is required for this version of SciPy (detected version 1.26.4\n",
      "  warnings.warn(f\"A NumPy version >={np_minversion} and <{np_maxversion}\"\n"
     ]
    }
   ],
   "source": [
    "import numpy as np\n",
    "import pandas as pd\n",
    "import matplotlib.pyplot as plt\n",
    "import seaborn as sns\n",
    "import itertools\n",
    "import math\n",
    "from tqdm import tqdm\n",
    "from multiprocessing import Process, Pool\n",
    "from statsmodels.stats.outliers_influence import variance_inflation_factor\n",
    "from sklearn.linear_model import LinearRegression\n",
    "from sklearn.model_selection import train_test_split\n",
    "from sklearn.metrics import mean_absolute_error\n",
    "from sklearn.model_selection import cross_val_score"
   ]
  },
  {
   "cell_type": "code",
   "execution_count": 3,
   "metadata": {
    "executionInfo": {
     "elapsed": 3,
     "status": "ok",
     "timestamp": 1669484044971,
     "user": {
      "displayName": "Lucas de Sousa Rosa",
      "userId": "13726313841360537470"
     },
     "user_tz": 180
    },
    "id": "_KiyNEaKkdUk"
   },
   "outputs": [],
   "source": [
    "def convert_temporal_data(dataframe):\n",
    "  '''\n",
    "  Convert temporal variables from seconds to hours.\n",
    "\n",
    "  This conversion is necessary. Otherwise, large predictor values (e.g., p^6)\n",
    "  will be irrelevant for OLS.\n",
    "  '''\n",
    "\n",
    "  for column in ['p', 'r']:\n",
    "    dataframe[column] = dataframe[column] / 3600\n",
    "\n",
    "  return dataframe\n",
    "\n",
    "def read_score_distribution(csv_file):\n",
    "  columns = ['p', 'q', 'r', 'score']\n",
    "  distribution = pd.read_csv(csv_file, names=columns,skiprows=1)\n",
    "  distribution = convert_temporal_data(distribution)\n",
    "\n",
    "  return distribution"
   ]
  },
  {
   "cell_type": "code",
   "execution_count": 4,
   "metadata": {
    "executionInfo": {
     "elapsed": 3,
     "status": "ok",
     "timestamp": 1669484044971,
     "user": {
      "displayName": "Lucas de Sousa Rosa",
      "userId": "13726313841360537470"
     },
     "user_tz": 180
    },
    "id": "LTLhv17MpNhc"
   },
   "outputs": [],
   "source": [
    "def add_quadratic_predictors(dataframe):\n",
    "  dataframe[['p2', 'q2', 'r2']] = dataframe[['p', 'q', 'r']]**2\n",
    "  dataframe['pq'] = dataframe['p']*dataframe['q']\n",
    "\n",
    "  return dataframe\n",
    "\n",
    "def add_cubic_predictors(dataframe):\n",
    "  dataframe[['p3', 'q3', 'r3']] = dataframe[['p', 'q', 'r']]**3\n",
    "  dataframe['p2q'] = dataframe['p']**2 * dataframe['q']\n",
    "  dataframe['pq2'] = dataframe['p'] * dataframe['q']**2\n",
    "\n",
    "  return dataframe\n",
    "\n",
    "def add_quartic_predictiors(dataframe):\n",
    "  dataframe[['p4', 'q4', 'r4']] = dataframe[['p', 'q', 'r']]**4\n",
    "  dataframe['p3q'] = dataframe['p']**3 * dataframe['q']\n",
    "  dataframe['p2q2'] = dataframe['p']**2 * dataframe['q']**2\n",
    "  dataframe['pq3'] = dataframe['p'] * dataframe['q']**3\n",
    "\n",
    "  return dataframe\n",
    "\n",
    "def add_quintic_predictors(dataframe):\n",
    "  dataframe[['p5', 'q5', 'r5']] = dataframe[['p', 'q', 'r']]**5\n",
    "  dataframe['p4q'] = dataframe['p']**4 * dataframe['q']\n",
    "  dataframe['p3q2'] = dataframe['p']**3 * dataframe['q']**2\n",
    "  dataframe['p2q3'] = dataframe['p']**2 * dataframe['q']**3\n",
    "  dataframe['pq4'] = dataframe['p'] * dataframe['q']**4\n",
    "\n",
    "  return dataframe\n",
    "\n",
    "def add_sextic_predictors(dataframe):\n",
    "  dataframe[['p6', 'q6', 'r6']] = dataframe[['p', 'q', 'r']]**6\n",
    "  dataframe['p5q'] = dataframe['p']**5 * dataframe['q']\n",
    "  dataframe['p4q2'] = dataframe['p']**4 * dataframe['q']**2\n",
    "  dataframe['p3q3'] = dataframe['p']**3 * dataframe['q']**3\n",
    "  dataframe['p2q4'] = dataframe['p']**2 * dataframe['q']**4\n",
    "  dataframe['pq5'] = dataframe['p'] * dataframe['q']**5\n",
    "\n",
    "  return dataframe\n",
    "def only_att_predictors(dataframe):\n",
    "    dataframe[['p2', 'q2', 'r2']] = dataframe[['p', 'q', 'r']]**2\n",
    "    dataframe[['p3', 'q3', 'r3']] = dataframe[['p', 'q', 'r']]**3\n",
    "    dataframe[['p4', 'q4', 'r4']] = dataframe[['p', 'q', 'r']]**4\n",
    "    dataframe[['p5', 'q5', 'r5']] = dataframe[['p', 'q', 'r']]**5\n",
    "    dataframe[['p6', 'q6', 'r6']] = dataframe[['p', 'q', 'r']]**6\n",
    "\n",
    "    return dataframe\n",
    "def only_wq_att_predictors(dataframe):\n",
    "    dataframe[['p2', 'r2']] = dataframe[['p', 'r']]**2\n",
    "    dataframe[['p3',  'r3']] = dataframe[['p', 'r']]**3\n",
    "    dataframe[['p4',  'r4']] = dataframe[['p', 'r']]**4\n",
    "    dataframe[['p5',  'r5']] = dataframe[['p', 'r']]**5\n",
    "    dataframe[['p6',  'r6']] = dataframe[['p', 'r']]**6\n",
    "\n",
    "    return dataframe\n",
    "def only_lin_predictors(dataframe):\n",
    "    dataframe['pq'] = dataframe['p']*dataframe['q']\n",
    "    dataframe['p2q'] = dataframe['p']**2 * dataframe['q']\n",
    "    dataframe['pq2'] = dataframe['p'] * dataframe['q']**2\n",
    "    dataframe['p3q'] = dataframe['p']**3 * dataframe['q']\n",
    "    dataframe['p2q2'] = dataframe['p']**2 * dataframe['q']**2\n",
    "    dataframe['pq3'] = dataframe['p'] * dataframe['q']**3\n",
    "    dataframe['p4q'] = dataframe['p']**4 * dataframe['q']\n",
    "    dataframe['p3q2'] = dataframe['p']**3 * dataframe['q']**2\n",
    "    dataframe['p2q3'] = dataframe['p']**2 * dataframe['q']**3\n",
    "    dataframe['pq4'] = dataframe['p'] * dataframe['q']**4\n",
    "\n",
    "    return dataframe\n",
    "def only_lin_predictors_pr(dataframe):\n",
    "    dataframe['pr'] = dataframe['p']*dataframe['r']\n",
    "    dataframe['p2r'] = dataframe['p']**2 * dataframe['r']\n",
    "    dataframe['pr2'] = dataframe['p'] * dataframe['r']**2\n",
    "    dataframe['p3r'] = dataframe['p']**3 * dataframe['r']\n",
    "    dataframe['p2r2'] = dataframe['p']**2 * dataframe['r']**2\n",
    "    dataframe['p4r'] = dataframe['p']**4 * dataframe['r']\n",
    "    dataframe['p3r2'] = dataframe['p']**3 * dataframe['r']**2\n",
    "    dataframe['p2r3'] = dataframe['p']**2 * dataframe['r']**3\n",
    "    dataframe['pr4'] = dataframe['p'] * dataframe['r']**4\n",
    "\n",
    "    return dataframe"
   ]
  },
  {
   "cell_type": "code",
   "execution_count": 5,
   "metadata": {
    "executionInfo": {
     "elapsed": 2,
     "status": "ok",
     "timestamp": 1669484045522,
     "user": {
      "displayName": "Lucas de Sousa Rosa",
      "userId": "13726313841360537470"
     },
     "user_tz": 180
    },
    "id": "pTrHGIrzpZvJ"
   },
   "outputs": [],
   "source": [
    "def create_quadratic_polynomial(dataframe):\n",
    "  dataframe = add_quadratic_predictors(dataframe)\n",
    "  return dataframe\n",
    "\n",
    "def create_cubic_polynomial(dataframe):\n",
    "  dataframe = add_cubic_predictors(\n",
    "              add_quadratic_predictors(dataframe))\n",
    "  return dataframe\n",
    "\n",
    "def create_quartic_polynomial(dataframe):\n",
    "  dataframe = add_quartic_predictiors(\n",
    "              add_cubic_predictors(\n",
    "              add_quadratic_predictors(dataframe)))\n",
    "  return dataframe\n",
    "\n",
    "def create_quintic_polynomial(dataframe):\n",
    "  dataframe = add_quintic_predictors(\n",
    "              add_quartic_predictiors(\n",
    "              add_cubic_predictors(\n",
    "              add_quadratic_predictors(dataframe))))\n",
    "  return dataframe\n",
    "\n",
    "def create_sextic_polynomial(dataframe):\n",
    "  dataframe = add_sextic_predictors(\n",
    "              add_quintic_predictors(\n",
    "              add_quartic_predictiors(\n",
    "              add_cubic_predictors(\n",
    "              add_quadratic_predictors(dataframe)))))\n",
    "  return dataframe"
   ]
  },
  {
   "cell_type": "code",
   "execution_count": 6,
   "metadata": {},
   "outputs": [
    {
     "name": "stdout",
     "output_type": "stream",
     "text": [
      "['sqrt(p)', 'sqrt(q)', 'sqrt(r)', 'p1', 'q1', 'r1', 'p2', 'q2', 'r2', 'p3', 'q3', 'r3', 'p4', 'q4', 'r4', 'p1q', 'p1r', 'q1r', 'p2q', 'q2p', 'p2r', 'r2p', 'q2r', 'r2q', 'p3q', 'q3p', 'p3r', 'r3p', 'q3r', 'r3q', 'p4q', 'q4p', 'p4r', 'r4p', 'q4r', 'r4q']\n"
     ]
    }
   ],
   "source": [
    "variables = ['p', 'q', 'r']\n",
    "degre_max = 4\n",
    "\n",
    "# Générer les combinaisons\n",
    "possibilites = []\n",
    "possibilites.append(\"sqrt(p)\")\n",
    "possibilites.append(\"sqrt(q)\")\n",
    "possibilites.append(\"sqrt(r)\")\n",
    "for degre in range(1, degre_max + 1):\n",
    "    for variable in variables:\n",
    "        possibilites.append(variable + str(degre))\n",
    "\n",
    "for degre in range(1, degre_max + 1):\n",
    "    for i in range(len(variables)):\n",
    "        for j in range(i + 1, len(variables)):\n",
    "            possibilites.append(variables[i] + str(degre) + variables[j])\n",
    "            if degre!=1:\n",
    "                possibilites.append(variables[j] + str(degre) + variables[i])\n",
    "\n",
    "\n",
    "\n",
    "# Afficher les combinaisons\n",
    "print (possibilites)"
   ]
  },
  {
   "cell_type": "code",
   "execution_count": 7,
   "metadata": {},
   "outputs": [],
   "source": [
    "import copy\n",
    "import random\n",
    "\n",
    "history=[]\n",
    "names=[]\n",
    "def grid_search (dataframe, n,threshold):\n",
    "    best_vif=[100000000000000]*20\n",
    "    best_set=[[],[],[],[],[],[],[],[],[],[],[],[],[],[],[],[],[],[],[],[]]\n",
    "    comb=list(itertools.combinations(possibilites,n))\n",
    "    if n>3:\n",
    "        comb=random.sample(comb, 5000)\n",
    "    for var_set in tqdm(comb, desc=\"Progression :\" ):\n",
    "        df_copy = pd.DataFrame()\n",
    "        \n",
    "        # Appliquer les transformations pour chaque variable dans l'ensemble\n",
    "        for var in var_set:\n",
    "            \n",
    "            if var.startswith('sqrt'):\n",
    "                \n",
    "                root_var = var[-2]  # Récupérer la variable ('p', 'q' ou 'r') à partir de la variable sqrt\n",
    "                df_copy[var] = dataframe[root_var].apply(math.sqrt)\n",
    "                \n",
    "            elif var.startswith(('p', 'q', 'r'))and len(var)==2:\n",
    "                power = int(var[1:]) if len(var) > 1 else 1  # Récupérer l'exposant du polynôme\n",
    "                base_var = var[0]  # Récupérer la variable ('p', 'q' ou 'r') à partir de la variable polynomiale\n",
    "                df_copy[var] = dataframe[base_var] ** power\n",
    "            elif var in [ 'p1q', 'p1r', 'q1r']:\n",
    "                var_1, var_2 = var[0], var[2]  # Récupérer les deux variables ('p', 'q' ou 'r') de la combinaison\n",
    "                df_copy[var] = dataframe[var_1]  * dataframe[var_2]\n",
    "            elif var in ['p2q', 'q2p', 'p2r', 'r2p', 'q2r', 'r2q']:\n",
    "                var_1, var_2 = var[0], var[2]  # Récupérer les deux variables ('p', 'q' ou 'r') de la combinaison\n",
    "                df_copy[var] = (dataframe[var_1] **2) * dataframe[var_2]\n",
    "            elif var in ['p3q', 'q3p', 'p3r', 'r3p', 'q3r', 'r3q']:\n",
    "                var_1, var_2 = var[0], var[2]  # Récupérer les trois variables ('p', 'q' ou 'r') de la combinaison\n",
    "                df_copy[var] = (dataframe[var_1]**3) * dataframe[var_2] \n",
    "            elif var in ['p4q', 'q4p', 'p4r', 'r4p', 'q4r', 'r4q']:\n",
    "                var_1, var_2 = var[0], var[2] # Récupérer les quatre variables ('p', 'q' ou 'r') de la combinaison\n",
    "                df_copy[var] = (dataframe[var_1]**4) * dataframe[var_2]\n",
    "        res=compute_vif(df_copy)\n",
    "        max=np.max(res['VIF'])\n",
    "        history.append(max)\n",
    "        if n==1 : \n",
    "            names.append(var_set[-1])\n",
    "        else : \n",
    "            res= var_set[0]\n",
    "            for var in var_set:\n",
    "                if var != var_set[0]:\n",
    "                    res += \"-\"+var\n",
    "            names.append(res)\n",
    "        b=False\n",
    "        idx=0\n",
    "        for best in best_vif:\n",
    "            if max<best and max>=threshold:\n",
    "                b=True\n",
    "                break\n",
    "            idx+=1\n",
    "        if b==True:\n",
    "            tmp_vif=best_vif.copy()\n",
    "            tmp_set=best_set.copy()\n",
    "            for i in range (idx+1,5):\n",
    "                \n",
    "                tmp_vif[i]=best_vif[i-1]\n",
    "                tmp_set[i]=best_set[i-1]\n",
    "            tmp_vif[idx]=max\n",
    "            tmp_set[idx]=var_set\n",
    "            best_vif=tmp_vif\n",
    "            best_set=tmp_set\n",
    "        \n",
    "        \n",
    "            \n",
    "    with open(\"grid.csv\", \"a+\") as res:\n",
    "        res.write(str(n))\n",
    "        res.write(',')\n",
    "        res.write(str(best_vif))\n",
    "        res.write(',')\n",
    "        res.write(str(best_set))\n",
    "        res.write('\\n')\n",
    "    print(best_vif)\n",
    "    print(best_set)\n"
   ]
  },
  {
   "cell_type": "code",
   "execution_count": 8,
   "metadata": {
    "executionInfo": {
     "elapsed": 221,
     "status": "ok",
     "timestamp": 1669484384212,
     "user": {
      "displayName": "Lucas de Sousa Rosa",
      "userId": "13726313841360537470"
     },
     "user_tz": 180
    },
    "id": "oB5v7bz4AnVQ"
   },
   "outputs": [],
   "source": [
    "def compute_vif(features):\n",
    "    vif = pd.DataFrame()\n",
    "    vif['VIF'] = [variance_inflation_factor(features.values, i) for i in range(features.shape[1])]\n",
    "    vif['feature'] = features.columns\n",
    "    return vif"
   ]
  },
  {
   "cell_type": "code",
   "execution_count": 9,
   "metadata": {
    "executionInfo": {
     "elapsed": 224,
     "status": "ok",
     "timestamp": 1669485155437,
     "user": {
      "displayName": "Lucas de Sousa Rosa",
      "userId": "13726313841360537470"
     },
     "user_tz": 180
    },
    "id": "psiyWO8FqFD5"
   },
   "outputs": [],
   "source": [
    "csv_file = \"data/global_training_data_GA.csv\"\n",
    "raw_dist = read_score_distribution(csv_file)"
   ]
  },
  {
   "cell_type": "code",
   "execution_count": 10,
   "metadata": {
    "colab": {
     "base_uri": "https://localhost:8080/",
     "height": 424
    },
    "executionInfo": {
     "elapsed": 234,
     "status": "ok",
     "timestamp": 1669485266425,
     "user": {
      "displayName": "Lucas de Sousa Rosa",
      "userId": "13726313841360537470"
     },
     "user_tz": 180
    },
    "id": "CghP2XJUA1Gb",
    "outputId": "06d45020-adf1-4abc-b51d-0b3dc63151ca"
   },
   "outputs": [
    {
     "data": {
      "text/html": [
       "<div>\n",
       "<style scoped>\n",
       "    .dataframe tbody tr th:only-of-type {\n",
       "        vertical-align: middle;\n",
       "    }\n",
       "\n",
       "    .dataframe tbody tr th {\n",
       "        vertical-align: top;\n",
       "    }\n",
       "\n",
       "    .dataframe thead th {\n",
       "        text-align: right;\n",
       "    }\n",
       "</style>\n",
       "<table border=\"1\" class=\"dataframe\">\n",
       "  <thead>\n",
       "    <tr style=\"text-align: right;\">\n",
       "      <th></th>\n",
       "      <th>p</th>\n",
       "      <th>q</th>\n",
       "      <th>r</th>\n",
       "    </tr>\n",
       "  </thead>\n",
       "  <tbody>\n",
       "    <tr>\n",
       "      <th>0</th>\n",
       "      <td>0.009444</td>\n",
       "      <td>2</td>\n",
       "      <td>4.613333</td>\n",
       "    </tr>\n",
       "    <tr>\n",
       "      <th>1</th>\n",
       "      <td>0.002222</td>\n",
       "      <td>32</td>\n",
       "      <td>4.627500</td>\n",
       "    </tr>\n",
       "    <tr>\n",
       "      <th>2</th>\n",
       "      <td>0.049167</td>\n",
       "      <td>16</td>\n",
       "      <td>4.908333</td>\n",
       "    </tr>\n",
       "    <tr>\n",
       "      <th>3</th>\n",
       "      <td>0.014444</td>\n",
       "      <td>1</td>\n",
       "      <td>4.928889</td>\n",
       "    </tr>\n",
       "    <tr>\n",
       "      <th>4</th>\n",
       "      <td>2.546944</td>\n",
       "      <td>128</td>\n",
       "      <td>4.931667</td>\n",
       "    </tr>\n",
       "    <tr>\n",
       "      <th>...</th>\n",
       "      <td>...</td>\n",
       "      <td>...</td>\n",
       "      <td>...</td>\n",
       "    </tr>\n",
       "    <tr>\n",
       "      <th>81339</th>\n",
       "      <td>3.888611</td>\n",
       "      <td>32</td>\n",
       "      <td>19.506111</td>\n",
       "    </tr>\n",
       "    <tr>\n",
       "      <th>81340</th>\n",
       "      <td>0.280833</td>\n",
       "      <td>64</td>\n",
       "      <td>19.533889</td>\n",
       "    </tr>\n",
       "    <tr>\n",
       "      <th>81341</th>\n",
       "      <td>0.001111</td>\n",
       "      <td>1</td>\n",
       "      <td>83.753056</td>\n",
       "    </tr>\n",
       "    <tr>\n",
       "      <th>81342</th>\n",
       "      <td>0.018889</td>\n",
       "      <td>2</td>\n",
       "      <td>83.766111</td>\n",
       "    </tr>\n",
       "    <tr>\n",
       "      <th>81343</th>\n",
       "      <td>0.009444</td>\n",
       "      <td>19</td>\n",
       "      <td>83.814167</td>\n",
       "    </tr>\n",
       "  </tbody>\n",
       "</table>\n",
       "<p>81344 rows × 3 columns</p>\n",
       "</div>"
      ],
      "text/plain": [
       "              p    q          r\n",
       "0      0.009444    2   4.613333\n",
       "1      0.002222   32   4.627500\n",
       "2      0.049167   16   4.908333\n",
       "3      0.014444    1   4.928889\n",
       "4      2.546944  128   4.931667\n",
       "...         ...  ...        ...\n",
       "81339  3.888611   32  19.506111\n",
       "81340  0.280833   64  19.533889\n",
       "81341  0.001111    1  83.753056\n",
       "81342  0.018889    2  83.766111\n",
       "81343  0.009444   19  83.814167\n",
       "\n",
       "[81344 rows x 3 columns]"
      ]
     },
     "execution_count": 10,
     "metadata": {},
     "output_type": "execute_result"
    }
   ],
   "source": [
    "features_label = ['p', 'q', 'r']\n",
    "target_label = [\"score\"]\n",
    "features = raw_dist[features_label]\n",
    "target = raw_dist[target_label]\n",
    "features"
   ]
  },
  {
   "cell_type": "code",
   "execution_count": 11,
   "metadata": {},
   "outputs": [
    {
     "name": "stdout",
     "output_type": "stream",
     "text": [
      "               pq          qp\n",
      "0        0.018889    0.018889\n",
      "1        0.071111    0.071111\n",
      "2        0.786667    0.786667\n",
      "3        0.014444    0.014444\n",
      "4      326.008889  326.008889\n",
      "...           ...         ...\n",
      "81339  124.435556  124.435556\n",
      "81340   17.973333   17.973333\n",
      "81341    0.001111    0.001111\n",
      "81342    0.037778    0.037778\n",
      "81343    0.179444    0.179444\n",
      "\n",
      "[81344 rows x 2 columns]\n"
     ]
    },
    {
     "name": "stderr",
     "output_type": "stream",
     "text": [
      "/home/djoser/.local/lib/python3.10/site-packages/statsmodels/stats/outliers_influence.py:198: RuntimeWarning: divide by zero encountered in scalar divide\n",
      "  vif = 1. / (1. - r_squared_i)\n"
     ]
    },
    {
     "data": {
      "text/html": [
       "<div>\n",
       "<style scoped>\n",
       "    .dataframe tbody tr th:only-of-type {\n",
       "        vertical-align: middle;\n",
       "    }\n",
       "\n",
       "    .dataframe tbody tr th {\n",
       "        vertical-align: top;\n",
       "    }\n",
       "\n",
       "    .dataframe thead th {\n",
       "        text-align: right;\n",
       "    }\n",
       "</style>\n",
       "<table border=\"1\" class=\"dataframe\">\n",
       "  <thead>\n",
       "    <tr style=\"text-align: right;\">\n",
       "      <th></th>\n",
       "      <th>VIF</th>\n",
       "      <th>feature</th>\n",
       "    </tr>\n",
       "  </thead>\n",
       "  <tbody>\n",
       "    <tr>\n",
       "      <th>0</th>\n",
       "      <td>inf</td>\n",
       "      <td>pq</td>\n",
       "    </tr>\n",
       "    <tr>\n",
       "      <th>1</th>\n",
       "      <td>inf</td>\n",
       "      <td>qp</td>\n",
       "    </tr>\n",
       "  </tbody>\n",
       "</table>\n",
       "</div>"
      ],
      "text/plain": [
       "   VIF feature\n",
       "0  inf      pq\n",
       "1  inf      qp"
      ]
     },
     "execution_count": 11,
     "metadata": {},
     "output_type": "execute_result"
    }
   ],
   "source": [
    "df_tmp=pd.DataFrame()\n",
    "df_tmp['pq']=features['p']*features['q']\n",
    "df_tmp['qp']=features['q']*features['p']\n",
    "print(df_tmp)\n",
    "compute_vif(df_tmp)"
   ]
  },
  {
   "cell_type": "code",
   "execution_count": 12,
   "metadata": {},
   "outputs": [
    {
     "data": {
      "text/html": [
       "<div>\n",
       "<style scoped>\n",
       "    .dataframe tbody tr th:only-of-type {\n",
       "        vertical-align: middle;\n",
       "    }\n",
       "\n",
       "    .dataframe tbody tr th {\n",
       "        vertical-align: top;\n",
       "    }\n",
       "\n",
       "    .dataframe thead th {\n",
       "        text-align: right;\n",
       "    }\n",
       "</style>\n",
       "<table border=\"1\" class=\"dataframe\">\n",
       "  <thead>\n",
       "    <tr style=\"text-align: right;\">\n",
       "      <th></th>\n",
       "      <th>VIF</th>\n",
       "      <th>feature</th>\n",
       "    </tr>\n",
       "  </thead>\n",
       "  <tbody>\n",
       "    <tr>\n",
       "      <th>0</th>\n",
       "      <td>1.272781</td>\n",
       "      <td>p</td>\n",
       "    </tr>\n",
       "    <tr>\n",
       "      <th>1</th>\n",
       "      <td>1.252365</td>\n",
       "      <td>q</td>\n",
       "    </tr>\n",
       "    <tr>\n",
       "      <th>2</th>\n",
       "      <td>1.151622</td>\n",
       "      <td>r</td>\n",
       "    </tr>\n",
       "  </tbody>\n",
       "</table>\n",
       "</div>"
      ],
      "text/plain": [
       "        VIF feature\n",
       "0  1.272781       p\n",
       "1  1.252365       q\n",
       "2  1.151622       r"
      ]
     },
     "execution_count": 12,
     "metadata": {},
     "output_type": "execute_result"
    }
   ],
   "source": [
    "compute_vif(features[['p','q','r']])"
   ]
  },
  {
   "cell_type": "code",
   "execution_count": 13,
   "metadata": {},
   "outputs": [
    {
     "name": "stdout",
     "output_type": "stream",
     "text": [
      "0        0.34375\n",
      "1        0.12500\n",
      "2        0.43750\n",
      "3        0.28125\n",
      "4        0.78125\n",
      "          ...   \n",
      "81339    0.87500\n",
      "81340    0.75000\n",
      "81341    0.93750\n",
      "81342    0.96875\n",
      "81343    1.00000\n",
      "Name: score, Length: 81344, dtype: float64\n"
     ]
    }
   ],
   "source": [
    "print (target['score'])"
   ]
  },
  {
   "cell_type": "code",
   "execution_count": 14,
   "metadata": {},
   "outputs": [],
   "source": [
    "def grid_evaluation (dataframe,y,comb):\n",
    "    hist=[]\n",
    "    for var_set in comb :\n",
    "        print(f'_______________________ {var_set} _______________________ ')\n",
    "        df_copy = pd.DataFrame()\n",
    "        for var in var_set:\n",
    "                \n",
    "                if var.startswith('sqrt'):\n",
    "                    \n",
    "                    root_var = var[-2]  # Récupérer la variable ('p', 'q' ou 'r') à partir de la variable sqrt\n",
    "                    df_copy[var] = dataframe[root_var].apply(math.sqrt)\n",
    "                    \n",
    "                elif var.startswith(('p', 'q', 'r'))and len(var)==2:\n",
    "                    power = int(var[1:]) if len(var) > 1 else 1  # Récupérer l'exposant du polynôme\n",
    "                    base_var = var[0]  # Récupérer la variable ('p', 'q' ou 'r') à partir de la variable polynomiale\n",
    "                    df_copy[var] = dataframe[base_var] ** power\n",
    "                elif var in ['p1q', 'p1r', 'q1r']:\n",
    "                    var_1, var_2 = var[0], var[2]  # Récupérer les deux variables ('p', 'q' ou 'r') de la combinaison\n",
    "                    df_copy[var] = dataframe[var_1]  * dataframe[var_2]\n",
    "                elif var in ['p2q', 'q2p', 'p2r', 'r2p', 'q2r', 'r2q']:\n",
    "                    var_1, var_2 = var[0], var[2]  # Récupérer les deux variables ('p', 'q' ou 'r') de la combinaison\n",
    "                    df_copy[var] = (dataframe[var_1] **2) * dataframe[var_2]\n",
    "                elif var in ['p3q', 'q3p', 'p3r', 'r3p', 'q3r', 'r3q']:\n",
    "                    var_1, var_2 = var[0], var[2]  # Récupérer les trois variables ('p', 'q' ou 'r') de la combinaison\n",
    "                    df_copy[var] = (dataframe[var_1]**3) * dataframe[var_2] \n",
    "                elif var in ['p4q', 'q4p', 'p4r', 'r4p', 'q4r', 'r4q']:\n",
    "                    var_1, var_2 = var[0], var[2] # Récupérer les quatre variables ('p', 'q' ou 'r') de la combinaison\n",
    "                    df_copy[var] = (dataframe[var_1]**4) * dataframe[var_2]\n",
    "        X_train, X_test, y_train, y_test = train_test_split(df_copy,y, test_size=0.3, random_state=42)\n",
    "        model=LinearRegression().fit(X_train,y_train)\n",
    "        scores = cross_val_score(model, X_train, y_train, cv=5)\n",
    "        print('############ TRAINING MAE SCORE ################')\n",
    "\n",
    "        print(mean_absolute_error(model.predict(X_train),y_train))\n",
    "        print('############ TESTING MAE SCORE ################')\n",
    "        mae_score=mean_absolute_error(model.predict(X_test),y_test)\n",
    "        print(mean_absolute_error(model.predict(X_test),y_test))\n",
    "        hist.append(mae_score)\n",
    "    return hist\n",
    "        \n"
   ]
  },
  {
   "cell_type": "code",
   "execution_count": 15,
   "metadata": {},
   "outputs": [
    {
     "name": "stdout",
     "output_type": "stream",
     "text": [
      "_______________________ ['p1', 'q1', 'r1'] _______________________ \n",
      "############ TRAINING MAE SCORE ################\n",
      "0.2164113967364472\n",
      "############ TESTING MAE SCORE ################\n",
      "0.21717980982772267\n",
      "_______________________ ['r3', 'q2p', 'p3r'] _______________________ \n",
      "############ TRAINING MAE SCORE ################\n",
      "0.24021855967960545\n",
      "############ TESTING MAE SCORE ################\n",
      "0.2409854268393933\n",
      "_______________________ ['sqrt(p)', 'p1q', 'q1r'] _______________________ \n",
      "############ TRAINING MAE SCORE ################\n",
      "0.2169714497051536\n",
      "############ TESTING MAE SCORE ################\n",
      "0.21693984120016557\n",
      "_______________________ ['sqrt(p)', 'sqrt(r)', 'p1'] _______________________ \n",
      "############ TRAINING MAE SCORE ################\n",
      "0.21075842925607471\n",
      "############ TESTING MAE SCORE ################\n",
      "0.21089234508925758\n",
      "_______________________ ['q2r', 'p3q', 'p4q'] _______________________ \n",
      "############ TRAINING MAE SCORE ################\n",
      "0.2439476858189707\n",
      "############ TESTING MAE SCORE ################\n",
      "0.243989158857399\n",
      "_______________________ ['sqrt(p)', 'sqrt(r)', 'r1', 'q4'] _______________________ \n",
      "############ TRAINING MAE SCORE ################\n",
      "0.20850999496681852\n",
      "############ TESTING MAE SCORE ################\n",
      "0.20902869180559244\n",
      "_______________________ ['q1', 'q1r', 'q4p', 'q4r'] _______________________ \n",
      "############ TRAINING MAE SCORE ################\n",
      "0.23053088479284284\n",
      "############ TESTING MAE SCORE ################\n",
      "0.23105163006866702\n",
      "_______________________ ['sqrt(p)', 'q3', 'p1q', 'q3p'] _______________________ \n",
      "############ TRAINING MAE SCORE ################\n",
      "0.21471369584986452\n",
      "############ TESTING MAE SCORE ################\n",
      "0.21469804751448088\n",
      "_______________________ ['sqrt(p)', 'sqrt(r)', 'q1r', 'r2q'] _______________________ \n",
      "############ TRAINING MAE SCORE ################\n",
      "0.21175172702472278\n",
      "############ TESTING MAE SCORE ################\n",
      "0.21222638918450404\n",
      "_______________________ ['r2p', 'r2q', 'q4r', 'r4q'] _______________________ \n",
      "############ TRAINING MAE SCORE ################\n",
      "0.24562619630973187\n",
      "############ TESTING MAE SCORE ################\n",
      "0.24586482431455228\n"
     ]
    },
    {
     "data": {
      "text/plain": [
       "[0.21717980982772267,\n",
       " 0.2409854268393933,\n",
       " 0.21693984120016557,\n",
       " 0.21089234508925758,\n",
       " 0.243989158857399,\n",
       " 0.20902869180559244,\n",
       " 0.23105163006866702,\n",
       " 0.21469804751448088,\n",
       " 0.21222638918450404,\n",
       " 0.24586482431455228]"
      ]
     },
     "execution_count": 15,
     "metadata": {},
     "output_type": "execute_result"
    }
   ],
   "source": [
    "\n",
    "data=[['p1','q1','r1'],['r3','q2p','p3r'],['sqrt(p)','p1q','q1r'],['sqrt(p)','sqrt(r)','p1'],['q2r','p3q','p4q'],\n",
    "      ['sqrt(p)', 'sqrt(r)', 'r1', 'q4'],['q1','q1r','q4p','q4r'],['sqrt(p)','q3','p1q','q3p'],['sqrt(p)','sqrt(r)','q1r','r2q'],['r2p','r2q','q4r','r4q']]\n",
    "grid_evaluation(features,target,data)"
   ]
  },
  {
   "cell_type": "code",
   "execution_count": 16,
   "metadata": {},
   "outputs": [
    {
     "ename": "FileNotFoundError",
     "evalue": "[Errno 2] No such file or directory: 'CTC-SP2_ACTUAL_22_10.csv'",
     "output_type": "error",
     "traceback": [
      "\u001b[0;31m---------------------------------------------------------------------------\u001b[0m",
      "\u001b[0;31mFileNotFoundError\u001b[0m                         Traceback (most recent call last)",
      "Cell \u001b[0;32mIn[16], line 4\u001b[0m\n\u001b[1;32m      1\u001b[0m df\u001b[38;5;241m=\u001b[39m[]\n\u001b[1;32m      3\u001b[0m \u001b[38;5;66;03m# Lire le fichier CSV\u001b[39;00m\n\u001b[0;32m----> 4\u001b[0m df\u001b[38;5;241m.\u001b[39mappend(\u001b[43mpd\u001b[49m\u001b[38;5;241;43m.\u001b[39;49m\u001b[43mread_csv\u001b[49m\u001b[43m(\u001b[49m\u001b[38;5;124;43m'\u001b[39;49m\u001b[38;5;124;43mCTC-SP2_ACTUAL_22_10.csv\u001b[39;49m\u001b[38;5;124;43m'\u001b[39;49m\u001b[43m)\u001b[49m)\n\u001b[1;32m      5\u001b[0m df\u001b[38;5;241m.\u001b[39mappend(pd\u001b[38;5;241m.\u001b[39mread_csv(\u001b[38;5;124m'\u001b[39m\u001b[38;5;124mCTC-SP2_ESTIMATED_22_10.csv\u001b[39m\u001b[38;5;124m'\u001b[39m))\n\u001b[1;32m      6\u001b[0m df\u001b[38;5;241m.\u001b[39mappend(pd\u001b[38;5;241m.\u001b[39mread_csv(\u001b[38;5;124m'\u001b[39m\u001b[38;5;124mSDSC-BLUE_ACTUAL_64_10.csv\u001b[39m\u001b[38;5;124m'\u001b[39m))\n",
      "File \u001b[0;32m~/.local/lib/python3.10/site-packages/pandas/io/parsers/readers.py:1026\u001b[0m, in \u001b[0;36mread_csv\u001b[0;34m(filepath_or_buffer, sep, delimiter, header, names, index_col, usecols, dtype, engine, converters, true_values, false_values, skipinitialspace, skiprows, skipfooter, nrows, na_values, keep_default_na, na_filter, verbose, skip_blank_lines, parse_dates, infer_datetime_format, keep_date_col, date_parser, date_format, dayfirst, cache_dates, iterator, chunksize, compression, thousands, decimal, lineterminator, quotechar, quoting, doublequote, escapechar, comment, encoding, encoding_errors, dialect, on_bad_lines, delim_whitespace, low_memory, memory_map, float_precision, storage_options, dtype_backend)\u001b[0m\n\u001b[1;32m   1013\u001b[0m kwds_defaults \u001b[38;5;241m=\u001b[39m _refine_defaults_read(\n\u001b[1;32m   1014\u001b[0m     dialect,\n\u001b[1;32m   1015\u001b[0m     delimiter,\n\u001b[0;32m   (...)\u001b[0m\n\u001b[1;32m   1022\u001b[0m     dtype_backend\u001b[38;5;241m=\u001b[39mdtype_backend,\n\u001b[1;32m   1023\u001b[0m )\n\u001b[1;32m   1024\u001b[0m kwds\u001b[38;5;241m.\u001b[39mupdate(kwds_defaults)\n\u001b[0;32m-> 1026\u001b[0m \u001b[38;5;28;01mreturn\u001b[39;00m \u001b[43m_read\u001b[49m\u001b[43m(\u001b[49m\u001b[43mfilepath_or_buffer\u001b[49m\u001b[43m,\u001b[49m\u001b[43m \u001b[49m\u001b[43mkwds\u001b[49m\u001b[43m)\u001b[49m\n",
      "File \u001b[0;32m~/.local/lib/python3.10/site-packages/pandas/io/parsers/readers.py:620\u001b[0m, in \u001b[0;36m_read\u001b[0;34m(filepath_or_buffer, kwds)\u001b[0m\n\u001b[1;32m    617\u001b[0m _validate_names(kwds\u001b[38;5;241m.\u001b[39mget(\u001b[38;5;124m\"\u001b[39m\u001b[38;5;124mnames\u001b[39m\u001b[38;5;124m\"\u001b[39m, \u001b[38;5;28;01mNone\u001b[39;00m))\n\u001b[1;32m    619\u001b[0m \u001b[38;5;66;03m# Create the parser.\u001b[39;00m\n\u001b[0;32m--> 620\u001b[0m parser \u001b[38;5;241m=\u001b[39m \u001b[43mTextFileReader\u001b[49m\u001b[43m(\u001b[49m\u001b[43mfilepath_or_buffer\u001b[49m\u001b[43m,\u001b[49m\u001b[43m \u001b[49m\u001b[38;5;241;43m*\u001b[39;49m\u001b[38;5;241;43m*\u001b[39;49m\u001b[43mkwds\u001b[49m\u001b[43m)\u001b[49m\n\u001b[1;32m    622\u001b[0m \u001b[38;5;28;01mif\u001b[39;00m chunksize \u001b[38;5;129;01mor\u001b[39;00m iterator:\n\u001b[1;32m    623\u001b[0m     \u001b[38;5;28;01mreturn\u001b[39;00m parser\n",
      "File \u001b[0;32m~/.local/lib/python3.10/site-packages/pandas/io/parsers/readers.py:1620\u001b[0m, in \u001b[0;36mTextFileReader.__init__\u001b[0;34m(self, f, engine, **kwds)\u001b[0m\n\u001b[1;32m   1617\u001b[0m     \u001b[38;5;28mself\u001b[39m\u001b[38;5;241m.\u001b[39moptions[\u001b[38;5;124m\"\u001b[39m\u001b[38;5;124mhas_index_names\u001b[39m\u001b[38;5;124m\"\u001b[39m] \u001b[38;5;241m=\u001b[39m kwds[\u001b[38;5;124m\"\u001b[39m\u001b[38;5;124mhas_index_names\u001b[39m\u001b[38;5;124m\"\u001b[39m]\n\u001b[1;32m   1619\u001b[0m \u001b[38;5;28mself\u001b[39m\u001b[38;5;241m.\u001b[39mhandles: IOHandles \u001b[38;5;241m|\u001b[39m \u001b[38;5;28;01mNone\u001b[39;00m \u001b[38;5;241m=\u001b[39m \u001b[38;5;28;01mNone\u001b[39;00m\n\u001b[0;32m-> 1620\u001b[0m \u001b[38;5;28mself\u001b[39m\u001b[38;5;241m.\u001b[39m_engine \u001b[38;5;241m=\u001b[39m \u001b[38;5;28;43mself\u001b[39;49m\u001b[38;5;241;43m.\u001b[39;49m\u001b[43m_make_engine\u001b[49m\u001b[43m(\u001b[49m\u001b[43mf\u001b[49m\u001b[43m,\u001b[49m\u001b[43m \u001b[49m\u001b[38;5;28;43mself\u001b[39;49m\u001b[38;5;241;43m.\u001b[39;49m\u001b[43mengine\u001b[49m\u001b[43m)\u001b[49m\n",
      "File \u001b[0;32m~/.local/lib/python3.10/site-packages/pandas/io/parsers/readers.py:1880\u001b[0m, in \u001b[0;36mTextFileReader._make_engine\u001b[0;34m(self, f, engine)\u001b[0m\n\u001b[1;32m   1878\u001b[0m     \u001b[38;5;28;01mif\u001b[39;00m \u001b[38;5;124m\"\u001b[39m\u001b[38;5;124mb\u001b[39m\u001b[38;5;124m\"\u001b[39m \u001b[38;5;129;01mnot\u001b[39;00m \u001b[38;5;129;01min\u001b[39;00m mode:\n\u001b[1;32m   1879\u001b[0m         mode \u001b[38;5;241m+\u001b[39m\u001b[38;5;241m=\u001b[39m \u001b[38;5;124m\"\u001b[39m\u001b[38;5;124mb\u001b[39m\u001b[38;5;124m\"\u001b[39m\n\u001b[0;32m-> 1880\u001b[0m \u001b[38;5;28mself\u001b[39m\u001b[38;5;241m.\u001b[39mhandles \u001b[38;5;241m=\u001b[39m \u001b[43mget_handle\u001b[49m\u001b[43m(\u001b[49m\n\u001b[1;32m   1881\u001b[0m \u001b[43m    \u001b[49m\u001b[43mf\u001b[49m\u001b[43m,\u001b[49m\n\u001b[1;32m   1882\u001b[0m \u001b[43m    \u001b[49m\u001b[43mmode\u001b[49m\u001b[43m,\u001b[49m\n\u001b[1;32m   1883\u001b[0m \u001b[43m    \u001b[49m\u001b[43mencoding\u001b[49m\u001b[38;5;241;43m=\u001b[39;49m\u001b[38;5;28;43mself\u001b[39;49m\u001b[38;5;241;43m.\u001b[39;49m\u001b[43moptions\u001b[49m\u001b[38;5;241;43m.\u001b[39;49m\u001b[43mget\u001b[49m\u001b[43m(\u001b[49m\u001b[38;5;124;43m\"\u001b[39;49m\u001b[38;5;124;43mencoding\u001b[39;49m\u001b[38;5;124;43m\"\u001b[39;49m\u001b[43m,\u001b[49m\u001b[43m \u001b[49m\u001b[38;5;28;43;01mNone\u001b[39;49;00m\u001b[43m)\u001b[49m\u001b[43m,\u001b[49m\n\u001b[1;32m   1884\u001b[0m \u001b[43m    \u001b[49m\u001b[43mcompression\u001b[49m\u001b[38;5;241;43m=\u001b[39;49m\u001b[38;5;28;43mself\u001b[39;49m\u001b[38;5;241;43m.\u001b[39;49m\u001b[43moptions\u001b[49m\u001b[38;5;241;43m.\u001b[39;49m\u001b[43mget\u001b[49m\u001b[43m(\u001b[49m\u001b[38;5;124;43m\"\u001b[39;49m\u001b[38;5;124;43mcompression\u001b[39;49m\u001b[38;5;124;43m\"\u001b[39;49m\u001b[43m,\u001b[49m\u001b[43m \u001b[49m\u001b[38;5;28;43;01mNone\u001b[39;49;00m\u001b[43m)\u001b[49m\u001b[43m,\u001b[49m\n\u001b[1;32m   1885\u001b[0m \u001b[43m    \u001b[49m\u001b[43mmemory_map\u001b[49m\u001b[38;5;241;43m=\u001b[39;49m\u001b[38;5;28;43mself\u001b[39;49m\u001b[38;5;241;43m.\u001b[39;49m\u001b[43moptions\u001b[49m\u001b[38;5;241;43m.\u001b[39;49m\u001b[43mget\u001b[49m\u001b[43m(\u001b[49m\u001b[38;5;124;43m\"\u001b[39;49m\u001b[38;5;124;43mmemory_map\u001b[39;49m\u001b[38;5;124;43m\"\u001b[39;49m\u001b[43m,\u001b[49m\u001b[43m \u001b[49m\u001b[38;5;28;43;01mFalse\u001b[39;49;00m\u001b[43m)\u001b[49m\u001b[43m,\u001b[49m\n\u001b[1;32m   1886\u001b[0m \u001b[43m    \u001b[49m\u001b[43mis_text\u001b[49m\u001b[38;5;241;43m=\u001b[39;49m\u001b[43mis_text\u001b[49m\u001b[43m,\u001b[49m\n\u001b[1;32m   1887\u001b[0m \u001b[43m    \u001b[49m\u001b[43merrors\u001b[49m\u001b[38;5;241;43m=\u001b[39;49m\u001b[38;5;28;43mself\u001b[39;49m\u001b[38;5;241;43m.\u001b[39;49m\u001b[43moptions\u001b[49m\u001b[38;5;241;43m.\u001b[39;49m\u001b[43mget\u001b[49m\u001b[43m(\u001b[49m\u001b[38;5;124;43m\"\u001b[39;49m\u001b[38;5;124;43mencoding_errors\u001b[39;49m\u001b[38;5;124;43m\"\u001b[39;49m\u001b[43m,\u001b[49m\u001b[43m \u001b[49m\u001b[38;5;124;43m\"\u001b[39;49m\u001b[38;5;124;43mstrict\u001b[39;49m\u001b[38;5;124;43m\"\u001b[39;49m\u001b[43m)\u001b[49m\u001b[43m,\u001b[49m\n\u001b[1;32m   1888\u001b[0m \u001b[43m    \u001b[49m\u001b[43mstorage_options\u001b[49m\u001b[38;5;241;43m=\u001b[39;49m\u001b[38;5;28;43mself\u001b[39;49m\u001b[38;5;241;43m.\u001b[39;49m\u001b[43moptions\u001b[49m\u001b[38;5;241;43m.\u001b[39;49m\u001b[43mget\u001b[49m\u001b[43m(\u001b[49m\u001b[38;5;124;43m\"\u001b[39;49m\u001b[38;5;124;43mstorage_options\u001b[39;49m\u001b[38;5;124;43m\"\u001b[39;49m\u001b[43m,\u001b[49m\u001b[43m \u001b[49m\u001b[38;5;28;43;01mNone\u001b[39;49;00m\u001b[43m)\u001b[49m\u001b[43m,\u001b[49m\n\u001b[1;32m   1889\u001b[0m \u001b[43m\u001b[49m\u001b[43m)\u001b[49m\n\u001b[1;32m   1890\u001b[0m \u001b[38;5;28;01massert\u001b[39;00m \u001b[38;5;28mself\u001b[39m\u001b[38;5;241m.\u001b[39mhandles \u001b[38;5;129;01mis\u001b[39;00m \u001b[38;5;129;01mnot\u001b[39;00m \u001b[38;5;28;01mNone\u001b[39;00m\n\u001b[1;32m   1891\u001b[0m f \u001b[38;5;241m=\u001b[39m \u001b[38;5;28mself\u001b[39m\u001b[38;5;241m.\u001b[39mhandles\u001b[38;5;241m.\u001b[39mhandle\n",
      "File \u001b[0;32m~/.local/lib/python3.10/site-packages/pandas/io/common.py:873\u001b[0m, in \u001b[0;36mget_handle\u001b[0;34m(path_or_buf, mode, encoding, compression, memory_map, is_text, errors, storage_options)\u001b[0m\n\u001b[1;32m    868\u001b[0m \u001b[38;5;28;01melif\u001b[39;00m \u001b[38;5;28misinstance\u001b[39m(handle, \u001b[38;5;28mstr\u001b[39m):\n\u001b[1;32m    869\u001b[0m     \u001b[38;5;66;03m# Check whether the filename is to be opened in binary mode.\u001b[39;00m\n\u001b[1;32m    870\u001b[0m     \u001b[38;5;66;03m# Binary mode does not support 'encoding' and 'newline'.\u001b[39;00m\n\u001b[1;32m    871\u001b[0m     \u001b[38;5;28;01mif\u001b[39;00m ioargs\u001b[38;5;241m.\u001b[39mencoding \u001b[38;5;129;01mand\u001b[39;00m \u001b[38;5;124m\"\u001b[39m\u001b[38;5;124mb\u001b[39m\u001b[38;5;124m\"\u001b[39m \u001b[38;5;129;01mnot\u001b[39;00m \u001b[38;5;129;01min\u001b[39;00m ioargs\u001b[38;5;241m.\u001b[39mmode:\n\u001b[1;32m    872\u001b[0m         \u001b[38;5;66;03m# Encoding\u001b[39;00m\n\u001b[0;32m--> 873\u001b[0m         handle \u001b[38;5;241m=\u001b[39m \u001b[38;5;28;43mopen\u001b[39;49m\u001b[43m(\u001b[49m\n\u001b[1;32m    874\u001b[0m \u001b[43m            \u001b[49m\u001b[43mhandle\u001b[49m\u001b[43m,\u001b[49m\n\u001b[1;32m    875\u001b[0m \u001b[43m            \u001b[49m\u001b[43mioargs\u001b[49m\u001b[38;5;241;43m.\u001b[39;49m\u001b[43mmode\u001b[49m\u001b[43m,\u001b[49m\n\u001b[1;32m    876\u001b[0m \u001b[43m            \u001b[49m\u001b[43mencoding\u001b[49m\u001b[38;5;241;43m=\u001b[39;49m\u001b[43mioargs\u001b[49m\u001b[38;5;241;43m.\u001b[39;49m\u001b[43mencoding\u001b[49m\u001b[43m,\u001b[49m\n\u001b[1;32m    877\u001b[0m \u001b[43m            \u001b[49m\u001b[43merrors\u001b[49m\u001b[38;5;241;43m=\u001b[39;49m\u001b[43merrors\u001b[49m\u001b[43m,\u001b[49m\n\u001b[1;32m    878\u001b[0m \u001b[43m            \u001b[49m\u001b[43mnewline\u001b[49m\u001b[38;5;241;43m=\u001b[39;49m\u001b[38;5;124;43m\"\u001b[39;49m\u001b[38;5;124;43m\"\u001b[39;49m\u001b[43m,\u001b[49m\n\u001b[1;32m    879\u001b[0m \u001b[43m        \u001b[49m\u001b[43m)\u001b[49m\n\u001b[1;32m    880\u001b[0m     \u001b[38;5;28;01melse\u001b[39;00m:\n\u001b[1;32m    881\u001b[0m         \u001b[38;5;66;03m# Binary mode\u001b[39;00m\n\u001b[1;32m    882\u001b[0m         handle \u001b[38;5;241m=\u001b[39m \u001b[38;5;28mopen\u001b[39m(handle, ioargs\u001b[38;5;241m.\u001b[39mmode)\n",
      "\u001b[0;31mFileNotFoundError\u001b[0m: [Errno 2] No such file or directory: 'CTC-SP2_ACTUAL_22_10.csv'"
     ]
    }
   ],
   "source": [
    "df=[]\n",
    "\n",
    "# Lire le fichier CSV\n",
    "df.append(pd.read_csv('CTC-SP2_ACTUAL_22_10.csv'))\n",
    "df.append(pd.read_csv('CTC-SP2_ESTIMATED_22_10.csv'))\n",
    "df.append(pd.read_csv('SDSC-BLUE_ACTUAL_64_10.csv'))\n",
    "df.append(pd.read_csv('SDSC-BLUE_ESTIMATED_64_10.csv'))\n",
    "df.append(pd.read_csv('LUBLIN 256_ACTUAL_50_10.csv'))\n",
    "df.append(pd.read_csv('LUBLIN 256_ESTIMATED_50_10.csv'))\n",
    "title= ['CTC-SP2_ACTUAL_22','CTC-SP2_ESTIMATED_22','SDSC-BLUE_ACTUAL_64','SDSC-BLUE_ESTIMATED_64','LUBLIN 256_ACTUAL_50','LUBLIN 256_ESTIMATED_50']\n",
    "names=[\"LIN\",\"S3_V1_D3\",\"S3_V2_D1\",\"S3_V10_D1\",\"S3_V10_D4\",\"S4_V7_D1\",\"S4_V4_D3\",\"S4_V9_D2\",\"S4_V3_D1\",\"S4_V9_D4\"]\n",
    "# Créer une figure avec des sous-graphiques (2 lignes, 3 colonnes)\n",
    "fig, axes = plt.subplots(nrows=3, ncols=2, figsize=(30, 20))\n",
    "i=0\n",
    "# Boucle sur chaque subplot\n",
    "for ax in axes.flatten():\n",
    "    ax.boxplot(df[i],labels=names)\n",
    "    ax.set_title(title[i])\n",
    "    ax.set_xlabel(\"Policies\")\n",
    "    ax.set_ylabel(\"AVGBSLD\")\n",
    "    i=i+1\n",
    "\n",
    "# Ajuster les espaces entre les subplots\n",
    "plt.tight_layout()\n",
    "\n",
    "# Sauvegarder la figure dans les deux formats\n",
    "#plt.savefig(\"../../images/Final_Tester_analysis_SER.pdf\")\n",
    "#plt.savefig(\"../../images/Final_Tester_analysis_SER.png\")\n",
    "# Afficher la figure\n",
    "plt.show()"
   ]
  },
  {
   "cell_type": "code",
   "execution_count": 13,
   "metadata": {},
   "outputs": [
    {
     "name": "stdout",
     "output_type": "stream",
     "text": [
      "######################1#######################\n"
     ]
    },
    {
     "name": "stderr",
     "output_type": "stream",
     "text": [
      "Progression :: 100%|██████████| 5000/5000 [05:21<00:00, 15.55it/s]"
     ]
    },
    {
     "name": "stdout",
     "output_type": "stream",
     "text": [
      "[1.0287870543011561, 1.0312455020718834, 1.031980693477386, 1.0321204244934132, 1.035751963309563, 1.0389485000788778, 1.051179673166523, 1.0536546065645966, 1.057073777164388, 1.0637667931174641, 1.0660656954563514, 1.0676151611546802, 1.074217990662081, 1.076908973557082, 1.090865460512765, 1.092145141306637, 1.0926148636639472, 1.123081305180854, 1.1233503155274416, 1.1385330621673222]\n",
      "[('sqrt(r)', 'q4', 'p3r', 'r4q'), ('sqrt(r)', 'q3p', 'p4q', 'r4p'), ('sqrt(r)', 'q3p', 'p3r', 'r4p'), ('sqrt(r)', 'q4', 'p4q', 'r4p'), ('sqrt(r)', 'q2p', 'p3r', 'r4q'), ('sqrt(r)', 'q3', 'p4q', 'r4p'), ('sqrt(r)', 'q2p', 'p4q', 'r4q'), ('sqrt(p)', 'r3', 'p4r', 'q4r'), ('sqrt(r)', 'r3p', 'p4r', 'q4r'), ('sqrt(r)', 'p3q', 'q3r', 'r4p'), ('sqrt(p)', 'q3r', 'p4q', 'r4p'), ('sqrt(p)', 'r4', 'p3q', 'q3r'), ('sqrt(r)', 'p1q', 'r3q', 'p4r'), ('sqrt(r)', 'r4', 'q2r', 'p4r'), ('r1', 'p2q', 'p3r', 'r4p'), ('sqrt(r)', 'p2', 'q4', 'r4'), ('sqrt(p)', 'r3', 'q2r', 'p4r'), ('sqrt(r)', 'q3', 'r3', 'p3q'), ('r1', 'q2p', 'r2q', 'p4r'), ('sqrt(p)', 'p3', 'q4', 'r4p')]\n"
     ]
    },
    {
     "name": "stderr",
     "output_type": "stream",
     "text": [
      "\n"
     ]
    }
   ],
   "source": [
    "import seaborn as sns\n",
    "history=[]\n",
    "names=[]\n",
    "print(\"######################1#######################\")\n",
    "grid_search(features,4,1 )\n",
    "\n",
    "\n"
   ]
  },
  {
   "cell_type": "code",
   "execution_count": 14,
   "metadata": {},
   "outputs": [
    {
     "name": "stdout",
     "output_type": "stream",
     "text": [
      "######################2#######################\n"
     ]
    },
    {
     "name": "stderr",
     "output_type": "stream",
     "text": [
      "Progression :: 100%|██████████| 5000/5000 [05:37<00:00, 14.80it/s]"
     ]
    },
    {
     "name": "stdout",
     "output_type": "stream",
     "text": [
      "[2.000059410727451, 2.000071618704905, 2.0013299291605047, 2.0014162432075886, 2.002515132154139, 2.006002127524046, 2.006423156141382, 2.0067932953780296, 2.0114034450178306, 2.012187650708728, 2.01287766250069, 2.012887781225941, 2.0232693479567243, 2.027048089294582, 2.029735969870951, 2.044632207518928, 2.075875261345582, 2.0760610540036697, 2.0869802959265313, 2.0901683300000538]\n",
      "[('p1q', 'q1r', 'p3q', 'r4q'), ('p2', 'p1r', 'r2q', 'r3p'), ('p2q', 'p2r', 'r2p', 'q4p'), ('q1', 'r1', 'r2q', 'q4p'), ('sqrt(q)', 'p2', 'p1q', 'q1r'), ('q1', 'q3p', 'p4q', 'r4q'), ('p2', 'p2r', 'r2q', 'r4p'), ('p2', 'p2r', 'q4p', 'r4p'), ('sqrt(p)', 'q2', 'p3', 'p3r'), ('sqrt(q)', 'p1q', 'q1r', 'r2p'), ('r4', 'r3q', 'p4q', 'q4r'), ('r4', 'p2r', 'r3q', 'q4r'), ('p1', 'p3', 'p1r', 'r3q'), ('p4', 'r4', 'p4r', 'r4q'), ('p2', 'p2q', 'p3r', 'r4q'), ('q1', 'q2r', 'p3q', 'q4p'), ('sqrt(q)', 'r1', 'r3', 'r2p'), ('q1', 'r3p', 'q3r', 'r4q'), ('p3', 'p2q', 'p3r', 'q4r'), ('q1', 'p1r', 'q3p', 'p3r')]\n"
     ]
    },
    {
     "name": "stderr",
     "output_type": "stream",
     "text": [
      "\n"
     ]
    }
   ],
   "source": [
    "history=[]\n",
    "names=[]\n",
    "print(\"######################2#######################\")\n",
    "grid_search(features,4,2 )\n"
   ]
  },
  {
   "cell_type": "code",
   "execution_count": 15,
   "metadata": {},
   "outputs": [
    {
     "name": "stdout",
     "output_type": "stream",
     "text": [
      "######################3#######################\n"
     ]
    },
    {
     "name": "stderr",
     "output_type": "stream",
     "text": [
      "Progression ::   0%|          | 0/5000 [00:00<?, ?it/s]"
     ]
    },
    {
     "name": "stderr",
     "output_type": "stream",
     "text": [
      "Progression :: 100%|██████████| 5000/5000 [05:58<00:00, 13.93it/s]"
     ]
    },
    {
     "name": "stdout",
     "output_type": "stream",
     "text": [
      "[3.003344562357446, 3.007621918971203, 3.007902292118798, 3.0084567214643867, 3.0085601555647004, 3.0190801273276504, 3.0267470963511873, 3.0279010555120562, 3.028379812973821, 3.0367562935729633, 3.0437686230512853, 3.045908482666762, 3.0802682517342768, 3.1168958838698813, 3.139336953730485, 3.140687966522219, 3.155259791346255, 3.160052853924712, 3.177995398850287, 3.25845313641869]\n",
      "[('sqrt(p)', 'sqrt(r)', 'q1r', 'r2q'), ('sqrt(p)', 'q3', 'r3', 'p1q'), ('sqrt(p)', 'q3', 'p1q', 'q3r'), ('sqrt(p)', 'sqrt(q)', 'q2', 'q1r'), ('sqrt(q)', 'r1', 'p1r', 'p2r'), ('q2', 'p1q', 'p2r', 'r4p'), ('q1', 'p3', 'p1q', 'p4r'), ('q1', 'p3', 'q1r', 'q2p'), ('p3', 'q3', 'q2r', 'r3q'), ('r4', 'q1r', 'p2q', 'q4r'), ('q2', 'p2r', 'r3p', 'q4p'), ('q1', 'p1q', 'p2r', 'r3q'), ('q2p', 'p2r', 'r2q', 'q3r'), ('q2', 'q2r', 'r3q', 'p4r'), ('q1', 'p3', 'p1q', 'q4r'), ('q1', 'r1', 'p1q', 'r2q'), ('p3', 'q3', 'q1r', 'q4r'), ('r2', 'p1q', 'r3p', 'q4p'), ('r1', 'r2', 'q1r', 'r3q'), ('sqrt(q)', 'p2q', 'q2p', 'q3r')]\n"
     ]
    },
    {
     "name": "stderr",
     "output_type": "stream",
     "text": [
      "\n"
     ]
    }
   ],
   "source": [
    "history=[]\n",
    "names=[]\n",
    "print(\"######################3#######################\")\n",
    "grid_search(features,4,3 )"
   ]
  },
  {
   "cell_type": "code",
   "execution_count": 16,
   "metadata": {},
   "outputs": [
    {
     "name": "stdout",
     "output_type": "stream",
     "text": [
      "######################4#######################\n"
     ]
    },
    {
     "name": "stderr",
     "output_type": "stream",
     "text": [
      "Progression :: 100%|██████████| 5000/5000 [06:33<00:00, 12.71it/s]"
     ]
    },
    {
     "name": "stdout",
     "output_type": "stream",
     "text": [
      "[4.002218561560183, 4.003369550936127, 4.006050936423689, 4.009117478535489, 4.016728354196551, 4.033750845718566, 4.0714642971831285, 4.08150538220368, 4.098770644493258, 4.101001329414588, 4.1139311892720904, 4.15310954744645, 4.164818978616155, 4.190444703163091, 4.21520426360896, 4.255175019014491, 4.268644235728073, 4.343412991472145, 4.394086524202578, 4.41223967664902]\n",
      "[('q2', 'r2', 'p1q', 'q4p'), ('p2r', 'q2r', 'p4r', 'r4p'), ('q2', 'q2r', 'q3p', 'p3r'), ('q2', 'p2r', 'q2r', 'q3p'), ('q1', 'p1q', 'p3q', 'q4r'), ('sqrt(r)', 'q4', 'r2q', 'q3r'), ('q1r', 'r2p', 'p3q', 'r4p'), ('q1', 'q1r', 'q4p', 'q4r'), ('p1', 'q1', 'q3', 'q4r'), ('q3', 'p1r', 'p3q', 'q4p'), ('q2', 'q1r', 'q3p', 'p3r'), ('p2', 'p4', 'p4q', 'r4p'), ('r2', 'p1q', 'r2q', 'q3p'), ('q3', 'q1r', 'r2q', 'q4r'), ('r2', 'r4', 'r4p', 'q4r'), ('r2', 'p4', 'p1q', 'q3p'), ('p2', 'p4', 'p3r', 'r3p'), ('q3', 'r4', 'q3r', 'q4p'), ('q2', 'q2r', 'q3p', 'r3q'), ('p2', 'p4', 'p2r', 'r4q')]\n"
     ]
    },
    {
     "name": "stderr",
     "output_type": "stream",
     "text": [
      "\n"
     ]
    }
   ],
   "source": [
    "history=[]\n",
    "names=[]\n",
    "print(\"######################4#######################\")\n",
    "grid_search(features,4,4 )"
   ]
  },
  {
   "cell_type": "code",
   "execution_count": 17,
   "metadata": {},
   "outputs": [
    {
     "name": "stdout",
     "output_type": "stream",
     "text": [
      "######################5#######################\n"
     ]
    },
    {
     "name": "stderr",
     "output_type": "stream",
     "text": [
      "Progression ::   0%|          | 0/5000 [00:00<?, ?it/s]"
     ]
    },
    {
     "name": "stderr",
     "output_type": "stream",
     "text": [
      "Progression :: 100%|██████████| 5000/5000 [06:24<00:00, 13.01it/s]"
     ]
    },
    {
     "name": "stdout",
     "output_type": "stream",
     "text": [
      "[5.002237612567747, 5.005769872036266, 5.014783122081443, 5.02607346171365, 5.027655468723662, 5.036020584907134, 5.043809961001894, 5.051758785544901, 5.141178907629399, 5.149305172655287, 5.184231614809574, 5.2433066357091525, 5.34387552306147, 5.466751174837127, 5.537472440637525, 5.54524923883312, 5.553962356505731, 5.600843607904874, 5.612642948785637, 5.683749634993166]\n",
      "[('sqrt(q)', 'q1', 'p3', 'p3r'), ('sqrt(q)', 'q1', 'r4', 'p3r'), ('sqrt(p)', 'q1', 'q3', 'q1r'), ('sqrt(q)', 'q1', 'p3', 'r2p'), ('p1q', 'p1r', 'q3p', 'r3p'), ('sqrt(q)', 'q1', 'r2q', 'p4r'), ('q1', 'p2q', 'p2r', 'p3q'), ('p2', 'p4', 'p1r', 'r2q'), ('sqrt(q)', 'q2', 'p2q', 'p3q'), ('sqrt(q)', 'sqrt(r)', 'q1r', 'q3r'), ('sqrt(r)', 'r2', 'r4', 'r2q'), ('sqrt(q)', 'q1', 'p1r', 'p4r'), ('q2', 'p2q', 'r2p', 'q3p'), ('sqrt(q)', 'p1r', 'q1r', 'q3r'), ('p2q', 'p2r', 'r2p', 'r4p'), ('p2r', 'r2p', 'r3q', 'r4p'), ('sqrt(q)', 'q1', 'p2q', 'p4r'), ('q3', 'p2q', 'r3p', 'q4p'), ('sqrt(q)', 'q1', 'p3', 'q1r'), ('p1', 'p1r', 'r2p', 'q3r')]\n"
     ]
    },
    {
     "name": "stderr",
     "output_type": "stream",
     "text": [
      "\n"
     ]
    }
   ],
   "source": [
    "print(\"######################5#######################\")\n",
    "grid_search(features,4,5 )"
   ]
  },
  {
   "cell_type": "code",
   "execution_count": 18,
   "metadata": {},
   "outputs": [
    {
     "name": "stdout",
     "output_type": "stream",
     "text": [
      "######################6#######################\n"
     ]
    },
    {
     "name": "stderr",
     "output_type": "stream",
     "text": [
      "Progression :: 100%|██████████| 5000/5000 [05:30<00:00, 15.12it/s]"
     ]
    },
    {
     "name": "stdout",
     "output_type": "stream",
     "text": [
      "[6.031701941921291, 6.0331502146742535, 6.0570764125327585, 6.077922161028182, 6.107292396649223, 6.148434907067311, 6.173450906787373, 6.28435497983934, 6.348434225931716, 6.361620863269356, 6.376649509239091, 6.766794211324725, 6.793561040262742, 6.8153612943206365, 6.989431878416813, 7.154547133391449, 7.2077741761537135, 7.213174209732539, 7.42278641582371, 7.4521305134045255]\n",
      "[('sqrt(q)', 'r2q', 'p4r', 'r4q'), ('sqrt(q)', 'p1', 'r2q', 'r4q'), ('sqrt(r)', 'r1', 'p1q', 'r2q'), ('sqrt(r)', 'p1', 'r1', 'q3'), ('q1', 'p1q', 'q3p', 'r4p'), ('sqrt(r)', 'r1', 'r3p', 'q4r'), ('p1r', 'r2q', 'r3p', 'r4q'), ('sqrt(q)', 'q1', 'q1r', 'r2q'), ('p1', 'p2q', 'q2p', 'p4q'), ('p1', 'p1q', 'p1r', 'q3p'), ('p1', 'p1r', 'r2p', 'p3r'), ('q4', 'p2r', 'p3r', 'r3q'), ('q1', 'q2', 'r4', 'q1r'), ('q1', 'p2r', 'p3r', 'q4p'), ('q1', 'q3', 'p4q', 'q4p'), ('q1r', 'r2p', 'q2r', 'r4q'), ('q1', 'p3', 'q1r', 'q2r'), ('p1', 'q1', 'q2', 'p4r'), ('q1', 'q2', 'r3', 'q4r'), ('sqrt(p)', 'p1', 'r2p', 'q4p')]\n"
     ]
    },
    {
     "name": "stderr",
     "output_type": "stream",
     "text": [
      "\n"
     ]
    }
   ],
   "source": [
    "print(\"######################6#######################\")\n",
    "grid_search(features,4,6 )"
   ]
  },
  {
   "cell_type": "code",
   "execution_count": 19,
   "metadata": {},
   "outputs": [
    {
     "name": "stdout",
     "output_type": "stream",
     "text": [
      "######################7#######################\n"
     ]
    },
    {
     "name": "stderr",
     "output_type": "stream",
     "text": [
      "Progression :: 100%|██████████| 5000/5000 [05:43<00:00, 14.54it/s]"
     ]
    },
    {
     "name": "stdout",
     "output_type": "stream",
     "text": [
      "[7.026775777692158, 7.04161864285452, 7.048631895035768, 7.0672517543885425, 7.0676317672702975, 7.145511531251649, 7.156450856019236, 7.19374271824105, 7.237984647651886, 7.272132632859394, 7.337942927712147, 7.409376466950774, 7.426283343712163, 7.556677784135376, 7.556749038649533, 7.575737267331288, 7.577266478324633, 7.66930449600513, 7.890647544180766, 7.904312672721984]\n",
      "[('q1', 'p2r', 'r2q', 'p3r'), ('r4', 'p2r', 'q3p', 'p3r'), ('sqrt(p)', 'sqrt(r)', 'r1', 'q4'), ('sqrt(p)', 'q1r', 'p2q', 'q2r'), ('sqrt(q)', 'p2r', 'p3r', 'r3q'), ('q1', 'q2', 'q3r', 'p4r'), ('q1', 'q4', 'p2q', 'q4p'), ('q1r', 'q2p', 'p2r', 'p3r'), ('r2', 'p2r', 'p3r', 'r4q'), ('p2', 'q2', 'p2r', 'p3r'), ('q1', 'r1', 'q2', 'r4'), ('p2', 'p3', 'q4', 'r3p'), ('p2', 'p3', 'q1r', 'r4p'), ('p2', 'q2', 'r2', 'p3'), ('q4', 'q1r', 'q2p', 'q2r'), ('sqrt(p)', 'p1', 'r2', 'q2p'), ('p1r', 'q1r', 'q2p', 'q2r'), ('p2', 'p3', 'r2q', 'q3p'), ('r2', 'r3', 'p3q', 'q3r'), ('r2', 'p3', 'r3', 'q2p')]\n"
     ]
    },
    {
     "name": "stderr",
     "output_type": "stream",
     "text": [
      "\n"
     ]
    }
   ],
   "source": [
    "print(\"######################7#######################\")\n",
    "grid_search(features,4,7 )"
   ]
  },
  {
   "cell_type": "code",
   "execution_count": 20,
   "metadata": {},
   "outputs": [
    {
     "name": "stdout",
     "output_type": "stream",
     "text": [
      "######################8#######################\n"
     ]
    },
    {
     "name": "stderr",
     "output_type": "stream",
     "text": [
      "Progression :: 100%|██████████| 5000/5000 [05:30<00:00, 15.13it/s]"
     ]
    },
    {
     "name": "stdout",
     "output_type": "stream",
     "text": [
      "[8.002856869713938, 8.006638171407525, 8.008675707154966, 8.010176503600068, 8.01233197803621, 8.020608145616507, 8.040110243689492, 8.064086591307143, 8.128686843248348, 8.264540605794723, 8.33765431183443, 8.364882610193899, 8.471162553772746, 8.49647001399048, 8.50659363865125, 8.530863167663098, 8.56967837211058, 8.66443916586115, 8.815618155590611, 8.873138185975373]\n",
      "[('sqrt(p)', 'q3', 'p1q', 'q3p'), ('r2', 'r3', 'p2r', 'p4q'), ('r2', 'r3', 'q4', 'p2r'), ('p2', 'p3', 'p2r', 'p3q'), ('sqrt(r)', 'p2', 'p3', 'r2p'), ('sqrt(p)', 'p1', 'q1r', 'q2r'), ('r2', 'r3', 'p1q', 'p2r'), ('q1', 'p2', 'p3', 'r2p'), ('sqrt(p)', 'q1', 'q2', 'r4'), ('r2', 'r3', 'r2q', 'q3r'), ('sqrt(r)', 'r1', 'q3', 'r4'), ('r2p', 'r3p', 'p4q', 'q4r'), ('p4', 'q4', 'r2p', 'r3p'), ('p2q', 'r2p', 'r3p', 'q4r'), ('sqrt(q)', 'p2', 'q1r', 'q2r'), ('r2q', 'r3p', 'q4r', 'r4q'), ('p2q', 'r2p', 'q2r', 'r3p'), ('p4', 'p1q', 'q2p', 'r4q'), ('q1r', 'q2p', 'r2p', 'r3p'), ('p2', 'p3', 'q2p', 'p4q')]\n"
     ]
    },
    {
     "name": "stderr",
     "output_type": "stream",
     "text": [
      "\n"
     ]
    }
   ],
   "source": [
    "print(\"######################8#######################\")\n",
    "grid_search(features,4,8 )"
   ]
  },
  {
   "cell_type": "code",
   "execution_count": 21,
   "metadata": {},
   "outputs": [
    {
     "name": "stdout",
     "output_type": "stream",
     "text": [
      "######################9#######################\n"
     ]
    },
    {
     "name": "stderr",
     "output_type": "stream",
     "text": [
      "Progression :: 100%|██████████| 5000/5000 [05:31<00:00, 15.06it/s]"
     ]
    },
    {
     "name": "stdout",
     "output_type": "stream",
     "text": [
      "[9.003829095595474, 9.007678063880148, 9.024407680393098, 9.039962433019605, 9.040207888457898, 9.055692136709117, 9.05591038334009, 9.056009633408298, 9.06947371257529, 9.09922585488753, 9.099903094359679, 9.17367942217757, 9.216351737309482, 9.243044805728706, 9.414647356459627, 9.601968165133822, 9.714971210594964, 9.821971766523607, 9.824595819625468, 10.09213693000002]\n",
      "[('p1q', 'q2p', 'p3r', 'p4q'), ('p1q', 'q2p', 'r2q', 'p4q'), ('sqrt(p)', 'p1', 'r3', 'p4r'), ('sqrt(p)', 'p1', 'q2r', 'p4r'), ('sqrt(q)', 'q1', 'p4', 'p1q'), ('p2q', 'p2r', 'p3q', 'q3p'), ('q3', 'p2q', 'q2p', 'r4p'), ('q3', 'r3', 'p2q', 'q2p'), ('r2', 'p3', 'r3', 'r3p'), ('p1', 'q4', 'p2r', 'p3r'), ('r2p', 'r2q', 'q4r', 'r4q'), ('sqrt(q)', 'p2', 'r2p', 'r3p'), ('p2', 'r2p', 'r3p', 'r3q'), ('p2', 'r3', 'r2p', 'r3p'), ('sqrt(p)', 'p1', 'q1', 'p1q'), ('q2', 'r3', 'p1q', 'p2q'), ('r1', 'r2q', 'p3q', 'p4q'), ('sqrt(p)', 'p1', 'r1', 'p4r'), ('r2p', 'p3r', 'r3p', 'p4q'), ('r2', 'q1r', 'p3q', 'p4q')]\n"
     ]
    },
    {
     "name": "stderr",
     "output_type": "stream",
     "text": [
      "\n"
     ]
    }
   ],
   "source": [
    "print(\"######################9#######################\")\n",
    "grid_search(features,4,9 )"
   ]
  },
  {
   "cell_type": "code",
   "execution_count": 22,
   "metadata": {},
   "outputs": [
    {
     "name": "stdout",
     "output_type": "stream",
     "text": [
      "######################10#######################\n"
     ]
    },
    {
     "name": "stderr",
     "output_type": "stream",
     "text": [
      "Progression :: 100%|██████████| 5000/5000 [06:34<00:00, 12.67it/s]"
     ]
    },
    {
     "name": "stdout",
     "output_type": "stream",
     "text": [
      "[10.005968332383697, 10.020791523196658, 10.023161714139219, 10.032180441717477, 10.032302105097525, 10.03307161391912, 10.07887176196019, 10.231299243813217, 10.277805907688053, 10.559857871557048, 10.564186777763151, 10.913509524825292, 10.932194819195765, 11.204511242671323, 11.438876246380005, 11.457207507221822, 11.536361886434005, 11.735088128734642, 11.898676001617496, 11.957539639694714]\n",
      "[('p2', 'p1q', 'q2p', 'p3r'), ('p2r', 'p3q', 'q3r', 'p4q'), ('p3q', 'p4q', 'q4r', 'r4q'), ('p2', 'p3q', 'r3p', 'p4q'), ('p2', 'r4', 'r2p', 'r3p'), ('r2', 'p1r', 'p3q', 'p4q'), ('q1', 'q2', 'p1r', 'q2p'), ('q2r', 'r2q', 'p3q', 'p4q'), ('sqrt(p)', 'p4', 'p2r', 'p3r'), ('q3', 'p4', 'p2q', 'q2p'), ('q1r', 'r2p', 'p3r', 'r3p'), ('r1', 'r2', 'r4', 'p4r'), ('q1', 'p3q', 'r3q', 'p4q'), ('p4', 'p3q', 'p3r', 'p4q'), ('q1', 'q2', 'r4', 'q3p'), ('sqrt(p)', 'sqrt(r)', 'p1', 'p3q'), ('sqrt(q)', 'p1q', 'q2p', 'p3r'), ('p4', 'r2q', 'r3p', 'r3q'), ('q2', 'q4', 'p2r', 'p3r'), ('p1', 'r2q', 'p3q', 'r3q')]\n"
     ]
    },
    {
     "name": "stderr",
     "output_type": "stream",
     "text": [
      "\n"
     ]
    }
   ],
   "source": [
    "print(\"######################10#######################\")\n",
    "grid_search(features,4,10 )"
   ]
  },
  {
   "cell_type": "code",
   "execution_count": 12,
   "metadata": {},
   "outputs": [
    {
     "name": "stderr",
     "output_type": "stream",
     "text": [
      "Progression :: 100%|██████████████████████████████████████████████████████████████████████████████████████████████████████████████████████████████████████████████████████| 630/630 [00:11<00:00, 56.43it/s]"
     ]
    },
    {
     "name": "stdout",
     "output_type": "stream",
     "text": [
      "[1.0000000687381108, 1.0000003845348913, 1.0000007016175474, 1.0000009714029523, 1.000001195608339]\n",
      "[('p4', 'r4q'), ('p4', 'r3q'), ('r4', 'p4q'), ('p4q', 'r4q'), ('p4', 'r4')]\n"
     ]
    },
    {
     "name": "stderr",
     "output_type": "stream",
     "text": [
      "\n"
     ]
    },
    {
     "data": {
      "text/plain": [
       "<Figure size 4000x1000 with 0 Axes>"
      ]
     },
     "metadata": {},
     "output_type": "display_data"
    }
   ],
   "source": [
    "history=[]\n",
    "names=[]\n",
    "grid_search(features,2 )\n",
    "plt.figure(figsize=(40, 10))\n",
    "data=pd.DataFrame(zip(history,names),columns=['VIF','NAME'])\n",
    "data=data.sort_values('VIF')"
   ]
  },
  {
   "cell_type": "code",
   "execution_count": 29,
   "metadata": {},
   "outputs": [
    {
     "name": "stdout",
     "output_type": "stream",
     "text": [
      "1.7320508075688772\n"
     ]
    }
   ],
   "source": [
    "print(9**(1/4))"
   ]
  },
  {
   "cell_type": "code",
   "execution_count": 33,
   "metadata": {},
   "outputs": [
    {
     "name": "stdout",
     "output_type": "stream",
     "text": [
      "1.2727812286448872\n"
     ]
    }
   ],
   "source": [
    "print(np.max(compute_vif(features)[\"VIF\"]))"
   ]
  },
  {
   "cell_type": "code",
   "execution_count": 119,
   "metadata": {},
   "outputs": [
    {
     "ename": "IndexError",
     "evalue": "tuple index out of range",
     "output_type": "error",
     "traceback": [
      "\u001b[0;31m---------------------------------------------------------------------------\u001b[0m",
      "\u001b[0;31mIndexError\u001b[0m                                Traceback (most recent call last)",
      "Cell \u001b[0;32mIn[119], line 1\u001b[0m\n\u001b[0;32m----> 1\u001b[0m \u001b[43mcompute_vif\u001b[49m\u001b[43m(\u001b[49m\u001b[43mfeatures\u001b[49m\u001b[43m[\u001b[49m\u001b[38;5;124;43m'\u001b[39;49m\u001b[38;5;124;43mp\u001b[39;49m\u001b[38;5;124;43m'\u001b[39;49m\u001b[43m]\u001b[49m\u001b[38;5;241;43m*\u001b[39;49m\u001b[43mfeatures\u001b[49m\u001b[43m[\u001b[49m\u001b[38;5;124;43m'\u001b[39;49m\u001b[38;5;124;43mq\u001b[39;49m\u001b[38;5;124;43m'\u001b[39;49m\u001b[43m]\u001b[49m\u001b[43m)\u001b[49m\n",
      "Cell \u001b[0;32mIn[9], line 3\u001b[0m, in \u001b[0;36mcompute_vif\u001b[0;34m(features)\u001b[0m\n\u001b[1;32m      1\u001b[0m \u001b[38;5;28;01mdef\u001b[39;00m \u001b[38;5;21mcompute_vif\u001b[39m(features):\n\u001b[1;32m      2\u001b[0m     vif \u001b[38;5;241m=\u001b[39m pd\u001b[38;5;241m.\u001b[39mDataFrame()\n\u001b[0;32m----> 3\u001b[0m     vif[\u001b[38;5;124m'\u001b[39m\u001b[38;5;124mVIF\u001b[39m\u001b[38;5;124m'\u001b[39m] \u001b[38;5;241m=\u001b[39m [variance_inflation_factor(features\u001b[38;5;241m.\u001b[39mvalues, i) \u001b[38;5;28;01mfor\u001b[39;00m i \u001b[38;5;129;01min\u001b[39;00m \u001b[38;5;28mrange\u001b[39m(\u001b[43mfeatures\u001b[49m\u001b[38;5;241;43m.\u001b[39;49m\u001b[43mshape\u001b[49m\u001b[43m[\u001b[49m\u001b[38;5;241;43m1\u001b[39;49m\u001b[43m]\u001b[49m)]\n\u001b[1;32m      4\u001b[0m     vif[\u001b[38;5;124m'\u001b[39m\u001b[38;5;124mfeature\u001b[39m\u001b[38;5;124m'\u001b[39m] \u001b[38;5;241m=\u001b[39m features\u001b[38;5;241m.\u001b[39mcolumns\n\u001b[1;32m      5\u001b[0m     \u001b[38;5;28;01mreturn\u001b[39;00m vif\n",
      "\u001b[0;31mIndexError\u001b[0m: tuple index out of range"
     ]
    }
   ],
   "source": [
    "compute_vif(features['p']*features['q'])\n"
   ]
  },
  {
   "cell_type": "code",
   "execution_count": 21,
   "metadata": {},
   "outputs": [
    {
     "name": "stderr",
     "output_type": "stream",
     "text": [
      "Progression: 100%|███████████████████████████████████████████████████████████████████████████████████████████████████████████████████████████████████████████████████████████████| 435/435 [00:35<00:00, 12.22it/s]\n"
     ]
    },
    {
     "name": "stdout",
     "output_type": "stream",
     "text": [
      "1.2862065211525044\n",
      "('r3q', 'r4p')\n"
     ]
    }
   ],
   "source": [
    "p=[]\n",
    "for i in range (2,3):\n",
    "    p.append(Process(target=grid_search,args=(features,i)))\n",
    "    p[i-2].start()\n",
    "    \n",
    "for proc in p:\n",
    "    proc.join()\n",
    "    \n",
    "        "
   ]
  },
  {
   "cell_type": "code",
   "execution_count": null,
   "metadata": {},
   "outputs": [],
   "source": [
    "res=only_lin_predictors_pr(features)\n",
    "vif=compute_vif(res)\n",
    "print (vif)\n",
    "print(\"mean = \",np.mean(vif.VIF))"
   ]
  },
  {
   "cell_type": "code",
   "execution_count": null,
   "metadata": {},
   "outputs": [],
   "source": [
    "compute_vif(create_quadratic_polynomial(features))"
   ]
  },
  {
   "cell_type": "code",
   "execution_count": null,
   "metadata": {},
   "outputs": [],
   "source": [
    "compute_vif(create_cubic_polynomial(features))"
   ]
  },
  {
   "cell_type": "code",
   "execution_count": null,
   "metadata": {},
   "outputs": [],
   "source": [
    "compute_vif(create_quartic_polynomial(features))"
   ]
  },
  {
   "cell_type": "code",
   "execution_count": null,
   "metadata": {
    "colab": {
     "base_uri": "https://localhost:8080/",
     "height": 833
    },
    "executionInfo": {
     "elapsed": 364,
     "status": "ok",
     "timestamp": 1669485409514,
     "user": {
      "displayName": "Lucas de Sousa Rosa",
      "userId": "13726313841360537470"
     },
     "user_tz": 180
    },
    "id": "oNtFi_FjBNQw",
    "outputId": "93ba6afa-d738-40da-ac87-21cfba7a8f67"
   },
   "outputs": [],
   "source": [
    "compute_vif(create_quintic_polynomial(features))"
   ]
  },
  {
   "cell_type": "code",
   "execution_count": null,
   "metadata": {
    "id": "ZxAOmB_YEdmj"
   },
   "outputs": [],
   "source": [
    "compute_vif(features)"
   ]
  }
 ],
 "metadata": {
  "colab": {
   "authorship_tag": "ABX9TyPMhh/jmRsvwvTAytBDa8t0",
   "mount_file_id": "1eGwhasuHjhtSeDceCIzNdMx7ImGGeICK",
   "provenance": []
  },
  "kernelspec": {
   "display_name": "Python 3 (ipykernel)",
   "language": "python",
   "name": "python3"
  },
  "language_info": {
   "codemirror_mode": {
    "name": "ipython",
    "version": 3
   },
   "file_extension": ".py",
   "mimetype": "text/x-python",
   "name": "python",
   "nbconvert_exporter": "python",
   "pygments_lexer": "ipython3",
   "version": "3.10.12"
  }
 },
 "nbformat": 4,
 "nbformat_minor": 4
}
