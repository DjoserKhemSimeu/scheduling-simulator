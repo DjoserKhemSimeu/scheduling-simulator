{
 "cells": [
  {
   "cell_type": "code",
   "execution_count": 1,
   "metadata": {
    "executionInfo": {
     "elapsed": 2571,
     "status": "ok",
     "timestamp": 1669484044970,
     "user": {
      "displayName": "Lucas de Sousa Rosa",
      "userId": "13726313841360537470"
     },
     "user_tz": 180
    },
    "id": "ooIH0eUWpw2e"
   },
   "outputs": [
    {
     "name": "stderr",
     "output_type": "stream",
     "text": [
      "/usr/lib/python3/dist-packages/scipy/__init__.py:146: UserWarning: A NumPy version >=1.17.3 and <1.25.0 is required for this version of SciPy (detected version 1.26.4\n",
      "  warnings.warn(f\"A NumPy version >={np_minversion} and <{np_maxversion}\"\n"
     ]
    }
   ],
   "source": [
    "import numpy as np\n",
    "import pandas as pd\n",
    "import matplotlib.pyplot as plt\n",
    "import seaborn as sns\n",
    "import itertools\n",
    "import math\n",
    "from tqdm import tqdm\n",
    "from multiprocessing import Process, Pool\n",
    "from statsmodels.stats.outliers_influence import variance_inflation_factor"
   ]
  },
  {
   "cell_type": "code",
   "execution_count": 2,
   "metadata": {
    "executionInfo": {
     "elapsed": 3,
     "status": "ok",
     "timestamp": 1669484044971,
     "user": {
      "displayName": "Lucas de Sousa Rosa",
      "userId": "13726313841360537470"
     },
     "user_tz": 180
    },
    "id": "_KiyNEaKkdUk"
   },
   "outputs": [],
   "source": [
    "def convert_temporal_data(dataframe):\n",
    "  '''\n",
    "  Convert temporal variables from seconds to hours.\n",
    "\n",
    "  This conversion is necessary. Otherwise, large predictor values (e.g., p^6)\n",
    "  will be irrelevant for OLS.\n",
    "  '''\n",
    "\n",
    "  for column in ['p', 'r']:\n",
    "    dataframe[column] = dataframe[column] / 3600\n",
    "\n",
    "  return dataframe\n",
    "\n",
    "def read_score_distribution(csv_file):\n",
    "  columns = ['p', 'q', 'r', 'score']\n",
    "  distribution = pd.read_csv(csv_file, names=columns)\n",
    "  distribution = convert_temporal_data(distribution)\n",
    "\n",
    "  return distribution"
   ]
  },
  {
   "cell_type": "code",
   "execution_count": 3,
   "metadata": {
    "executionInfo": {
     "elapsed": 3,
     "status": "ok",
     "timestamp": 1669484044971,
     "user": {
      "displayName": "Lucas de Sousa Rosa",
      "userId": "13726313841360537470"
     },
     "user_tz": 180
    },
    "id": "LTLhv17MpNhc"
   },
   "outputs": [],
   "source": [
    "def add_quadratic_predictors(dataframe):\n",
    "  dataframe[['p2', 'q2', 'r2']] = dataframe[['p', 'q', 'r']]**2\n",
    "  dataframe['pq'] = dataframe['p']*dataframe['q']\n",
    "\n",
    "  return dataframe\n",
    "\n",
    "def add_cubic_predictors(dataframe):\n",
    "  dataframe[['p3', 'q3', 'r3']] = dataframe[['p', 'q', 'r']]**3\n",
    "  dataframe['p2q'] = dataframe['p']**2 * dataframe['q']\n",
    "  dataframe['pq2'] = dataframe['p'] * dataframe['q']**2\n",
    "\n",
    "  return dataframe\n",
    "\n",
    "def add_quartic_predictiors(dataframe):\n",
    "  dataframe[['p4', 'q4', 'r4']] = dataframe[['p', 'q', 'r']]**4\n",
    "  dataframe['p3q'] = dataframe['p']**3 * dataframe['q']\n",
    "  dataframe['p2q2'] = dataframe['p']**2 * dataframe['q']**2\n",
    "  dataframe['pq3'] = dataframe['p'] * dataframe['q']**3\n",
    "\n",
    "  return dataframe\n",
    "\n",
    "def add_quintic_predictors(dataframe):\n",
    "  dataframe[['p5', 'q5', 'r5']] = dataframe[['p', 'q', 'r']]**5\n",
    "  dataframe['p4q'] = dataframe['p']**4 * dataframe['q']\n",
    "  dataframe['p3q2'] = dataframe['p']**3 * dataframe['q']**2\n",
    "  dataframe['p2q3'] = dataframe['p']**2 * dataframe['q']**3\n",
    "  dataframe['pq4'] = dataframe['p'] * dataframe['q']**4\n",
    "\n",
    "  return dataframe\n",
    "\n",
    "def add_sextic_predictors(dataframe):\n",
    "  dataframe[['p6', 'q6', 'r6']] = dataframe[['p', 'q', 'r']]**6\n",
    "  dataframe['p5q'] = dataframe['p']**5 * dataframe['q']\n",
    "  dataframe['p4q2'] = dataframe['p']**4 * dataframe['q']**2\n",
    "  dataframe['p3q3'] = dataframe['p']**3 * dataframe['q']**3\n",
    "  dataframe['p2q4'] = dataframe['p']**2 * dataframe['q']**4\n",
    "  dataframe['pq5'] = dataframe['p'] * dataframe['q']**5\n",
    "\n",
    "  return dataframe\n",
    "def only_att_predictors(dataframe):\n",
    "    dataframe[['p2', 'q2', 'r2']] = dataframe[['p', 'q', 'r']]**2\n",
    "    dataframe[['p3', 'q3', 'r3']] = dataframe[['p', 'q', 'r']]**3\n",
    "    dataframe[['p4', 'q4', 'r4']] = dataframe[['p', 'q', 'r']]**4\n",
    "    dataframe[['p5', 'q5', 'r5']] = dataframe[['p', 'q', 'r']]**5\n",
    "    dataframe[['p6', 'q6', 'r6']] = dataframe[['p', 'q', 'r']]**6\n",
    "\n",
    "    return dataframe\n",
    "def only_wq_att_predictors(dataframe):\n",
    "    dataframe[['p2', 'r2']] = dataframe[['p', 'r']]**2\n",
    "    dataframe[['p3',  'r3']] = dataframe[['p', 'r']]**3\n",
    "    dataframe[['p4',  'r4']] = dataframe[['p', 'r']]**4\n",
    "    dataframe[['p5',  'r5']] = dataframe[['p', 'r']]**5\n",
    "    dataframe[['p6',  'r6']] = dataframe[['p', 'r']]**6\n",
    "\n",
    "    return dataframe\n",
    "def only_lin_predictors(dataframe):\n",
    "    dataframe['pq'] = dataframe['p']*dataframe['q']\n",
    "    dataframe['p2q'] = dataframe['p']**2 * dataframe['q']\n",
    "    dataframe['pq2'] = dataframe['p'] * dataframe['q']**2\n",
    "    dataframe['p3q'] = dataframe['p']**3 * dataframe['q']\n",
    "    dataframe['p2q2'] = dataframe['p']**2 * dataframe['q']**2\n",
    "    dataframe['pq3'] = dataframe['p'] * dataframe['q']**3\n",
    "    dataframe['p4q'] = dataframe['p']**4 * dataframe['q']\n",
    "    dataframe['p3q2'] = dataframe['p']**3 * dataframe['q']**2\n",
    "    dataframe['p2q3'] = dataframe['p']**2 * dataframe['q']**3\n",
    "    dataframe['pq4'] = dataframe['p'] * dataframe['q']**4\n",
    "\n",
    "    return dataframe\n",
    "def only_lin_predictors_pr(dataframe):\n",
    "    dataframe['pr'] = dataframe['p']*dataframe['r']\n",
    "    dataframe['p2r'] = dataframe['p']**2 * dataframe['r']\n",
    "    dataframe['pr2'] = dataframe['p'] * dataframe['r']**2\n",
    "    dataframe['p3r'] = dataframe['p']**3 * dataframe['r']\n",
    "    dataframe['p2r2'] = dataframe['p']**2 * dataframe['r']**2\n",
    "    dataframe['p4r'] = dataframe['p']**4 * dataframe['r']\n",
    "    dataframe['p3r2'] = dataframe['p']**3 * dataframe['r']**2\n",
    "    dataframe['p2r3'] = dataframe['p']**2 * dataframe['r']**3\n",
    "    dataframe['pr4'] = dataframe['p'] * dataframe['r']**4\n",
    "\n",
    "    return dataframe"
   ]
  },
  {
   "cell_type": "code",
   "execution_count": 4,
   "metadata": {
    "executionInfo": {
     "elapsed": 2,
     "status": "ok",
     "timestamp": 1669484045522,
     "user": {
      "displayName": "Lucas de Sousa Rosa",
      "userId": "13726313841360537470"
     },
     "user_tz": 180
    },
    "id": "pTrHGIrzpZvJ"
   },
   "outputs": [],
   "source": [
    "def create_quadratic_polynomial(dataframe):\n",
    "  dataframe = add_quadratic_predictors(dataframe)\n",
    "  return dataframe\n",
    "\n",
    "def create_cubic_polynomial(dataframe):\n",
    "  dataframe = add_cubic_predictors(\n",
    "              add_quadratic_predictors(dataframe))\n",
    "  return dataframe\n",
    "\n",
    "def create_quartic_polynomial(dataframe):\n",
    "  dataframe = add_quartic_predictiors(\n",
    "              add_cubic_predictors(\n",
    "              add_quadratic_predictors(dataframe)))\n",
    "  return dataframe\n",
    "\n",
    "def create_quintic_polynomial(dataframe):\n",
    "  dataframe = add_quintic_predictors(\n",
    "              add_quartic_predictiors(\n",
    "              add_cubic_predictors(\n",
    "              add_quadratic_predictors(dataframe))))\n",
    "  return dataframe\n",
    "\n",
    "def create_sextic_polynomial(dataframe):\n",
    "  dataframe = add_sextic_predictors(\n",
    "              add_quintic_predictors(\n",
    "              add_quartic_predictiors(\n",
    "              add_cubic_predictors(\n",
    "              add_quadratic_predictors(dataframe)))))\n",
    "  return dataframe"
   ]
  },
  {
   "cell_type": "code",
   "execution_count": 5,
   "metadata": {},
   "outputs": [
    {
     "name": "stdout",
     "output_type": "stream",
     "text": [
      "['sqrt(p)', 'sqrt(q)', 'sqrt(r)', 'p2', 'q2', 'r2', 'p3', 'q3', 'r3', 'p4', 'q4', 'r4', 'p2q', 'q2p', 'p2r', 'r2p', 'q2r', 'r2q', 'p3q', 'q3p', 'p3r', 'r3p', 'q3r', 'r3q', 'p4q', 'q4p', 'p4r', 'r4p', 'q4r', 'r4q']\n"
     ]
    }
   ],
   "source": [
    "variables = ['p', 'q', 'r']\n",
    "degre_max = 4\n",
    "\n",
    "# Générer les combinaisons\n",
    "possibilites = []\n",
    "possibilites.append(\"sqrt(p)\")\n",
    "possibilites.append(\"sqrt(q)\")\n",
    "possibilites.append(\"sqrt(r)\")\n",
    "for degre in range(2, degre_max + 1):\n",
    "    for variable in variables:\n",
    "        possibilites.append(variable + str(degre))\n",
    "\n",
    "for degre in range(2, degre_max + 1):\n",
    "    for i in range(len(variables)):\n",
    "        for j in range(i + 1, len(variables)):\n",
    "            possibilites.append(variables[i] + str(degre) + variables[j])\n",
    "            possibilites.append(variables[j] + str(degre) + variables[i])\n",
    "\n",
    "\n",
    "\n",
    "# Afficher les combinaisons\n",
    "print (possibilites)"
   ]
  },
  {
   "cell_type": "code",
   "execution_count": 20,
   "metadata": {},
   "outputs": [],
   "source": [
    "def grid_search (dataframe, n):\n",
    "    best_vif=100000000000000\n",
    "    best_set=[]\n",
    "    comb=list(itertools.combinations(possibilites,n))\n",
    "    for var_set in tqdm(comb, desc=\"Progression\"):\n",
    "        \n",
    "        df_copy = dataframe.copy()\n",
    "        \n",
    "        # Appliquer les transformations pour chaque variable dans l'ensemble\n",
    "        for var in var_set:\n",
    "            if var.startswith('sqrt'):\n",
    "                root_var = var[-2]  # Récupérer la variable ('p', 'q' ou 'r') à partir de la variable sqrt\n",
    "                df_copy[var] = df_copy[root_var].apply(math.sqrt)\n",
    "            elif var.startswith(('p', 'q', 'r'))and len(var)==2:\n",
    "                power = int(var[1:]) if len(var) > 1 else 1  # Récupérer l'exposant du polynôme\n",
    "                base_var = var[0]  # Récupérer la variable ('p', 'q' ou 'r') à partir de la variable polynomiale\n",
    "                df_copy[var] = df_copy[base_var] ** power\n",
    "            elif var in ['p2q', 'q2p', 'p2r', 'r2p', 'q2r', 'r2q']:\n",
    "                var_1, var_2 = var[0], var[2]  # Récupérer les deux variables ('p', 'q' ou 'r') de la combinaison\n",
    "                df_copy[var] = (df_copy[var_1] **2) * df_copy[var_2]\n",
    "            elif var in ['p3q', 'q3p', 'p3r', 'r3p', 'q3r', 'r3q']:\n",
    "                var_1, var_2 = var[0], var[2]  # Récupérer les trois variables ('p', 'q' ou 'r') de la combinaison\n",
    "                df_copy[var] = (df_copy[var_1]**3) * df_copy[var_2] \n",
    "            elif var in ['p4q', 'q4p', 'p4r', 'r4p', 'q4r', 'r4q']:\n",
    "                var_1, var_2 = var[0], var[2] # Récupérer les quatre variables ('p', 'q' ou 'r') de la combinaison\n",
    "                df_copy[var] = (df_copy[var_1]**4) * df_copy[var_2]\n",
    "        res=compute_vif(df_copy)\n",
    "        max=np.max(res['VIF'])\n",
    "        if max<best_vif:\n",
    "            best_vif=max\n",
    "            best_set=var_set\n",
    "    with open(\"grid.csv\", \"a+\") as res:\n",
    "        res.write(str(n))\n",
    "        res.write(',')\n",
    "        res.write(str(best_vif))\n",
    "        res.write(',')\n",
    "        res.write(str(best_set))\n",
    "        res.write('\\n')\n",
    "    print(best_vif)\n",
    "    print(best_set)\n"
   ]
  },
  {
   "cell_type": "code",
   "execution_count": 7,
   "metadata": {
    "executionInfo": {
     "elapsed": 221,
     "status": "ok",
     "timestamp": 1669484384212,
     "user": {
      "displayName": "Lucas de Sousa Rosa",
      "userId": "13726313841360537470"
     },
     "user_tz": 180
    },
    "id": "oB5v7bz4AnVQ"
   },
   "outputs": [],
   "source": [
    "def compute_vif(features):\n",
    "    vif = pd.DataFrame()\n",
    "    vif['VIF'] = [variance_inflation_factor(features.values, i) for i in range(features.shape[1])]\n",
    "    vif['feature'] = features.columns\n",
    "    return vif"
   ]
  },
  {
   "cell_type": "code",
   "execution_count": 8,
   "metadata": {
    "executionInfo": {
     "elapsed": 224,
     "status": "ok",
     "timestamp": 1669485155437,
     "user": {
      "displayName": "Lucas de Sousa Rosa",
      "userId": "13726313841360537470"
     },
     "user_tz": 180
    },
    "id": "psiyWO8FqFD5"
   },
   "outputs": [],
   "source": [
    "csv_file = \"data/global_training_data_GA.csv\"\n",
    "raw_dist = read_score_distribution(csv_file)"
   ]
  },
  {
   "cell_type": "code",
   "execution_count": 9,
   "metadata": {
    "colab": {
     "base_uri": "https://localhost:8080/",
     "height": 424
    },
    "executionInfo": {
     "elapsed": 234,
     "status": "ok",
     "timestamp": 1669485266425,
     "user": {
      "displayName": "Lucas de Sousa Rosa",
      "userId": "13726313841360537470"
     },
     "user_tz": 180
    },
    "id": "CghP2XJUA1Gb",
    "outputId": "06d45020-adf1-4abc-b51d-0b3dc63151ca"
   },
   "outputs": [
    {
     "data": {
      "text/html": [
       "<div>\n",
       "<style scoped>\n",
       "    .dataframe tbody tr th:only-of-type {\n",
       "        vertical-align: middle;\n",
       "    }\n",
       "\n",
       "    .dataframe tbody tr th {\n",
       "        vertical-align: top;\n",
       "    }\n",
       "\n",
       "    .dataframe thead th {\n",
       "        text-align: right;\n",
       "    }\n",
       "</style>\n",
       "<table border=\"1\" class=\"dataframe\">\n",
       "  <thead>\n",
       "    <tr style=\"text-align: right;\">\n",
       "      <th></th>\n",
       "      <th>p</th>\n",
       "      <th>q</th>\n",
       "      <th>r</th>\n",
       "    </tr>\n",
       "  </thead>\n",
       "  <tbody>\n",
       "    <tr>\n",
       "      <th>0</th>\n",
       "      <td>0.000000</td>\n",
       "      <td>1</td>\n",
       "      <td>0.000556</td>\n",
       "    </tr>\n",
       "    <tr>\n",
       "      <th>1</th>\n",
       "      <td>0.009444</td>\n",
       "      <td>2</td>\n",
       "      <td>4.613333</td>\n",
       "    </tr>\n",
       "    <tr>\n",
       "      <th>2</th>\n",
       "      <td>0.002222</td>\n",
       "      <td>32</td>\n",
       "      <td>4.627500</td>\n",
       "    </tr>\n",
       "    <tr>\n",
       "      <th>3</th>\n",
       "      <td>0.049167</td>\n",
       "      <td>16</td>\n",
       "      <td>4.908333</td>\n",
       "    </tr>\n",
       "    <tr>\n",
       "      <th>4</th>\n",
       "      <td>0.014444</td>\n",
       "      <td>1</td>\n",
       "      <td>4.928889</td>\n",
       "    </tr>\n",
       "    <tr>\n",
       "      <th>...</th>\n",
       "      <td>...</td>\n",
       "      <td>...</td>\n",
       "      <td>...</td>\n",
       "    </tr>\n",
       "    <tr>\n",
       "      <th>81340</th>\n",
       "      <td>3.888611</td>\n",
       "      <td>32</td>\n",
       "      <td>19.506111</td>\n",
       "    </tr>\n",
       "    <tr>\n",
       "      <th>81341</th>\n",
       "      <td>0.280833</td>\n",
       "      <td>64</td>\n",
       "      <td>19.533889</td>\n",
       "    </tr>\n",
       "    <tr>\n",
       "      <th>81342</th>\n",
       "      <td>0.001111</td>\n",
       "      <td>1</td>\n",
       "      <td>83.753056</td>\n",
       "    </tr>\n",
       "    <tr>\n",
       "      <th>81343</th>\n",
       "      <td>0.018889</td>\n",
       "      <td>2</td>\n",
       "      <td>83.766111</td>\n",
       "    </tr>\n",
       "    <tr>\n",
       "      <th>81344</th>\n",
       "      <td>0.009444</td>\n",
       "      <td>19</td>\n",
       "      <td>83.814167</td>\n",
       "    </tr>\n",
       "  </tbody>\n",
       "</table>\n",
       "<p>81345 rows × 3 columns</p>\n",
       "</div>"
      ],
      "text/plain": [
       "              p   q          r\n",
       "0      0.000000   1   0.000556\n",
       "1      0.009444   2   4.613333\n",
       "2      0.002222  32   4.627500\n",
       "3      0.049167  16   4.908333\n",
       "4      0.014444   1   4.928889\n",
       "...         ...  ..        ...\n",
       "81340  3.888611  32  19.506111\n",
       "81341  0.280833  64  19.533889\n",
       "81342  0.001111   1  83.753056\n",
       "81343  0.018889   2  83.766111\n",
       "81344  0.009444  19  83.814167\n",
       "\n",
       "[81345 rows x 3 columns]"
      ]
     },
     "execution_count": 9,
     "metadata": {},
     "output_type": "execute_result"
    }
   ],
   "source": [
    "features_label = ['p', 'q', 'r']\n",
    "target_label = [\"score\"]\n",
    "features = raw_dist[features_label]\n",
    "target = raw_dist[target_label]\n",
    "features"
   ]
  },
  {
   "cell_type": "code",
   "execution_count": 21,
   "metadata": {},
   "outputs": [
    {
     "name": "stderr",
     "output_type": "stream",
     "text": [
      "Progression: 100%|███████████████████████████████████████████████████████████████████████████████████████████████████████████████████████████████████████████████████████████████| 435/435 [00:35<00:00, 12.22it/s]\n"
     ]
    },
    {
     "name": "stdout",
     "output_type": "stream",
     "text": [
      "1.2862065211525044\n",
      "('r3q', 'r4p')\n"
     ]
    }
   ],
   "source": [
    "p=[]\n",
    "for i in range (2,3):\n",
    "    p.append(Process(target=grid_search,args=(features,i)))\n",
    "    p[i-2].start()\n",
    "    \n",
    "for proc in p:\n",
    "    proc.join()\n",
    "    \n",
    "        "
   ]
  },
  {
   "cell_type": "code",
   "execution_count": null,
   "metadata": {},
   "outputs": [],
   "source": [
    "res=only_lin_predictors_pr(features)\n",
    "vif=compute_vif(res)\n",
    "print (vif)\n",
    "print(\"mean = \",np.mean(vif.VIF))"
   ]
  },
  {
   "cell_type": "code",
   "execution_count": null,
   "metadata": {},
   "outputs": [],
   "source": [
    "compute_vif(create_quadratic_polynomial(features))"
   ]
  },
  {
   "cell_type": "code",
   "execution_count": null,
   "metadata": {},
   "outputs": [],
   "source": [
    "compute_vif(create_cubic_polynomial(features))"
   ]
  },
  {
   "cell_type": "code",
   "execution_count": null,
   "metadata": {},
   "outputs": [],
   "source": [
    "compute_vif(create_quartic_polynomial(features))"
   ]
  },
  {
   "cell_type": "code",
   "execution_count": null,
   "metadata": {
    "colab": {
     "base_uri": "https://localhost:8080/",
     "height": 833
    },
    "executionInfo": {
     "elapsed": 364,
     "status": "ok",
     "timestamp": 1669485409514,
     "user": {
      "displayName": "Lucas de Sousa Rosa",
      "userId": "13726313841360537470"
     },
     "user_tz": 180
    },
    "id": "oNtFi_FjBNQw",
    "outputId": "93ba6afa-d738-40da-ac87-21cfba7a8f67"
   },
   "outputs": [],
   "source": [
    "compute_vif(create_quintic_polynomial(features))"
   ]
  },
  {
   "cell_type": "code",
   "execution_count": null,
   "metadata": {
    "id": "ZxAOmB_YEdmj"
   },
   "outputs": [],
   "source": [
    "compute_vif(features)"
   ]
  }
 ],
 "metadata": {
  "colab": {
   "authorship_tag": "ABX9TyPMhh/jmRsvwvTAytBDa8t0",
   "mount_file_id": "1eGwhasuHjhtSeDceCIzNdMx7ImGGeICK",
   "provenance": []
  },
  "kernelspec": {
   "display_name": "Python 3 (ipykernel)",
   "language": "python",
   "name": "python3"
  },
  "language_info": {
   "codemirror_mode": {
    "name": "ipython",
    "version": 3
   },
   "file_extension": ".py",
   "mimetype": "text/x-python",
   "name": "python",
   "nbconvert_exporter": "python",
   "pygments_lexer": "ipython3",
   "version": "3.10.12"
  }
 },
 "nbformat": 4,
 "nbformat_minor": 4
}
