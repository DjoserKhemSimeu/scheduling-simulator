{
 "cells": [
  {
   "cell_type": "code",
   "execution_count": 1,
   "metadata": {
    "executionInfo": {
     "elapsed": 2571,
     "status": "ok",
     "timestamp": 1669484044970,
     "user": {
      "displayName": "Lucas de Sousa Rosa",
      "userId": "13726313841360537470"
     },
     "user_tz": 180
    },
    "id": "ooIH0eUWpw2e"
   },
   "outputs": [
    {
     "name": "stderr",
     "output_type": "stream",
     "text": [
      "/usr/lib/python3/dist-packages/scipy/__init__.py:146: UserWarning: A NumPy version >=1.17.3 and <1.25.0 is required for this version of SciPy (detected version 1.26.4\n",
      "  warnings.warn(f\"A NumPy version >={np_minversion} and <{np_maxversion}\"\n"
     ]
    }
   ],
   "source": [
    "import numpy as np\n",
    "import pandas as pd\n",
    "import matplotlib.pyplot as plt\n",
    "import seaborn as sns\n",
    "import itertools\n",
    "import math\n",
    "from tqdm import tqdm\n",
    "from scipy.stats import pearsonr\n",
    "from multiprocessing import Process, Pool\n",
    "from statsmodels.stats.outliers_influence import variance_inflation_factor\n",
    "from sklearn.linear_model import LinearRegression\n",
    "from sklearn.model_selection import train_test_split\n",
    "from sklearn.metrics import mean_absolute_error\n",
    "from sklearn.model_selection import cross_val_score"
   ]
  },
  {
   "cell_type": "code",
   "execution_count": 2,
   "metadata": {
    "executionInfo": {
     "elapsed": 3,
     "status": "ok",
     "timestamp": 1669484044971,
     "user": {
      "displayName": "Lucas de Sousa Rosa",
      "userId": "13726313841360537470"
     },
     "user_tz": 180
    },
    "id": "_KiyNEaKkdUk"
   },
   "outputs": [],
   "source": [
    "def convert_temporal_data(dataframe):\n",
    "  '''\n",
    "  Convert temporal variables from seconds to hours.\n",
    "\n",
    "  This conversion is necessary. Otherwise, large predictor values (e.g., p^6)\n",
    "  will be irrelevant for OLS.\n",
    "  '''\n",
    "\n",
    "  for column in ['p', 'r']:\n",
    "    dataframe[column] = dataframe[column] / 3600\n",
    "\n",
    "  return dataframe\n",
    "\n",
    "def read_score_distribution(csv_file):\n",
    "  columns = ['p', 'q', 'r', 'score']\n",
    "  distribution = pd.read_csv(csv_file, names=columns,skiprows=1)\n",
    "  distribution = convert_temporal_data(distribution)\n",
    "  return distribution\n",
    "def read_score_distribution_2(csv_file):\n",
    "  columns = ['p', 'q', 'r','x','w','z', 'score']\n",
    "  distribution = pd.read_csv(csv_file, names=columns,skiprows=1)\n",
    "  distribution = convert_temporal_data(distribution)\n",
    "\n",
    "  return distribution"
   ]
  },
  {
   "cell_type": "code",
   "execution_count": 3,
   "metadata": {
    "executionInfo": {
     "elapsed": 3,
     "status": "ok",
     "timestamp": 1669484044971,
     "user": {
      "displayName": "Lucas de Sousa Rosa",
      "userId": "13726313841360537470"
     },
     "user_tz": 180
    },
    "id": "LTLhv17MpNhc"
   },
   "outputs": [],
   "source": [
    "def add_quadratic_predictors(dataframe):\n",
    "  dataframe[['p2', 'q2', 'r2']] = dataframe[['p', 'q', 'r']]**2\n",
    "  dataframe['pq'] = dataframe['p']*dataframe['q']\n",
    "\n",
    "  return dataframe\n",
    "\n",
    "def add_cubic_predictors(dataframe):\n",
    "  dataframe[['p3', 'q3', 'r3']] = dataframe[['p', 'q', 'r']]**3\n",
    "  dataframe['p2q'] = dataframe['p']**2 * dataframe['q']\n",
    "  dataframe['pq2'] = dataframe['p'] * dataframe['q']**2\n",
    "\n",
    "  return dataframe\n",
    "\n",
    "def add_quartic_predictiors(dataframe):\n",
    "  dataframe[['p4', 'q4', 'r4']] = dataframe[['p', 'q', 'r']]**4\n",
    "  dataframe['p3q'] = dataframe['p']**3 * dataframe['q']\n",
    "  dataframe['p2q2'] = dataframe['p']**2 * dataframe['q']**2\n",
    "  dataframe['pq3'] = dataframe['p'] * dataframe['q']**3\n",
    "\n",
    "  return dataframe\n",
    "\n",
    "def add_quintic_predictors(dataframe):\n",
    "  dataframe[['p5', 'q5', 'r5']] = dataframe[['p', 'q', 'r']]**5\n",
    "  dataframe['p4q'] = dataframe['p']**4 * dataframe['q']\n",
    "  dataframe['p3q2'] = dataframe['p']**3 * dataframe['q']**2\n",
    "  dataframe['p2q3'] = dataframe['p']**2 * dataframe['q']**3\n",
    "  dataframe['pq4'] = dataframe['p'] * dataframe['q']**4\n",
    "\n",
    "  return dataframe\n",
    "\n",
    "def add_sextic_predictors(dataframe):\n",
    "  dataframe[['p6', 'q6', 'r6']] = dataframe[['p', 'q', 'r']]**6\n",
    "  dataframe['p5q'] = dataframe['p']**5 * dataframe['q']\n",
    "  dataframe['p4q2'] = dataframe['p']**4 * dataframe['q']**2\n",
    "  dataframe['p3q3'] = dataframe['p']**3 * dataframe['q']**3\n",
    "  dataframe['p2q4'] = dataframe['p']**2 * dataframe['q']**4\n",
    "  dataframe['pq5'] = dataframe['p'] * dataframe['q']**5\n",
    "\n",
    "  return dataframe\n",
    "def only_att_predictors(dataframe):\n",
    "    dataframe[['p2', 'q2', 'r2']] = dataframe[['p', 'q', 'r']]**2\n",
    "    dataframe[['p3', 'q3', 'r3']] = dataframe[['p', 'q', 'r']]**3\n",
    "    dataframe[['p4', 'q4', 'r4']] = dataframe[['p', 'q', 'r']]**4\n",
    "    dataframe[['p5', 'q5', 'r5']] = dataframe[['p', 'q', 'r']]**5\n",
    "    dataframe[['p6', 'q6', 'r6']] = dataframe[['p', 'q', 'r']]**6\n",
    "\n",
    "    return dataframe\n",
    "def only_wq_att_predictors(dataframe):\n",
    "    dataframe[['p2', 'r2']] = dataframe[['p', 'r']]**2\n",
    "    dataframe[['p3',  'r3']] = dataframe[['p', 'r']]**3\n",
    "    dataframe[['p4',  'r4']] = dataframe[['p', 'r']]**4\n",
    "    dataframe[['p5',  'r5']] = dataframe[['p', 'r']]**5\n",
    "    dataframe[['p6',  'r6']] = dataframe[['p', 'r']]**6\n",
    "\n",
    "    return dataframe\n",
    "def only_lin_predictors(dataframe):\n",
    "    dataframe['pq'] = dataframe['p']*dataframe['q']\n",
    "    dataframe['p2q'] = dataframe['p']**2 * dataframe['q']\n",
    "    dataframe['pq2'] = dataframe['p'] * dataframe['q']**2\n",
    "    dataframe['p3q'] = dataframe['p']**3 * dataframe['q']\n",
    "    dataframe['p2q2'] = dataframe['p']**2 * dataframe['q']**2\n",
    "    dataframe['pq3'] = dataframe['p'] * dataframe['q']**3\n",
    "    dataframe['p4q'] = dataframe['p']**4 * dataframe['q']\n",
    "    dataframe['p3q2'] = dataframe['p']**3 * dataframe['q']**2\n",
    "    dataframe['p2q3'] = dataframe['p']**2 * dataframe['q']**3\n",
    "    dataframe['pq4'] = dataframe['p'] * dataframe['q']**4\n",
    "\n",
    "    return dataframe\n",
    "def only_lin_predictors_pr(dataframe):\n",
    "    dataframe['pr'] = dataframe['p']*dataframe['r']\n",
    "    dataframe['p2r'] = dataframe['p']**2 * dataframe['r']\n",
    "    dataframe['pr2'] = dataframe['p'] * dataframe['r']**2\n",
    "    dataframe['p3r'] = dataframe['p']**3 * dataframe['r']\n",
    "    dataframe['p2r2'] = dataframe['p']**2 * dataframe['r']**2\n",
    "    dataframe['p4r'] = dataframe['p']**4 * dataframe['r']\n",
    "    dataframe['p3r2'] = dataframe['p']**3 * dataframe['r']**2\n",
    "    dataframe['p2r3'] = dataframe['p']**2 * dataframe['r']**3\n",
    "    dataframe['pr4'] = dataframe['p'] * dataframe['r']**4\n",
    "\n",
    "    return dataframe"
   ]
  },
  {
   "cell_type": "code",
   "execution_count": 4,
   "metadata": {
    "executionInfo": {
     "elapsed": 2,
     "status": "ok",
     "timestamp": 1669484045522,
     "user": {
      "displayName": "Lucas de Sousa Rosa",
      "userId": "13726313841360537470"
     },
     "user_tz": 180
    },
    "id": "pTrHGIrzpZvJ"
   },
   "outputs": [],
   "source": [
    "def create_quadratic_polynomial(dataframe):\n",
    "  dataframe = add_quadratic_predictors(dataframe)\n",
    "  return dataframe\n",
    "\n",
    "def create_cubic_polynomial(dataframe):\n",
    "  dataframe = add_cubic_predictors(\n",
    "              add_quadratic_predictors(dataframe))\n",
    "  return dataframe\n",
    "\n",
    "def create_quartic_polynomial(dataframe):\n",
    "  dataframe = add_quartic_predictiors(\n",
    "              add_cubic_predictors(\n",
    "              add_quadratic_predictors(dataframe)))\n",
    "  return dataframe\n",
    "\n",
    "def create_quintic_polynomial(dataframe):\n",
    "  dataframe = add_quintic_predictors(\n",
    "              add_quartic_predictiors(\n",
    "              add_cubic_predictors(\n",
    "              add_quadratic_predictors(dataframe))))\n",
    "  return dataframe\n",
    "\n",
    "def create_sextic_polynomial(dataframe):\n",
    "  dataframe = add_sextic_predictors(\n",
    "              add_quintic_predictors(\n",
    "              add_quartic_predictiors(\n",
    "              add_cubic_predictors(\n",
    "              add_quadratic_predictors(dataframe)))))\n",
    "  return dataframe"
   ]
  },
  {
   "cell_type": "code",
   "execution_count": 8,
   "metadata": {},
   "outputs": [
    {
     "name": "stdout",
     "output_type": "stream",
     "text": [
      "36\n"
     ]
    }
   ],
   "source": [
    "variables = ['p', 'q', 'r']\n",
    "degre_max = 4\n",
    "\n",
    "# Générer les combinaisons\n",
    "possibilites = []\n",
    "possibilites.append(\"sqrt(p)\")\n",
    "possibilites.append(\"sqrt(q)\")\n",
    "possibilites.append(\"sqrt(r)\")\n",
    "for degre in range(1, degre_max + 1):\n",
    "    for variable in variables:\n",
    "        possibilites.append(variable + str(degre))\n",
    "\n",
    "for degre in range(1, degre_max + 1):\n",
    "    for i in range(len(variables)):\n",
    "        for j in range(i + 1, len(variables)):\n",
    "            possibilites.append(variables[i] + str(degre) + variables[j])\n",
    "            if degre!=1:\n",
    "                possibilites.append(variables[j] + str(degre) + variables[i])\n",
    "\n",
    "\n",
    "\n",
    "# Afficher les combinaisons\n",
    "print (len(possibilites))"
   ]
  },
  {
   "cell_type": "code",
   "execution_count": 11,
   "metadata": {},
   "outputs": [
    {
     "name": "stdout",
     "output_type": "stream",
     "text": [
      "63\n"
     ]
    }
   ],
   "source": [
    "variables = ['p', 'q', 'r','x','w','z']\n",
    "degre_max = 2\n",
    "\n",
    "# Générer les combinaisons\n",
    "possibilites_2 = []\n",
    "possibilites_2.append(\"sqrt(p)\")\n",
    "possibilites_2.append(\"sqrt(q)\")\n",
    "possibilites_2.append(\"sqrt(r)\")\n",
    "possibilites_2.append(\"sqrt(x)\")\n",
    "possibilites_2.append(\"sqrt(w)\")\n",
    "possibilites_2.append(\"sqrt(z)\")\n",
    "for degre in range(1, degre_max + 1):\n",
    "    for variable in variables:\n",
    "        possibilites_2.append(variable + str(degre))\n",
    "\n",
    "for degre in range(1, degre_max + 1):\n",
    "    for i in range(len(variables)):\n",
    "        for j in range(i + 1, len(variables)):\n",
    "            possibilites_2.append(variables[i] + str(degre) + variables[j])\n",
    "            if degre!=1:\n",
    "                possibilites_2.append(variables[j] + str(degre) + variables[i])\n",
    "\n",
    "\n",
    "\n",
    "# Afficher les combinaisons\n",
    "print (len(possibilites_2))"
   ]
  },
  {
   "cell_type": "markdown",
   "metadata": {},
   "source": [
    "# Grid search Algorithm"
   ]
  },
  {
   "cell_type": "code",
   "execution_count": 11,
   "metadata": {},
   "outputs": [],
   "source": [
    "import copy\n",
    "import random\n",
    "\n",
    "history=[]\n",
    "names=[]\n",
    "def grid_search (dataframe, n,threshold):\n",
    "    best_vif=[100000000000000]*20\n",
    "    best_set=[[],[],[],[],[],[],[],[],[],[],[],[],[],[],[],[],[],[],[],[]]\n",
    "    comb=list(itertools.combinations(possibilites,n))\n",
    "    if n>3:\n",
    "        comb=random.sample(comb, 5000)\n",
    "    for var_set in tqdm(comb, desc=\"Progression :\" ):\n",
    "        df_copy = pd.DataFrame()\n",
    "        \n",
    "        \n",
    "        for var in var_set:\n",
    "            \n",
    "            if var.startswith('sqrt'):\n",
    "                \n",
    "                root_var = var[-2]  \n",
    "                df_copy[var] = dataframe[root_var].apply(math.sqrt)\n",
    "                \n",
    "            elif var.startswith(('p', 'q', 'r'))and len(var)==2:\n",
    "                power = int(var[1:]) if len(var) > 1 else 1 \n",
    "                base_var = var[0]  \n",
    "                df_copy[var] = dataframe[base_var] ** power\n",
    "            elif var in [ 'p1q', 'p1r', 'q1r']:\n",
    "                var_1, var_2 = var[0], var[2]  \n",
    "                df_copy[var] = dataframe[var_1]  * dataframe[var_2]\n",
    "            elif var in ['p2q', 'q2p', 'p2r', 'r2p', 'q2r', 'r2q']:\n",
    "                var_1, var_2 = var[0], var[2]  \n",
    "                df_copy[var] = (dataframe[var_1] **2) * dataframe[var_2]\n",
    "            elif var in ['p3q', 'q3p', 'p3r', 'r3p', 'q3r', 'r3q']:\n",
    "                var_1, var_2 = var[0], var[2]  \n",
    "                df_copy[var] = (dataframe[var_1]**3) * dataframe[var_2] \n",
    "            elif var in ['p4q', 'q4p', 'p4r', 'r4p', 'q4r', 'r4q']:\n",
    "                var_1, var_2 = var[0], var[2] \n",
    "                df_copy[var] = (dataframe[var_1]**4) * dataframe[var_2]\n",
    "        res=compute_vif(df_copy)\n",
    "        max=np.max(res['VIF'])\n",
    "        history.append(max)\n",
    "        if n==1 : \n",
    "            names.append(var_set[-1])\n",
    "        else : \n",
    "            res= var_set[0]\n",
    "            for var in var_set:\n",
    "                if var != var_set[0]:\n",
    "                    res += \"-\"+var\n",
    "            names.append(res)\n",
    "        b=False\n",
    "        idx=0\n",
    "        for best in best_vif:\n",
    "            if max<best and max>=threshold:\n",
    "                b=True\n",
    "                break\n",
    "            idx+=1\n",
    "        if b==True:\n",
    "            tmp_vif=best_vif.copy()\n",
    "            tmp_set=best_set.copy()\n",
    "            for i in range (idx+1,5):\n",
    "                \n",
    "                tmp_vif[i]=best_vif[i-1]\n",
    "                tmp_set[i]=best_set[i-1]\n",
    "            tmp_vif[idx]=max\n",
    "            tmp_set[idx]=var_set\n",
    "            best_vif=tmp_vif\n",
    "            best_set=tmp_set\n",
    "        \n",
    "        \n",
    "            \n",
    "    with open(\"grid.csv\", \"a+\") as res:\n",
    "        res.write(str(n))\n",
    "        res.write(',')\n",
    "        res.write(str(best_vif))\n",
    "        res.write(',')\n",
    "        res.write(str(best_set))\n",
    "        res.write('\\n')\n",
    "    print(best_vif)\n",
    "    print(best_set)\n"
   ]
  },
  {
   "cell_type": "code",
   "execution_count": 26,
   "metadata": {},
   "outputs": [
    {
     "name": "stdout",
     "output_type": "stream",
     "text": [
      "['sqrt(p)', 'sqrt(q)', 'sqrt(r)', 'sqrt(x)', 'sqrt(w)', 'sqrt(z)', 'p1', 'q1', 'r1', 'x1', 'w1', 'z1', 'p2', 'q2', 'r2', 'x2', 'w2', 'z2', 'p1q', 'p1r', 'p1x', 'p1w', 'p1z', 'q1r', 'q1x', 'q1w', 'q1z', 'r1x', 'r1w', 'r1z', 'x1w', 'x1z', 'w1z', 'p2q', 'q2p', 'p2r', 'r2p', 'p2x', 'x2p', 'p2w', 'w2p', 'p2z', 'z2p', 'q2r', 'r2q', 'q2x', 'x2q', 'q2w', 'w2q', 'q2z', 'z2q', 'r2x', 'x2r', 'r2w', 'w2r', 'r2z', 'z2r', 'x2w', 'w2x', 'x2z', 'z2x', 'w2z', 'z2w']\n"
     ]
    }
   ],
   "source": [
    "print(possibilites_2)"
   ]
  },
  {
   "cell_type": "markdown",
   "metadata": {},
   "source": [
    "# Grid search for context aware models"
   ]
  },
  {
   "cell_type": "code",
   "execution_count": 27,
   "metadata": {},
   "outputs": [],
   "source": [
    "import copy\n",
    "import random\n",
    "\n",
    "history=[]\n",
    "names=[]\n",
    "def grid_search_2 (dataframe, n,threshold):\n",
    "    best_vif=[100000000000000]*20\n",
    "    best_set=[[],[],[],[],[],[],[],[],[],[],[],[],[],[],[],[],[],[],[],[]]\n",
    "    comb=list(itertools.combinations(possibilites_2,n))\n",
    "    comb=random.sample(comb, 5000)\n",
    "    for var_set in tqdm(comb, desc=\"Progression :\" ):\n",
    "        df_copy = pd.DataFrame()\n",
    "        \n",
    "        # Appliquer les transformations pour chaque variable dans l'ensemble\n",
    "        for var in var_set:\n",
    "            \n",
    "            if var.startswith('sqrt'):\n",
    "                \n",
    "                root_var = var[-2]  # Récupérer la variable ('p', 'q' ou 'r') à partir de la variable sqrt\n",
    "                df_copy[var] = dataframe[root_var].apply(math.sqrt)\n",
    "                \n",
    "            elif var.startswith(('p', 'q', 'r','x','w','z'))and len(var)==2:\n",
    "                power = int(var[1:]) if len(var) > 1 else 1  # Récupérer l'exposant du polynôme\n",
    "                base_var = var[0]  # Récupérer la variable ('p', 'q' ou 'r') à partir de la variable polynomiale\n",
    "                df_copy[var] = dataframe[base_var] ** power\n",
    "            elif var in [ 'p1q', 'p1r', 'p1x', 'p1w', 'p1z', 'q1r', 'q1x', 'q1w', 'q1z', 'r1x', 'r1w', 'r1z', 'x1w', 'x1z', 'w1z']:\n",
    "                var_1, var_2 = var[0], var[2]  # Récupérer les deux variables ('p', 'q' ou 'r') de la combinaison\n",
    "                df_copy[var] = dataframe[var_1]  * dataframe[var_2]\n",
    "            elif var in ['p2q', 'q2p', 'p2r', 'r2p', 'q2r', 'r2q',\n",
    "                         'x2p', 'x2r', 'x2q','p2x', 'r2x', 'q2x',\n",
    "                         'w2p', 'w2r', 'w2q','p2w', 'r2w', 'q2w',\n",
    "                         'z2p', 'z2r', 'z2q','p2z', 'r2z', 'q2z',\n",
    "                         'x2w', 'x2z', 'w2z','w2x', 'z2x', 'z2w']:\n",
    "                var_1, var_2 = var[0], var[2]  # Récupérer les deux variables ('p', 'q' ou 'r') de la combinaison\n",
    "                df_copy[var] = (dataframe[var_1] **2) * dataframe[var_2]\n",
    "            elif var in ['p3q', 'q3p', 'p3r', 'r3p', 'q3r', 'r3q',\n",
    "                         'x3p', 'x3r', 'x3q','p3x', 'r3x', 'q3x',\n",
    "                         'w3p', 'w3r', 'w3q','p3w', 'r3w', 'q3w',\n",
    "                         'z3p', 'z3r', 'z3q','p3z', 'r3z', 'q3z',\n",
    "                         'x3w', 'x3z', 'w3z','w3x', 'z3x', 'z3w']:\n",
    "                var_1, var_2 = var[0], var[2]  # Récupérer les trois variables ('p', 'q' ou 'r') de la combinaison\n",
    "                df_copy[var] = (dataframe[var_1]**3) * dataframe[var_2] \n",
    "            elif var in ['p4q', 'q4p', 'p4r', 'r4p', 'q4r', 'r4q',\n",
    "                         'x4p', 'x4r', 'x4q','p4x', 'r4x', 'q4x',\n",
    "                         'w4p', 'w4r', 'w4q','p4w', 'r4w', 'q4w',\n",
    "                         'z4p', 'z4r', 'z4q','p4z', 'r4z', 'q4z',\n",
    "                         'x4w', 'x4z', 'w4z','w4x', 'z4x', 'z4w']:\n",
    "                var_1, var_2 = var[0], var[2] # Récupérer les quatre variables ('p', 'q' ou 'r') de la combinaison\n",
    "                df_copy[var] = (dataframe[var_1]**4) * dataframe[var_2]\n",
    "        res=compute_vif(df_copy)\n",
    "        max=np.max(res['VIF'])\n",
    "        history.append(max)\n",
    "        if n==1 : \n",
    "            names.append(var_set[-1])\n",
    "        else : \n",
    "            res= var_set[0]\n",
    "            for var in var_set:\n",
    "                if var != var_set[0]:\n",
    "                    res += \"-\"+var\n",
    "            names.append(res)\n",
    "        b=False\n",
    "        idx=0\n",
    "        for best in best_vif:\n",
    "            if max<best and max>=threshold:\n",
    "                b=True\n",
    "                break\n",
    "            idx+=1\n",
    "        if b==True:\n",
    "            tmp_vif=best_vif.copy()\n",
    "            tmp_set=best_set.copy()\n",
    "            for i in range (idx+1,5):\n",
    "                \n",
    "                tmp_vif[i]=best_vif[i-1]\n",
    "                tmp_set[i]=best_set[i-1]\n",
    "            tmp_vif[idx]=max\n",
    "            tmp_set[idx]=var_set\n",
    "            best_vif=tmp_vif\n",
    "            best_set=tmp_set\n",
    "        \n",
    "        \n",
    "            \n",
    "    with open(\"grid.csv\", \"a+\") as res:\n",
    "        res.write(str(n))\n",
    "        res.write(',')\n",
    "        res.write(str(best_vif))\n",
    "        res.write(',')\n",
    "        res.write(str(best_set))\n",
    "        res.write('\\n')\n",
    "    print(best_vif)\n",
    "    print(best_set)\n"
   ]
  },
  {
   "cell_type": "code",
   "execution_count": 23,
   "metadata": {
    "executionInfo": {
     "elapsed": 221,
     "status": "ok",
     "timestamp": 1669484384212,
     "user": {
      "displayName": "Lucas de Sousa Rosa",
      "userId": "13726313841360537470"
     },
     "user_tz": 180
    },
    "id": "oB5v7bz4AnVQ"
   },
   "outputs": [],
   "source": [
    "def compute_vif(features):\n",
    "    vif = pd.DataFrame()\n",
    "    vif['VIF'] = [variance_inflation_factor(features.values, i) for i in range(features.shape[1])]\n",
    "    vif['feature'] = features.columns\n",
    "    return vif"
   ]
  },
  {
   "cell_type": "code",
   "execution_count": 13,
   "metadata": {
    "executionInfo": {
     "elapsed": 224,
     "status": "ok",
     "timestamp": 1669485155437,
     "user": {
      "displayName": "Lucas de Sousa Rosa",
      "userId": "13726313841360537470"
     },
     "user_tz": 180
    },
    "id": "psiyWO8FqFD5"
   },
   "outputs": [
    {
     "name": "stdout",
     "output_type": "stream",
     "text": [
      "               p    q          r            x          w              z  \\\n",
      "0       0.008889   64   6.506389  4026.117647   7.294118   17096.941176   \n",
      "1      11.181667   16   3.035556  4494.150000  16.000000    7636.950000   \n",
      "2       4.454167   16   3.927222  5620.916667  31.000000   13235.250000   \n",
      "3       1.722500  256  20.269722  4610.900000  30.133333   52830.833333   \n",
      "4       0.020833    1   3.285278  3410.666667  43.333333   11709.000000   \n",
      "...          ...  ...        ...          ...        ...            ...   \n",
      "81339   0.015556    8   3.497500  5728.588235  29.117647    9722.235294   \n",
      "81340   0.030000    8   3.198889  4893.500000   8.500000    9311.500000   \n",
      "81341   2.067222    1  69.044722  2320.550000  17.850000  246744.750000   \n",
      "81342   0.002222   16   4.441389  3914.263158  23.473684   14162.947368   \n",
      "81343   0.001667   32   1.598056    10.000000   1.000000    2966.000000   \n",
      "\n",
      "         score  \n",
      "0      0.53125  \n",
      "1      0.96875  \n",
      "2      0.46875  \n",
      "3      0.90625  \n",
      "4      0.21875  \n",
      "...        ...  \n",
      "81339  0.50000  \n",
      "81340  0.06250  \n",
      "81341  0.68750  \n",
      "81342  0.28125  \n",
      "81343  0.06250  \n",
      "\n",
      "[81344 rows x 7 columns]\n"
     ]
    }
   ],
   "source": [
    "csv_file = \"data/global_training_data_GA_MEM.csv\"\n",
    "raw_dist = read_score_distribution_2(csv_file)\n",
    "print (raw_dist)"
   ]
  },
  {
   "cell_type": "code",
   "execution_count": 14,
   "metadata": {
    "colab": {
     "base_uri": "https://localhost:8080/",
     "height": 424
    },
    "executionInfo": {
     "elapsed": 234,
     "status": "ok",
     "timestamp": 1669485266425,
     "user": {
      "displayName": "Lucas de Sousa Rosa",
      "userId": "13726313841360537470"
     },
     "user_tz": 180
    },
    "id": "CghP2XJUA1Gb",
    "outputId": "06d45020-adf1-4abc-b51d-0b3dc63151ca"
   },
   "outputs": [
    {
     "data": {
      "text/html": [
       "<div>\n",
       "<style scoped>\n",
       "    .dataframe tbody tr th:only-of-type {\n",
       "        vertical-align: middle;\n",
       "    }\n",
       "\n",
       "    .dataframe tbody tr th {\n",
       "        vertical-align: top;\n",
       "    }\n",
       "\n",
       "    .dataframe thead th {\n",
       "        text-align: right;\n",
       "    }\n",
       "</style>\n",
       "<table border=\"1\" class=\"dataframe\">\n",
       "  <thead>\n",
       "    <tr style=\"text-align: right;\">\n",
       "      <th></th>\n",
       "      <th>p</th>\n",
       "      <th>q</th>\n",
       "      <th>r</th>\n",
       "      <th>x</th>\n",
       "      <th>w</th>\n",
       "      <th>z</th>\n",
       "    </tr>\n",
       "  </thead>\n",
       "  <tbody>\n",
       "    <tr>\n",
       "      <th>0</th>\n",
       "      <td>0.008889</td>\n",
       "      <td>64</td>\n",
       "      <td>6.506389</td>\n",
       "      <td>4026.117647</td>\n",
       "      <td>7.294118</td>\n",
       "      <td>17096.941176</td>\n",
       "    </tr>\n",
       "    <tr>\n",
       "      <th>1</th>\n",
       "      <td>11.181667</td>\n",
       "      <td>16</td>\n",
       "      <td>3.035556</td>\n",
       "      <td>4494.150000</td>\n",
       "      <td>16.000000</td>\n",
       "      <td>7636.950000</td>\n",
       "    </tr>\n",
       "    <tr>\n",
       "      <th>2</th>\n",
       "      <td>4.454167</td>\n",
       "      <td>16</td>\n",
       "      <td>3.927222</td>\n",
       "      <td>5620.916667</td>\n",
       "      <td>31.000000</td>\n",
       "      <td>13235.250000</td>\n",
       "    </tr>\n",
       "    <tr>\n",
       "      <th>3</th>\n",
       "      <td>1.722500</td>\n",
       "      <td>256</td>\n",
       "      <td>20.269722</td>\n",
       "      <td>4610.900000</td>\n",
       "      <td>30.133333</td>\n",
       "      <td>52830.833333</td>\n",
       "    </tr>\n",
       "    <tr>\n",
       "      <th>4</th>\n",
       "      <td>0.020833</td>\n",
       "      <td>1</td>\n",
       "      <td>3.285278</td>\n",
       "      <td>3410.666667</td>\n",
       "      <td>43.333333</td>\n",
       "      <td>11709.000000</td>\n",
       "    </tr>\n",
       "    <tr>\n",
       "      <th>...</th>\n",
       "      <td>...</td>\n",
       "      <td>...</td>\n",
       "      <td>...</td>\n",
       "      <td>...</td>\n",
       "      <td>...</td>\n",
       "      <td>...</td>\n",
       "    </tr>\n",
       "    <tr>\n",
       "      <th>81339</th>\n",
       "      <td>0.015556</td>\n",
       "      <td>8</td>\n",
       "      <td>3.497500</td>\n",
       "      <td>5728.588235</td>\n",
       "      <td>29.117647</td>\n",
       "      <td>9722.235294</td>\n",
       "    </tr>\n",
       "    <tr>\n",
       "      <th>81340</th>\n",
       "      <td>0.030000</td>\n",
       "      <td>8</td>\n",
       "      <td>3.198889</td>\n",
       "      <td>4893.500000</td>\n",
       "      <td>8.500000</td>\n",
       "      <td>9311.500000</td>\n",
       "    </tr>\n",
       "    <tr>\n",
       "      <th>81341</th>\n",
       "      <td>2.067222</td>\n",
       "      <td>1</td>\n",
       "      <td>69.044722</td>\n",
       "      <td>2320.550000</td>\n",
       "      <td>17.850000</td>\n",
       "      <td>246744.750000</td>\n",
       "    </tr>\n",
       "    <tr>\n",
       "      <th>81342</th>\n",
       "      <td>0.002222</td>\n",
       "      <td>16</td>\n",
       "      <td>4.441389</td>\n",
       "      <td>3914.263158</td>\n",
       "      <td>23.473684</td>\n",
       "      <td>14162.947368</td>\n",
       "    </tr>\n",
       "    <tr>\n",
       "      <th>81343</th>\n",
       "      <td>0.001667</td>\n",
       "      <td>32</td>\n",
       "      <td>1.598056</td>\n",
       "      <td>10.000000</td>\n",
       "      <td>1.000000</td>\n",
       "      <td>2966.000000</td>\n",
       "    </tr>\n",
       "  </tbody>\n",
       "</table>\n",
       "<p>81344 rows × 6 columns</p>\n",
       "</div>"
      ],
      "text/plain": [
       "               p    q          r            x          w              z\n",
       "0       0.008889   64   6.506389  4026.117647   7.294118   17096.941176\n",
       "1      11.181667   16   3.035556  4494.150000  16.000000    7636.950000\n",
       "2       4.454167   16   3.927222  5620.916667  31.000000   13235.250000\n",
       "3       1.722500  256  20.269722  4610.900000  30.133333   52830.833333\n",
       "4       0.020833    1   3.285278  3410.666667  43.333333   11709.000000\n",
       "...          ...  ...        ...          ...        ...            ...\n",
       "81339   0.015556    8   3.497500  5728.588235  29.117647    9722.235294\n",
       "81340   0.030000    8   3.198889  4893.500000   8.500000    9311.500000\n",
       "81341   2.067222    1  69.044722  2320.550000  17.850000  246744.750000\n",
       "81342   0.002222   16   4.441389  3914.263158  23.473684   14162.947368\n",
       "81343   0.001667   32   1.598056    10.000000   1.000000    2966.000000\n",
       "\n",
       "[81344 rows x 6 columns]"
      ]
     },
     "execution_count": 14,
     "metadata": {},
     "output_type": "execute_result"
    }
   ],
   "source": [
    "features_label = ['p', 'q', 'r','x','w','z']\n",
    "target_label = [\"score\"]\n",
    "features = raw_dist[features_label]\n",
    "target = raw_dist[target_label]\n",
    "features"
   ]
  },
  {
   "cell_type": "code",
   "execution_count": 11,
   "metadata": {},
   "outputs": [
    {
     "name": "stdout",
     "output_type": "stream",
     "text": [
      "               pq          qp\n",
      "0        0.018889    0.018889\n",
      "1        0.071111    0.071111\n",
      "2        0.786667    0.786667\n",
      "3        0.014444    0.014444\n",
      "4      326.008889  326.008889\n",
      "...           ...         ...\n",
      "81339  124.435556  124.435556\n",
      "81340   17.973333   17.973333\n",
      "81341    0.001111    0.001111\n",
      "81342    0.037778    0.037778\n",
      "81343    0.179444    0.179444\n",
      "\n",
      "[81344 rows x 2 columns]\n"
     ]
    },
    {
     "name": "stderr",
     "output_type": "stream",
     "text": [
      "/home/djoser/.local/lib/python3.10/site-packages/statsmodels/stats/outliers_influence.py:198: RuntimeWarning: divide by zero encountered in scalar divide\n",
      "  vif = 1. / (1. - r_squared_i)\n"
     ]
    },
    {
     "data": {
      "text/html": [
       "<div>\n",
       "<style scoped>\n",
       "    .dataframe tbody tr th:only-of-type {\n",
       "        vertical-align: middle;\n",
       "    }\n",
       "\n",
       "    .dataframe tbody tr th {\n",
       "        vertical-align: top;\n",
       "    }\n",
       "\n",
       "    .dataframe thead th {\n",
       "        text-align: right;\n",
       "    }\n",
       "</style>\n",
       "<table border=\"1\" class=\"dataframe\">\n",
       "  <thead>\n",
       "    <tr style=\"text-align: right;\">\n",
       "      <th></th>\n",
       "      <th>VIF</th>\n",
       "      <th>feature</th>\n",
       "    </tr>\n",
       "  </thead>\n",
       "  <tbody>\n",
       "    <tr>\n",
       "      <th>0</th>\n",
       "      <td>inf</td>\n",
       "      <td>pq</td>\n",
       "    </tr>\n",
       "    <tr>\n",
       "      <th>1</th>\n",
       "      <td>inf</td>\n",
       "      <td>qp</td>\n",
       "    </tr>\n",
       "  </tbody>\n",
       "</table>\n",
       "</div>"
      ],
      "text/plain": [
       "   VIF feature\n",
       "0  inf      pq\n",
       "1  inf      qp"
      ]
     },
     "execution_count": 11,
     "metadata": {},
     "output_type": "execute_result"
    }
   ],
   "source": [
    "df_tmp=pd.DataFrame()\n",
    "df_tmp['pq']=features['p']*features['q']\n",
    "df_tmp['qp']=features['q']*features['p']\n",
    "print(df_tmp)\n",
    "compute_vif(df_tmp)"
   ]
  },
  {
   "cell_type": "code",
   "execution_count": 15,
   "metadata": {},
   "outputs": [
    {
     "data": {
      "text/html": [
       "<div>\n",
       "<style scoped>\n",
       "    .dataframe tbody tr th:only-of-type {\n",
       "        vertical-align: middle;\n",
       "    }\n",
       "\n",
       "    .dataframe tbody tr th {\n",
       "        vertical-align: top;\n",
       "    }\n",
       "\n",
       "    .dataframe thead th {\n",
       "        text-align: right;\n",
       "    }\n",
       "</style>\n",
       "<table border=\"1\" class=\"dataframe\">\n",
       "  <thead>\n",
       "    <tr style=\"text-align: right;\">\n",
       "      <th></th>\n",
       "      <th>VIF</th>\n",
       "      <th>feature</th>\n",
       "    </tr>\n",
       "  </thead>\n",
       "  <tbody>\n",
       "    <tr>\n",
       "      <th>0</th>\n",
       "      <td>1.364372</td>\n",
       "      <td>p</td>\n",
       "    </tr>\n",
       "    <tr>\n",
       "      <th>1</th>\n",
       "      <td>1.331507</td>\n",
       "      <td>q</td>\n",
       "    </tr>\n",
       "    <tr>\n",
       "      <th>2</th>\n",
       "      <td>8.960973</td>\n",
       "      <td>r</td>\n",
       "    </tr>\n",
       "    <tr>\n",
       "      <th>3</th>\n",
       "      <td>2.595350</td>\n",
       "      <td>x</td>\n",
       "    </tr>\n",
       "    <tr>\n",
       "      <th>4</th>\n",
       "      <td>2.410785</td>\n",
       "      <td>w</td>\n",
       "    </tr>\n",
       "    <tr>\n",
       "      <th>5</th>\n",
       "      <td>8.713250</td>\n",
       "      <td>z</td>\n",
       "    </tr>\n",
       "  </tbody>\n",
       "</table>\n",
       "</div>"
      ],
      "text/plain": [
       "        VIF feature\n",
       "0  1.364372       p\n",
       "1  1.331507       q\n",
       "2  8.960973       r\n",
       "3  2.595350       x\n",
       "4  2.410785       w\n",
       "5  8.713250       z"
      ]
     },
     "execution_count": 15,
     "metadata": {},
     "output_type": "execute_result"
    }
   ],
   "source": [
    "compute_vif(features[['p','q','r','x','w','z']])"
   ]
  },
  {
   "cell_type": "code",
   "execution_count": 28,
   "metadata": {},
   "outputs": [
    {
     "name": "stdout",
     "output_type": "stream",
     "text": [
      "######################1#######################\n"
     ]
    },
    {
     "name": "stderr",
     "output_type": "stream",
     "text": [
      "Progression :: 100%|██████████| 5000/5000 [05:10<00:00, 16.13it/s]"
     ]
    },
    {
     "name": "stdout",
     "output_type": "stream",
     "text": [
      "[1.0071730541347763, 1.0115373863525685, 1.0177372457082388, 1.019804719595026, 1.0207844300443942, 1.0246635702341809, 1.0276457553171892, 1.0377376671692264, 1.038257227011376, 1.0391375963883946, 1.041371539942287, 1.0419789863440818, 1.0504849802024852, 1.0524837831526732, 1.0533117803923246, 1.056911278055591, 1.0579565249939673, 1.0670487787404648, 1.0723438260910632, 1.0743698062655054]\n",
      "[('q1', 'w1', 'p2x', 'z2r'), ('q2', 'p2r', 'z2r', 'w2x'), ('w1', 'p2r', 'z2q', 'x2z'), ('sqrt(p)', 'sqrt(w)', 'x2', 'z2q'), ('p1', 'w1', 'x2', 'z2q'), ('sqrt(x)', 'q1w', 'p2x', 'z2q'), ('x2', 'p2z', 'w2q', 'r2w'), ('x2p', 'q2r', 'w2q', 'r2z'), ('p1', 'x1w', 'q2z', 'z2w'), ('sqrt(q)', 'w1', 'p1x', 'z2r'), ('w1', 'q2p', 'p2x', 'z2q'), ('q1', 'p2', 'z2p', 'x2w'), ('sqrt(w)', 'p2q', 'x2w', 'z2x'), ('sqrt(w)', 'p2z', 'z2q', 'w2x'), ('sqrt(q)', 'p1w', 'z2q', 'x2z'), ('sqrt(p)', 'q1w', 'r2p', 'x2z'), ('q2p', 'p2z', 'r2q', 'w2x'), ('sqrt(r)', 'x2p', 'p2z', 'q2x'), ('p2r', 'w2p', 'r2q', 'z2x'), ('sqrt(w)', 'p2z', 'q2z', 'x2z')]\n"
     ]
    },
    {
     "name": "stderr",
     "output_type": "stream",
     "text": [
      "\n"
     ]
    }
   ],
   "source": [
    "import seaborn as sns\n",
    "history=[]\n",
    "names=[]\n",
    "print(\"######################1#######################\")\n",
    "grid_search_2(features,4,1 )\n",
    "\n",
    "\n"
   ]
  },
  {
   "cell_type": "code",
   "execution_count": 29,
   "metadata": {},
   "outputs": [
    {
     "name": "stdout",
     "output_type": "stream",
     "text": [
      "######################2#######################\n"
     ]
    },
    {
     "name": "stderr",
     "output_type": "stream",
     "text": [
      "Progression :: 100%|██████████| 5000/5000 [05:55<00:00, 14.08it/s]"
     ]
    },
    {
     "name": "stdout",
     "output_type": "stream",
     "text": [
      "[2.001753016495575, 2.0017991875425776, 2.0050789015281225, 2.005521424060463, 2.0063357134138236, 2.007701720786509, 2.0113368451940064, 2.016840377178346, 2.025451620993881, 2.025915302657463, 2.0278519503968724, 2.0336975410532867, 2.0350511597503407, 2.042495517595455, 2.043384865045361, 2.053905005369894, 2.0584825417828982, 2.066340469337777, 2.070201224137037, 2.07185132768973]\n",
      "[('r2p', 'q2x', 'q2w', 'r2z'), ('sqrt(p)', 'w1', 'q2r', 'w2r'), ('q1', 'q1z', 'r1x', 'z2x'), ('p1r', 'r1x', 'r1z', 'x2w'), ('x2', 'x1w', 'w1z', 'x2q'), ('z2', 'x1z', 'p2z', 'z2q'), ('sqrt(r)', 'w1', 'p1x', 'p2q'), ('sqrt(x)', 'z2', 'q1w', 'q2x'), ('sqrt(w)', 'x1', 'q2z', 'z2q'), ('sqrt(z)', 'w2', 'p1x', 'w2q'), ('r1', 'x2', 'z2', 'x2q'), ('sqrt(x)', 'x2', 'r2p', 'x2w'), ('sqrt(r)', 'z2p', 'q2x', 'q2w'), ('r1w', 'r2p', 'r2q', 'w2z'), ('x1', 'p2', 'x1z', 'x2z'), ('p1z', 'p2r', 'r2x', 'w2z'), ('r1w', 'x2q', 'w2r', 'x2z'), ('p1x', 'q2x', 'q2w', 'z2q'), ('sqrt(z)', 'p1q', 'p1r', 'q1x'), ('sqrt(w)', 'p1z', 'r2p', 'q2w')]\n"
     ]
    },
    {
     "name": "stderr",
     "output_type": "stream",
     "text": [
      "\n"
     ]
    }
   ],
   "source": [
    "history=[]\n",
    "names=[]\n",
    "print(\"######################2#######################\")\n",
    "grid_search_2(features,4,2 )\n"
   ]
  },
  {
   "cell_type": "code",
   "execution_count": 30,
   "metadata": {},
   "outputs": [
    {
     "name": "stdout",
     "output_type": "stream",
     "text": [
      "######################3#######################\n"
     ]
    },
    {
     "name": "stderr",
     "output_type": "stream",
     "text": [
      "Progression :: 100%|██████████| 5000/5000 [06:08<00:00, 13.57it/s]"
     ]
    },
    {
     "name": "stdout",
     "output_type": "stream",
     "text": [
      "[3.001448603537554, 3.0018329548981364, 3.0026734576083727, 3.003448576995119, 3.005282031800789, 3.005861906641094, 3.0065061058077895, 3.012471174162681, 3.017653338812447, 3.03274926319941, 3.0580895758452704, 3.064657147879429, 3.0738470675222573, 3.080414712114192, 3.097534037964135, 3.097534606968791, 3.0986555889504355, 3.1092187165433427, 3.121980548323228, 3.123279508794355]\n",
      "[('p2r', 'w2p', 'z2r', 'z2x'), ('p2w', 'q2w', 'z2r', 'z2x'), ('q2', 'z2r', 'w2x', 'z2x'), ('r1', 'q1z', 'r1x', 'z2q'), ('p2', 'r2', 'z2', 'p2r'), ('r1', 'r2p', 'z2p', 'x2q'), ('r1', 'r1x', 'p2z', 'z2q'), ('w1z', 'r2p', 'z2p', 'w2z'), ('q2', 'p1q', 'q1z', 'z2r'), ('z1', 'p1q', 'p1z', 'r1z'), ('sqrt(q)', 'p1z', 'z2r', 'z2x'), ('z1', 'r1z', 'x1w', 'q2p'), ('sqrt(x)', 'z2', 'x1z', 'p2z'), ('r1', 'w1z', 'q2p', 'w2x'), ('z1', 'q1r', 'r1w', 'x2w'), ('p1', 'r1z', 'q2x', 'r2x'), ('q1z', 'p2x', 'z2q', 'r2z'), ('z1', 'x1w', 'p2q', 'x2w'), ('sqrt(x)', 'p1q', 'r1w', 'p2q'), ('r2p', 'z2p', 'w2x', 'z2w')]\n"
     ]
    },
    {
     "name": "stderr",
     "output_type": "stream",
     "text": [
      "\n"
     ]
    }
   ],
   "source": [
    "history=[]\n",
    "names=[]\n",
    "print(\"######################3#######################\")\n",
    "grid_search_2(features,4,3 )"
   ]
  },
  {
   "cell_type": "code",
   "execution_count": 32,
   "metadata": {},
   "outputs": [
    {
     "name": "stdout",
     "output_type": "stream",
     "text": [
      "######################4#######################\n"
     ]
    },
    {
     "name": "stderr",
     "output_type": "stream",
     "text": [
      "Progression :: 100%|██████████| 5000/5000 [05:53<00:00, 14.14it/s]"
     ]
    },
    {
     "name": "stdout",
     "output_type": "stream",
     "text": [
      "[4.0016615059252025, 4.0017748252123155, 4.007849326282283, 4.0129671615479685, 4.013335556960589, 4.014777356045461, 4.0216393156414645, 4.0538600058604795, 4.065535372440092, 4.070263962746913, 4.072416899451295, 4.104429303507691, 4.105112162150548, 4.145022149846673, 4.145984664538487, 4.169699754358808, 4.243972670419903, 4.357317324644466, 4.438606508348989, 4.4832542754567255]\n",
      "[('q1', 'q1x', 'w2p', 'r2w'), ('q1', 'w1', 'q1x', 'w2p'), ('sqrt(q)', 'sqrt(w)', 'p1q', 'q2w'), ('sqrt(w)', 'sqrt(z)', 'p1', 'w2x'), ('sqrt(r)', 'sqrt(x)', 'q1x', 'w2p'), ('z2', 'r1x', 'x2q', 'z2w'), ('w2p', 'r2x', 'w2r', 'z2x'), ('sqrt(r)', 'sqrt(w)', 'x2', 'x2r'), ('sqrt(r)', 'z1', 'q1r', 'w2r'), ('w2', 'p1x', 'q1r', 'q2z'), ('q2', 'r2', 'w2q', 'r2z'), ('sqrt(q)', 'x2', 'p1x', 'p2x'), ('w1', 'p1x', 'p1w', 'p2w'), ('r1z', 'p2r', 'z2p', 'z2w'), ('x2', 'p1r', 'r1z', 'z2w'), ('sqrt(x)', 'q1z', 'r1w', 'r2w'), ('x1z', 'w1z', 'x2w', 'x2z'), ('p1z', 'x2w', 'w2x', 'w2z'), ('r1', 'q1r', 'r1w', 'p2x'), ('sqrt(w)', 'sqrt(z)', 'w2q', 'r2x')]\n"
     ]
    },
    {
     "name": "stderr",
     "output_type": "stream",
     "text": [
      "\n"
     ]
    }
   ],
   "source": [
    "history=[]\n",
    "names=[]\n",
    "print(\"######################4#######################\")\n",
    "grid_search_2(features,4,4 )"
   ]
  },
  {
   "cell_type": "code",
   "execution_count": 33,
   "metadata": {},
   "outputs": [
    {
     "name": "stdout",
     "output_type": "stream",
     "text": [
      "######################5#######################\n"
     ]
    },
    {
     "name": "stderr",
     "output_type": "stream",
     "text": [
      "Progression :: 100%|██████████| 5000/5000 [05:15<00:00, 15.82it/s]"
     ]
    },
    {
     "name": "stdout",
     "output_type": "stream",
     "text": [
      "[5.001909199365414, 5.002064746911906, 5.007220955910219, 5.007281674550008, 5.012731937888864, 5.065518392572909, 5.0891206133276405, 5.093939824831389, 5.134517295843539, 5.171591695939989, 5.258491721837113, 5.275193480379023, 5.279284177308848, 5.31570157979282, 5.317978960521769, 5.3239111726706, 5.362383597481521, 5.3644077554586085, 5.388072578337106, 5.5037563093738955]\n",
      "[('r1', 'z2', 'r1w', 'p2q'), ('p1w', 'r1x', 'r2x', 'z2r'), ('r2', 'x1w', 'r2q', 'r2w'), ('p2', 'q1r', 'r1w', 'q2z'), ('r2', 'q1r', 'p2r', 'q2z'), ('x1', 'x2r', 'r2z', 'z2w'), ('p2q', 'p2x', 'z2r', 'z2w'), ('p2w', 'q2z', 'z2r', 'z2w'), ('z2', 'p2z', 'z2q', 'r2z'), ('sqrt(r)', 'sqrt(x)', 'x1w', 'r2z'), ('x1w', 'r2p', 'z2r', 'z2w'), ('sqrt(x)', 'sqrt(z)', 'z2', 'p1q'), ('r2', 'q1x', 'r2w', 'z2r'), ('r2', 'p1x', 'r1z', 'w2p'), ('p1', 'r2', 'r1z', 'q2p'), ('sqrt(q)', 'r2', 'r1z', 'w2q'), ('p1', 'r2', 'r1z', 'z2q'), ('sqrt(w)', 'sqrt(z)', 'p1x', 'r1z'), ('sqrt(r)', 'sqrt(x)', 'z2', 'x1z'), ('sqrt(w)', 'z1', 'r1z', 'x1w')]\n"
     ]
    },
    {
     "name": "stderr",
     "output_type": "stream",
     "text": [
      "\n"
     ]
    }
   ],
   "source": [
    "print(\"######################5#######################\")\n",
    "grid_search_2(features,4,5 )"
   ]
  },
  {
   "cell_type": "code",
   "execution_count": 34,
   "metadata": {},
   "outputs": [
    {
     "name": "stdout",
     "output_type": "stream",
     "text": [
      "######################6#######################\n"
     ]
    },
    {
     "name": "stderr",
     "output_type": "stream",
     "text": [
      "Progression :: 100%|██████████| 5000/5000 [04:56<00:00, 16.87it/s]"
     ]
    },
    {
     "name": "stdout",
     "output_type": "stream",
     "text": [
      "[6.009526062762847, 6.0160128006902625, 6.021903004826133, 6.028542190179751, 6.029166674179617, 6.030755477736484, 6.060532150292422, 6.101306467328559, 6.153783206450739, 6.166180710067725, 6.282350930842197, 6.376859976382505, 6.4011473441789555, 6.492538379768942, 6.535144401520387, 6.598280069977124, 6.988513071086951, 7.734750971970649, 7.827003518184426, 7.8369997657863495]\n",
      "[('q1z', 'p2r', 'x2q', 'q2z'), ('p1z', 'r1z', 'q2w', 'w2q'), ('p2', 'q1z', 'p2z', 'q2z'), ('sqrt(q)', 'sqrt(r)', 'z1', 'p1z'), ('sqrt(z)', 'p2r', 'q2w', 'w2q'), ('sqrt(q)', 'sqrt(x)', 'p1q', 'p2q'), ('x1', 'r2', 'r2z', 'z2x'), ('p1z', 'r2x', 'r2z', 'z2w'), ('z2', 'x1w', 'q2w', 'w2q'), ('sqrt(q)', 'q1', 'p1r', 'q2w'), ('sqrt(w)', 'z1', 'z2', 'r1w'), ('r2', 'p1z', 'r1z', 'x1z'), ('p1z', 'x2q', 'q2w', 'w2q'), ('q1z', 'q2p', 'q2z', 'w2z'), ('p1q', 'q1r', 'q2r', 'w2x'), ('sqrt(q)', 'q1', 'q1z', 'x1z'), ('r1', 'z2', 'q1z', 'r2z'), ('w2p', 'q2r', 'x2q', 'q2z'), ('q1', 'q1r', 'q1z', 'z2w'), ('sqrt(x)', 'sqrt(w)', 'x1z', 'q2x')]\n"
     ]
    },
    {
     "name": "stderr",
     "output_type": "stream",
     "text": [
      "\n"
     ]
    }
   ],
   "source": [
    "print(\"######################6#######################\")\n",
    "grid_search_2(features,4,6 )"
   ]
  },
  {
   "cell_type": "code",
   "execution_count": 35,
   "metadata": {},
   "outputs": [
    {
     "name": "stdout",
     "output_type": "stream",
     "text": [
      "######################7#######################\n"
     ]
    },
    {
     "name": "stderr",
     "output_type": "stream",
     "text": [
      "Progression :: 100%|██████████| 5000/5000 [04:55<00:00, 16.94it/s]"
     ]
    },
    {
     "name": "stdout",
     "output_type": "stream",
     "text": [
      "[7.008628818124605, 7.035559897464706, 7.044025776646811, 7.098912463617953, 7.1062464577159, 7.116248694857417, 7.153906341394767, 7.2390372394375575, 7.331443720042881, 7.333070767218341, 7.430913992773097, 7.5057770358302385, 7.7401295068028775, 7.819919920825129, 7.842614648947466, 8.017443288607327, 8.059077434299452, 8.097941055007286, 8.241792488153017, 8.365769322639666]\n",
      "[('sqrt(x)', 'x1w', 'w2x', 'z2w'), ('r1', 'x1', 'z2', 'r2z'), ('sqrt(x)', 'sqrt(w)', 'p2x', 'p2z'), ('x1', 'q1r', 'q1w', 'q2r'), ('sqrt(r)', 'sqrt(x)', 'z2', 'r1w'), ('sqrt(q)', 'q1', 'p1q', 'z2q'), ('sqrt(x)', 'sqrt(w)', 'r1z', 'w2q'), ('z2', 'p1x', 'r2w', 'z2w'), ('sqrt(q)', 'sqrt(x)', 'sqrt(w)', 'p2z'), ('sqrt(w)', 'z1', 'r2', 'r2w'), ('sqrt(q)', 'q1', 'q1x', 'w2z'), ('x1w', 'w2p', 'q2w', 'w2q'), ('p2w', 'q2r', 'q2z', 'w2z'), ('sqrt(w)', 'w1', 'z2', 'r2p'), ('sqrt(x)', 'sqrt(w)', 'q1', 'x1z'), ('sqrt(p)', 'p1', 'x1w', 'x2p'), ('p2r', 'q2r', 'q2w', 'w2q'), ('w1', 'p2', 'q1r', 'q1z'), ('sqrt(r)', 'q1x', 'r2p', 'q2x'), ('p1r', 'p1z', 'z2r', 'x2w')]\n"
     ]
    },
    {
     "name": "stderr",
     "output_type": "stream",
     "text": [
      "\n"
     ]
    }
   ],
   "source": [
    "print(\"######################7#######################\")\n",
    "grid_search_2(features,4,7 )"
   ]
  },
  {
   "cell_type": "code",
   "execution_count": 37,
   "metadata": {},
   "outputs": [
    {
     "name": "stdout",
     "output_type": "stream",
     "text": [
      "######################8#######################\n"
     ]
    },
    {
     "name": "stderr",
     "output_type": "stream",
     "text": [
      "Progression :: 100%|██████████| 5000/5000 [05:10<00:00, 16.10it/s]"
     ]
    },
    {
     "name": "stdout",
     "output_type": "stream",
     "text": [
      "[8.003473687245577, 8.011373287100955, 8.011825045354312, 8.022351242636304, 8.03311807573905, 8.110131747833956, 8.125229357934352, 8.275528788606401, 8.376156415642319, 8.432093776814941, 8.447239767162008, 8.469521207011603, 8.707549829092137, 8.76109297296522, 8.858322632647578, 9.099899257445303, 9.438791889677507, 9.449705289457226, 9.484648644452605, 9.801617955860962]\n",
      "[('sqrt(q)', 'sqrt(z)', 'z1', 'r1w'), ('q1x', 'q2p', 'q2r', 'q2x'), ('sqrt(r)', 'sqrt(w)', 'x2', 'r1x'), ('sqrt(w)', 'w1', 'q2p', 'x2q'), ('sqrt(r)', 'r2', 'r2x', 'x2z'), ('sqrt(w)', 'w1', 'p1z', 'x2q'), ('x1', 'q2r', 'q2w', 'w2q'), ('sqrt(z)', 'w1', 'z1', 'z2r'), ('q1', 'q2', 'q2x', 'w2z'), ('r1', 'p1q', 'r1w', 'w2z'), ('sqrt(z)', 'p1r', 'p1z', 'z2q'), ('z2', 'q1w', 'z2r', 'x2z'), ('q1', 'q2', 'r1x', 'q2x'), ('sqrt(z)', 'q1r', 'q2r', 'w2q'), ('sqrt(q)', 'r1', 'z1', 'p2x'), ('x2', 'p1r', 'p1z', 'r2z'), ('w2', 'p1r', 'p1z', 'r2w'), ('r1x', 'x1z', 'p2x', 'q2z'), ('r2', 'p1r', 'p1z', 'q2x'), ('r1x', 'x1z', 'x2p', 'z2p')]\n"
     ]
    },
    {
     "name": "stderr",
     "output_type": "stream",
     "text": [
      "\n"
     ]
    }
   ],
   "source": [
    "print(\"######################8#######################\")\n",
    "grid_search_2(features,4,8 )"
   ]
  },
  {
   "cell_type": "code",
   "execution_count": 38,
   "metadata": {},
   "outputs": [
    {
     "name": "stdout",
     "output_type": "stream",
     "text": [
      "######################9#######################\n"
     ]
    },
    {
     "name": "stderr",
     "output_type": "stream",
     "text": [
      "Progression :: 100%|██████████| 5000/5000 [04:54<00:00, 16.95it/s]"
     ]
    },
    {
     "name": "stdout",
     "output_type": "stream",
     "text": [
      "[9.027708950375395, 9.029719879417215, 9.040591028317369, 9.041235306711272, 9.042312582677937, 9.065636579977523, 9.212886067723966, 9.252388733367198, 9.347318670354825, 9.388310746221393, 9.412873215976624, 9.446766724687985, 9.501795229954057, 9.822659514464311, 9.897806133529715, 10.569371948673327, 10.60134062096243, 10.864192056979451, 12.864156351133133, 13.032761466938322]\n",
      "[('p1r', 'p1z', 'q1w', 'x2q'), ('sqrt(p)', 'p1', 'r1x', 'p2q'), ('r2', 'z2', 'q2r', 'z2r'), ('r1', 'z1', 'q1x', 'r2q'), ('w1', 'p1r', 'p1z', 'q1w'), ('sqrt(q)', 'p1r', 'p1z', 'x1w'), ('p1r', 'p1z', 'q1z', 'w2x'), ('r2', 'r1z', 'q2w', 'r2w'), ('sqrt(w)', 'x1', 'x2', 'z2'), ('sqrt(p)', 'sqrt(w)', 'w1', 'q2'), ('p1q', 'q2p', 'x2p', 'p2w'), ('p1r', 'p1z', 'r1x', 'r2w'), ('p1r', 'p1z', 'x1z', 'x2r'), ('r1w', 'w1z', 'p2r', 'z2p'), ('q1', 'q1x', 'w1z', 'x2q'), ('sqrt(p)', 'sqrt(z)', 'p1', 'r1'), ('sqrt(w)', 'w1', 'q1w', 'q2x'), ('sqrt(p)', 'r1', 'z1', 'w1z'), ('r1w', 'r1z', 'q2w', 'z2r'), ('sqrt(q)', 'sqrt(r)', 'q1', 'r1x')]\n"
     ]
    },
    {
     "name": "stderr",
     "output_type": "stream",
     "text": [
      "\n"
     ]
    }
   ],
   "source": [
    "print(\"######################9#######################\")\n",
    "grid_search_2(features,4,9 )"
   ]
  },
  {
   "cell_type": "code",
   "execution_count": 39,
   "metadata": {},
   "outputs": [
    {
     "name": "stdout",
     "output_type": "stream",
     "text": [
      "######################10#######################\n"
     ]
    },
    {
     "name": "stderr",
     "output_type": "stream",
     "text": [
      "Progression :: 100%|██████████| 5000/5000 [04:07<00:00, 20.22it/s]"
     ]
    },
    {
     "name": "stdout",
     "output_type": "stream",
     "text": [
      "[10.015880707426877, 10.045044667124959, 10.077742111598297, 10.08520797417565, 10.09196414655722, 10.113232563755586, 10.159402335830517, 10.230617121866493, 10.302066395227145, 10.450195112865604, 10.647966872799987, 10.698435500119974, 10.791400802971708, 10.793066114602636, 11.235271491856558, 11.741845143723499, 12.416875095456017, 12.97513165182763, 14.583819666653445, 15.093969712700465]\n",
      "[('r2', 'z2', 'r1w', 'z2r'), ('r1', 'q1r', 'z2p', 'q2r'), ('q1x', 'p2r', 'p2z', 'q2r'), ('p2r', 'w2p', 'p2z', 'w2x'), ('r1', 'z1', 'r2w', 'w2x'), ('sqrt(r)', 'q2p', 'p2r', 'p2z'), ('r1z', 'p2r', 'p2z', 'x2w'), ('p1w', 'p2q', 'p2r', 'p2z'), ('x1w', 'p2r', 'r2p', 'p2z'), ('r1', 'z1', 'p2', 'r1z'), ('sqrt(w)', 'w1', 'q1x', 'w2r'), ('z2', 'x2r', 'r2w', 'z2r'), ('sqrt(w)', 'w1', 'p1x', 'w2p'), ('sqrt(w)', 'w1', 'q1x', 'w2z'), ('r1', 'r1w', 'p2q', 'w2r'), ('z1', 'p1r', 'r1w', 'w1z'), ('sqrt(r)', 'sqrt(w)', 'x1', 'z1'), ('sqrt(x)', 'x1', 'p2x', 'r2z'), ('sqrt(x)', 'x1', 'z1', 'q2x'), ('sqrt(p)', 'p1', 'q1x', 'p2w')]\n"
     ]
    },
    {
     "name": "stderr",
     "output_type": "stream",
     "text": [
      "\n"
     ]
    }
   ],
   "source": [
    "print(\"######################10#######################\")\n",
    "grid_search_2(features,4,10 )"
   ]
  },
  {
   "cell_type": "code",
   "execution_count": null,
   "metadata": {},
   "outputs": [],
   "source": [
    "compute_vif(create_quadratic_polynomial(features))"
   ]
  },
  {
   "cell_type": "code",
   "execution_count": null,
   "metadata": {},
   "outputs": [],
   "source": [
    "compute_vif(create_cubic_polynomial(features))"
   ]
  },
  {
   "cell_type": "code",
   "execution_count": null,
   "metadata": {},
   "outputs": [],
   "source": [
    "compute_vif(create_quartic_polynomial(features))"
   ]
  },
  {
   "cell_type": "code",
   "execution_count": null,
   "metadata": {
    "colab": {
     "base_uri": "https://localhost:8080/",
     "height": 833
    },
    "executionInfo": {
     "elapsed": 364,
     "status": "ok",
     "timestamp": 1669485409514,
     "user": {
      "displayName": "Lucas de Sousa Rosa",
      "userId": "13726313841360537470"
     },
     "user_tz": 180
    },
    "id": "oNtFi_FjBNQw",
    "outputId": "93ba6afa-d738-40da-ac87-21cfba7a8f67"
   },
   "outputs": [],
   "source": [
    "compute_vif(create_quintic_polynomial(features))"
   ]
  },
  {
   "cell_type": "code",
   "execution_count": null,
   "metadata": {
    "id": "ZxAOmB_YEdmj"
   },
   "outputs": [],
   "source": [
    "compute_vif(features)"
   ]
  }
 ],
 "metadata": {
  "colab": {
   "authorship_tag": "ABX9TyPMhh/jmRsvwvTAytBDa8t0",
   "mount_file_id": "1eGwhasuHjhtSeDceCIzNdMx7ImGGeICK",
   "provenance": []
  },
  "kernelspec": {
   "display_name": "Python 3 (ipykernel)",
   "language": "python",
   "name": "python3"
  },
  "language_info": {
   "codemirror_mode": {
    "name": "ipython",
    "version": 3
   },
   "file_extension": ".py",
   "mimetype": "text/x-python",
   "name": "python",
   "nbconvert_exporter": "python",
   "pygments_lexer": "ipython3",
   "version": "3.10.12"
  }
 },
 "nbformat": 4,
 "nbformat_minor": 4
}
