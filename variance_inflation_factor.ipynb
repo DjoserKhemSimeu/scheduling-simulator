{
 "cells": [
  {
   "cell_type": "code",
   "execution_count": 2,
   "metadata": {
    "executionInfo": {
     "elapsed": 2571,
     "status": "ok",
     "timestamp": 1669484044970,
     "user": {
      "displayName": "Lucas de Sousa Rosa",
      "userId": "13726313841360537470"
     },
     "user_tz": 180
    },
    "id": "ooIH0eUWpw2e"
   },
   "outputs": [],
   "source": [
    "import numpy as np\n",
    "import pandas as pd\n",
    "import matplotlib.pyplot as plt\n",
    "import seaborn as sns\n",
    "import itertools\n",
    "import math\n",
    "from tqdm import tqdm\n",
    "from multiprocessing import Process, Pool\n",
    "from statsmodels.stats.outliers_influence import variance_inflation_factor"
   ]
  },
  {
   "cell_type": "code",
   "execution_count": 3,
   "metadata": {
    "executionInfo": {
     "elapsed": 3,
     "status": "ok",
     "timestamp": 1669484044971,
     "user": {
      "displayName": "Lucas de Sousa Rosa",
      "userId": "13726313841360537470"
     },
     "user_tz": 180
    },
    "id": "_KiyNEaKkdUk"
   },
   "outputs": [],
   "source": [
    "def convert_temporal_data(dataframe):\n",
    "  '''\n",
    "  Convert temporal variables from seconds to hours.\n",
    "\n",
    "  This conversion is necessary. Otherwise, large predictor values (e.g., p^6)\n",
    "  will be irrelevant for OLS.\n",
    "  '''\n",
    "\n",
    "  for column in ['p', 'r']:\n",
    "    dataframe[column] = dataframe[column] / 3600\n",
    "\n",
    "  return dataframe\n",
    "\n",
    "def read_score_distribution(csv_file):\n",
    "  columns = ['p', 'q', 'r', 'score']\n",
    "  distribution = pd.read_csv(csv_file, names=columns,skiprows=1)\n",
    "  distribution = convert_temporal_data(distribution)\n",
    "\n",
    "  return distribution"
   ]
  },
  {
   "cell_type": "code",
   "execution_count": 4,
   "metadata": {
    "executionInfo": {
     "elapsed": 3,
     "status": "ok",
     "timestamp": 1669484044971,
     "user": {
      "displayName": "Lucas de Sousa Rosa",
      "userId": "13726313841360537470"
     },
     "user_tz": 180
    },
    "id": "LTLhv17MpNhc"
   },
   "outputs": [],
   "source": [
    "def add_quadratic_predictors(dataframe):\n",
    "  dataframe[['p2', 'q2', 'r2']] = dataframe[['p', 'q', 'r']]**2\n",
    "  dataframe['pq'] = dataframe['p']*dataframe['q']\n",
    "\n",
    "  return dataframe\n",
    "\n",
    "def add_cubic_predictors(dataframe):\n",
    "  dataframe[['p3', 'q3', 'r3']] = dataframe[['p', 'q', 'r']]**3\n",
    "  dataframe['p2q'] = dataframe['p']**2 * dataframe['q']\n",
    "  dataframe['pq2'] = dataframe['p'] * dataframe['q']**2\n",
    "\n",
    "  return dataframe\n",
    "\n",
    "def add_quartic_predictiors(dataframe):\n",
    "  dataframe[['p4', 'q4', 'r4']] = dataframe[['p', 'q', 'r']]**4\n",
    "  dataframe['p3q'] = dataframe['p']**3 * dataframe['q']\n",
    "  dataframe['p2q2'] = dataframe['p']**2 * dataframe['q']**2\n",
    "  dataframe['pq3'] = dataframe['p'] * dataframe['q']**3\n",
    "\n",
    "  return dataframe\n",
    "\n",
    "def add_quintic_predictors(dataframe):\n",
    "  dataframe[['p5', 'q5', 'r5']] = dataframe[['p', 'q', 'r']]**5\n",
    "  dataframe['p4q'] = dataframe['p']**4 * dataframe['q']\n",
    "  dataframe['p3q2'] = dataframe['p']**3 * dataframe['q']**2\n",
    "  dataframe['p2q3'] = dataframe['p']**2 * dataframe['q']**3\n",
    "  dataframe['pq4'] = dataframe['p'] * dataframe['q']**4\n",
    "\n",
    "  return dataframe\n",
    "\n",
    "def add_sextic_predictors(dataframe):\n",
    "  dataframe[['p6', 'q6', 'r6']] = dataframe[['p', 'q', 'r']]**6\n",
    "  dataframe['p5q'] = dataframe['p']**5 * dataframe['q']\n",
    "  dataframe['p4q2'] = dataframe['p']**4 * dataframe['q']**2\n",
    "  dataframe['p3q3'] = dataframe['p']**3 * dataframe['q']**3\n",
    "  dataframe['p2q4'] = dataframe['p']**2 * dataframe['q']**4\n",
    "  dataframe['pq5'] = dataframe['p'] * dataframe['q']**5\n",
    "\n",
    "  return dataframe\n",
    "def only_att_predictors(dataframe):\n",
    "    dataframe[['p2', 'q2', 'r2']] = dataframe[['p', 'q', 'r']]**2\n",
    "    dataframe[['p3', 'q3', 'r3']] = dataframe[['p', 'q', 'r']]**3\n",
    "    dataframe[['p4', 'q4', 'r4']] = dataframe[['p', 'q', 'r']]**4\n",
    "    dataframe[['p5', 'q5', 'r5']] = dataframe[['p', 'q', 'r']]**5\n",
    "    dataframe[['p6', 'q6', 'r6']] = dataframe[['p', 'q', 'r']]**6\n",
    "\n",
    "    return dataframe\n",
    "def only_wq_att_predictors(dataframe):\n",
    "    dataframe[['p2', 'r2']] = dataframe[['p', 'r']]**2\n",
    "    dataframe[['p3',  'r3']] = dataframe[['p', 'r']]**3\n",
    "    dataframe[['p4',  'r4']] = dataframe[['p', 'r']]**4\n",
    "    dataframe[['p5',  'r5']] = dataframe[['p', 'r']]**5\n",
    "    dataframe[['p6',  'r6']] = dataframe[['p', 'r']]**6\n",
    "\n",
    "    return dataframe\n",
    "def only_lin_predictors(dataframe):\n",
    "    dataframe['pq'] = dataframe['p']*dataframe['q']\n",
    "    dataframe['p2q'] = dataframe['p']**2 * dataframe['q']\n",
    "    dataframe['pq2'] = dataframe['p'] * dataframe['q']**2\n",
    "    dataframe['p3q'] = dataframe['p']**3 * dataframe['q']\n",
    "    dataframe['p2q2'] = dataframe['p']**2 * dataframe['q']**2\n",
    "    dataframe['pq3'] = dataframe['p'] * dataframe['q']**3\n",
    "    dataframe['p4q'] = dataframe['p']**4 * dataframe['q']\n",
    "    dataframe['p3q2'] = dataframe['p']**3 * dataframe['q']**2\n",
    "    dataframe['p2q3'] = dataframe['p']**2 * dataframe['q']**3\n",
    "    dataframe['pq4'] = dataframe['p'] * dataframe['q']**4\n",
    "\n",
    "    return dataframe\n",
    "def only_lin_predictors_pr(dataframe):\n",
    "    dataframe['pr'] = dataframe['p']*dataframe['r']\n",
    "    dataframe['p2r'] = dataframe['p']**2 * dataframe['r']\n",
    "    dataframe['pr2'] = dataframe['p'] * dataframe['r']**2\n",
    "    dataframe['p3r'] = dataframe['p']**3 * dataframe['r']\n",
    "    dataframe['p2r2'] = dataframe['p']**2 * dataframe['r']**2\n",
    "    dataframe['p4r'] = dataframe['p']**4 * dataframe['r']\n",
    "    dataframe['p3r2'] = dataframe['p']**3 * dataframe['r']**2\n",
    "    dataframe['p2r3'] = dataframe['p']**2 * dataframe['r']**3\n",
    "    dataframe['pr4'] = dataframe['p'] * dataframe['r']**4\n",
    "\n",
    "    return dataframe"
   ]
  },
  {
   "cell_type": "code",
   "execution_count": 5,
   "metadata": {
    "executionInfo": {
     "elapsed": 2,
     "status": "ok",
     "timestamp": 1669484045522,
     "user": {
      "displayName": "Lucas de Sousa Rosa",
      "userId": "13726313841360537470"
     },
     "user_tz": 180
    },
    "id": "pTrHGIrzpZvJ"
   },
   "outputs": [],
   "source": [
    "def create_quadratic_polynomial(dataframe):\n",
    "  dataframe = add_quadratic_predictors(dataframe)\n",
    "  return dataframe\n",
    "\n",
    "def create_cubic_polynomial(dataframe):\n",
    "  dataframe = add_cubic_predictors(\n",
    "              add_quadratic_predictors(dataframe))\n",
    "  return dataframe\n",
    "\n",
    "def create_quartic_polynomial(dataframe):\n",
    "  dataframe = add_quartic_predictiors(\n",
    "              add_cubic_predictors(\n",
    "              add_quadratic_predictors(dataframe)))\n",
    "  return dataframe\n",
    "\n",
    "def create_quintic_polynomial(dataframe):\n",
    "  dataframe = add_quintic_predictors(\n",
    "              add_quartic_predictiors(\n",
    "              add_cubic_predictors(\n",
    "              add_quadratic_predictors(dataframe))))\n",
    "  return dataframe\n",
    "\n",
    "def create_sextic_polynomial(dataframe):\n",
    "  dataframe = add_sextic_predictors(\n",
    "              add_quintic_predictors(\n",
    "              add_quartic_predictiors(\n",
    "              add_cubic_predictors(\n",
    "              add_quadratic_predictors(dataframe)))))\n",
    "  return dataframe"
   ]
  },
  {
   "cell_type": "code",
   "execution_count": 33,
   "metadata": {},
   "outputs": [
    {
     "name": "stdout",
     "output_type": "stream",
     "text": [
      "['sqrt(p)', 'sqrt(q)', 'sqrt(r)', 'p1', 'q1', 'r1', 'p2', 'q2', 'r2', 'p3', 'q3', 'r3', 'p4', 'q4', 'r4', 'p1q', 'p1r', 'q1r', 'p2q', 'q2p', 'p2r', 'r2p', 'q2r', 'r2q', 'p3q', 'q3p', 'p3r', 'r3p', 'q3r', 'r3q', 'p4q', 'q4p', 'p4r', 'r4p', 'q4r', 'r4q']\n"
     ]
    }
   ],
   "source": [
    "variables = ['p', 'q', 'r']\n",
    "degre_max = 4\n",
    "\n",
    "# Générer les combinaisons\n",
    "possibilites = []\n",
    "possibilites.append(\"sqrt(p)\")\n",
    "possibilites.append(\"sqrt(q)\")\n",
    "possibilites.append(\"sqrt(r)\")\n",
    "for degre in range(1, degre_max + 1):\n",
    "    for variable in variables:\n",
    "        possibilites.append(variable + str(degre))\n",
    "\n",
    "for degre in range(1, degre_max + 1):\n",
    "    for i in range(len(variables)):\n",
    "        for j in range(i + 1, len(variables)):\n",
    "            possibilites.append(variables[i] + str(degre) + variables[j])\n",
    "            if degre!=1:\n",
    "                possibilites.append(variables[j] + str(degre) + variables[i])\n",
    "\n",
    "\n",
    "\n",
    "# Afficher les combinaisons\n",
    "print (possibilites)"
   ]
  },
  {
   "cell_type": "code",
   "execution_count": 23,
   "metadata": {},
   "outputs": [],
   "source": [
    "import copy\n",
    "\n",
    "history=[]\n",
    "names=[]\n",
    "def grid_search (dataframe, n,threshold):\n",
    "    best_vif=[100000000000000]*20\n",
    "    best_set=[[],[],[],[],[],[],[],[],[],[],[],[],[],[],[],[],[],[],[],[]]\n",
    "    comb=list(itertools.combinations(possibilites,n))\n",
    "    \n",
    "    for var_set in tqdm(comb, desc=\"Progression :\" ):\n",
    "        df_copy = pd.DataFrame()\n",
    "        \n",
    "        # Appliquer les transformations pour chaque variable dans l'ensemble\n",
    "        for var in var_set:\n",
    "            \n",
    "            if var.startswith('sqrt'):\n",
    "                \n",
    "                root_var = var[-2]  # Récupérer la variable ('p', 'q' ou 'r') à partir de la variable sqrt\n",
    "                df_copy[var] = dataframe[root_var].apply(math.sqrt)\n",
    "                \n",
    "            elif var.startswith(('p', 'q', 'r'))and len(var)==2:\n",
    "                power = int(var[1:]) if len(var) > 1 else 1  # Récupérer l'exposant du polynôme\n",
    "                base_var = var[0]  # Récupérer la variable ('p', 'q' ou 'r') à partir de la variable polynomiale\n",
    "                df_copy[var] = dataframe[base_var] ** power\n",
    "            elif var in [ 'p1q', 'p1r', 'q1r']:\n",
    "                var_1, var_2 = var[0], var[2]  # Récupérer les deux variables ('p', 'q' ou 'r') de la combinaison\n",
    "                df_copy[var] = dataframe[var_1]  * dataframe[var_2]\n",
    "            elif var in ['p2q', 'q2p', 'p2r', 'r2p', 'q2r', 'r2q']:\n",
    "                var_1, var_2 = var[0], var[2]  # Récupérer les deux variables ('p', 'q' ou 'r') de la combinaison\n",
    "                df_copy[var] = (dataframe[var_1] **2) * dataframe[var_2]\n",
    "            elif var in ['p3q', 'q3p', 'p3r', 'r3p', 'q3r', 'r3q']:\n",
    "                var_1, var_2 = var[0], var[2]  # Récupérer les trois variables ('p', 'q' ou 'r') de la combinaison\n",
    "                df_copy[var] = (dataframe[var_1]**3) * dataframe[var_2] \n",
    "            elif var in ['p4q', 'q4p', 'p4r', 'r4p', 'q4r', 'r4q']:\n",
    "                var_1, var_2 = var[0], var[2] # Récupérer les quatre variables ('p', 'q' ou 'r') de la combinaison\n",
    "                df_copy[var] = (dataframe[var_1]**4) * dataframe[var_2]\n",
    "        res=compute_vif(df_copy)\n",
    "        max=np.max(res['VIF'])\n",
    "        history.append(max)\n",
    "        if n==1 : \n",
    "            names.append(var_set[-1])\n",
    "        else : \n",
    "            res= var_set[0]\n",
    "            for var in var_set:\n",
    "                if var != var_set[0]:\n",
    "                    res += \"-\"+var\n",
    "            names.append(res)\n",
    "        b=False\n",
    "        idx=0\n",
    "        for best in best_vif:\n",
    "            if max<best and max>=threshold:\n",
    "                b=True\n",
    "                break\n",
    "            idx+=1\n",
    "        if b==True:\n",
    "            tmp_vif=best_vif.copy()\n",
    "            tmp_set=best_set.copy()\n",
    "            for i in range (idx+1,5):\n",
    "                \n",
    "                tmp_vif[i]=best_vif[i-1]\n",
    "                tmp_set[i]=best_set[i-1]\n",
    "            tmp_vif[idx]=max\n",
    "            tmp_set[idx]=var_set\n",
    "            best_vif=tmp_vif\n",
    "            best_set=tmp_set\n",
    "        \n",
    "        \n",
    "            \n",
    "    with open(\"grid.csv\", \"a+\") as res:\n",
    "        res.write(str(n))\n",
    "        res.write(',')\n",
    "        res.write(str(best_vif))\n",
    "        res.write(',')\n",
    "        res.write(str(best_set))\n",
    "        res.write('\\n')\n",
    "    print(best_vif)\n",
    "    print(best_set)\n"
   ]
  },
  {
   "cell_type": "code",
   "execution_count": 25,
   "metadata": {
    "executionInfo": {
     "elapsed": 221,
     "status": "ok",
     "timestamp": 1669484384212,
     "user": {
      "displayName": "Lucas de Sousa Rosa",
      "userId": "13726313841360537470"
     },
     "user_tz": 180
    },
    "id": "oB5v7bz4AnVQ"
   },
   "outputs": [],
   "source": [
    "def compute_vif(features):\n",
    "    vif = pd.DataFrame()\n",
    "    vif['VIF'] = [variance_inflation_factor(features.values, i) for i in range(features.shape[1])]\n",
    "    vif['feature'] = features.columns\n",
    "    return vif"
   ]
  },
  {
   "cell_type": "code",
   "execution_count": 27,
   "metadata": {
    "executionInfo": {
     "elapsed": 224,
     "status": "ok",
     "timestamp": 1669485155437,
     "user": {
      "displayName": "Lucas de Sousa Rosa",
      "userId": "13726313841360537470"
     },
     "user_tz": 180
    },
    "id": "psiyWO8FqFD5"
   },
   "outputs": [],
   "source": [
    "csv_file = \"data/global_training_data_GA.csv\"\n",
    "raw_dist = read_score_distribution(csv_file)"
   ]
  },
  {
   "cell_type": "code",
   "execution_count": 26,
   "metadata": {
    "colab": {
     "base_uri": "https://localhost:8080/",
     "height": 424
    },
    "executionInfo": {
     "elapsed": 234,
     "status": "ok",
     "timestamp": 1669485266425,
     "user": {
      "displayName": "Lucas de Sousa Rosa",
      "userId": "13726313841360537470"
     },
     "user_tz": 180
    },
    "id": "CghP2XJUA1Gb",
    "outputId": "06d45020-adf1-4abc-b51d-0b3dc63151ca"
   },
   "outputs": [
    {
     "data": {
      "text/html": [
       "<div>\n",
       "<style scoped>\n",
       "    .dataframe tbody tr th:only-of-type {\n",
       "        vertical-align: middle;\n",
       "    }\n",
       "\n",
       "    .dataframe tbody tr th {\n",
       "        vertical-align: top;\n",
       "    }\n",
       "\n",
       "    .dataframe thead th {\n",
       "        text-align: right;\n",
       "    }\n",
       "</style>\n",
       "<table border=\"1\" class=\"dataframe\">\n",
       "  <thead>\n",
       "    <tr style=\"text-align: right;\">\n",
       "      <th></th>\n",
       "      <th>p</th>\n",
       "      <th>q</th>\n",
       "      <th>r</th>\n",
       "    </tr>\n",
       "  </thead>\n",
       "  <tbody>\n",
       "    <tr>\n",
       "      <th>0</th>\n",
       "      <td>0.009444</td>\n",
       "      <td>2</td>\n",
       "      <td>4.613333</td>\n",
       "    </tr>\n",
       "    <tr>\n",
       "      <th>1</th>\n",
       "      <td>0.002222</td>\n",
       "      <td>32</td>\n",
       "      <td>4.627500</td>\n",
       "    </tr>\n",
       "    <tr>\n",
       "      <th>2</th>\n",
       "      <td>0.049167</td>\n",
       "      <td>16</td>\n",
       "      <td>4.908333</td>\n",
       "    </tr>\n",
       "    <tr>\n",
       "      <th>3</th>\n",
       "      <td>0.014444</td>\n",
       "      <td>1</td>\n",
       "      <td>4.928889</td>\n",
       "    </tr>\n",
       "    <tr>\n",
       "      <th>4</th>\n",
       "      <td>2.546944</td>\n",
       "      <td>128</td>\n",
       "      <td>4.931667</td>\n",
       "    </tr>\n",
       "    <tr>\n",
       "      <th>...</th>\n",
       "      <td>...</td>\n",
       "      <td>...</td>\n",
       "      <td>...</td>\n",
       "    </tr>\n",
       "    <tr>\n",
       "      <th>81339</th>\n",
       "      <td>3.888611</td>\n",
       "      <td>32</td>\n",
       "      <td>19.506111</td>\n",
       "    </tr>\n",
       "    <tr>\n",
       "      <th>81340</th>\n",
       "      <td>0.280833</td>\n",
       "      <td>64</td>\n",
       "      <td>19.533889</td>\n",
       "    </tr>\n",
       "    <tr>\n",
       "      <th>81341</th>\n",
       "      <td>0.001111</td>\n",
       "      <td>1</td>\n",
       "      <td>83.753056</td>\n",
       "    </tr>\n",
       "    <tr>\n",
       "      <th>81342</th>\n",
       "      <td>0.018889</td>\n",
       "      <td>2</td>\n",
       "      <td>83.766111</td>\n",
       "    </tr>\n",
       "    <tr>\n",
       "      <th>81343</th>\n",
       "      <td>0.009444</td>\n",
       "      <td>19</td>\n",
       "      <td>83.814167</td>\n",
       "    </tr>\n",
       "  </tbody>\n",
       "</table>\n",
       "<p>81344 rows × 3 columns</p>\n",
       "</div>"
      ],
      "text/plain": [
       "              p    q          r\n",
       "0      0.009444    2   4.613333\n",
       "1      0.002222   32   4.627500\n",
       "2      0.049167   16   4.908333\n",
       "3      0.014444    1   4.928889\n",
       "4      2.546944  128   4.931667\n",
       "...         ...  ...        ...\n",
       "81339  3.888611   32  19.506111\n",
       "81340  0.280833   64  19.533889\n",
       "81341  0.001111    1  83.753056\n",
       "81342  0.018889    2  83.766111\n",
       "81343  0.009444   19  83.814167\n",
       "\n",
       "[81344 rows x 3 columns]"
      ]
     },
     "execution_count": 26,
     "metadata": {},
     "output_type": "execute_result"
    }
   ],
   "source": [
    "features_label = ['p', 'q', 'r']\n",
    "target_label = [\"score\"]\n",
    "features = raw_dist[features_label]\n",
    "target = raw_dist[target_label]\n",
    "features"
   ]
  },
  {
   "cell_type": "code",
   "execution_count": 11,
   "metadata": {},
   "outputs": [
    {
     "name": "stdout",
     "output_type": "stream",
     "text": [
      "               pq          qp\n",
      "0        0.018889    0.018889\n",
      "1        0.071111    0.071111\n",
      "2        0.786667    0.786667\n",
      "3        0.014444    0.014444\n",
      "4      326.008889  326.008889\n",
      "...           ...         ...\n",
      "81339  124.435556  124.435556\n",
      "81340   17.973333   17.973333\n",
      "81341    0.001111    0.001111\n",
      "81342    0.037778    0.037778\n",
      "81343    0.179444    0.179444\n",
      "\n",
      "[81344 rows x 2 columns]\n"
     ]
    },
    {
     "name": "stderr",
     "output_type": "stream",
     "text": [
      "/home/djoser/.local/lib/python3.10/site-packages/statsmodels/stats/outliers_influence.py:198: RuntimeWarning: divide by zero encountered in scalar divide\n",
      "  vif = 1. / (1. - r_squared_i)\n"
     ]
    },
    {
     "data": {
      "text/html": [
       "<div>\n",
       "<style scoped>\n",
       "    .dataframe tbody tr th:only-of-type {\n",
       "        vertical-align: middle;\n",
       "    }\n",
       "\n",
       "    .dataframe tbody tr th {\n",
       "        vertical-align: top;\n",
       "    }\n",
       "\n",
       "    .dataframe thead th {\n",
       "        text-align: right;\n",
       "    }\n",
       "</style>\n",
       "<table border=\"1\" class=\"dataframe\">\n",
       "  <thead>\n",
       "    <tr style=\"text-align: right;\">\n",
       "      <th></th>\n",
       "      <th>VIF</th>\n",
       "      <th>feature</th>\n",
       "    </tr>\n",
       "  </thead>\n",
       "  <tbody>\n",
       "    <tr>\n",
       "      <th>0</th>\n",
       "      <td>inf</td>\n",
       "      <td>pq</td>\n",
       "    </tr>\n",
       "    <tr>\n",
       "      <th>1</th>\n",
       "      <td>inf</td>\n",
       "      <td>qp</td>\n",
       "    </tr>\n",
       "  </tbody>\n",
       "</table>\n",
       "</div>"
      ],
      "text/plain": [
       "   VIF feature\n",
       "0  inf      pq\n",
       "1  inf      qp"
      ]
     },
     "execution_count": 11,
     "metadata": {},
     "output_type": "execute_result"
    }
   ],
   "source": [
    "df_tmp=pd.DataFrame()\n",
    "df_tmp['pq']=features['p']*features['q']\n",
    "df_tmp['qp']=features['q']*features['p']\n",
    "print(df_tmp)\n",
    "compute_vif(df_tmp)"
   ]
  },
  {
   "cell_type": "code",
   "execution_count": 12,
   "metadata": {},
   "outputs": [
    {
     "data": {
      "text/html": [
       "<div>\n",
       "<style scoped>\n",
       "    .dataframe tbody tr th:only-of-type {\n",
       "        vertical-align: middle;\n",
       "    }\n",
       "\n",
       "    .dataframe tbody tr th {\n",
       "        vertical-align: top;\n",
       "    }\n",
       "\n",
       "    .dataframe thead th {\n",
       "        text-align: right;\n",
       "    }\n",
       "</style>\n",
       "<table border=\"1\" class=\"dataframe\">\n",
       "  <thead>\n",
       "    <tr style=\"text-align: right;\">\n",
       "      <th></th>\n",
       "      <th>VIF</th>\n",
       "      <th>feature</th>\n",
       "    </tr>\n",
       "  </thead>\n",
       "  <tbody>\n",
       "    <tr>\n",
       "      <th>0</th>\n",
       "      <td>1.272781</td>\n",
       "      <td>p</td>\n",
       "    </tr>\n",
       "    <tr>\n",
       "      <th>1</th>\n",
       "      <td>1.252365</td>\n",
       "      <td>q</td>\n",
       "    </tr>\n",
       "    <tr>\n",
       "      <th>2</th>\n",
       "      <td>1.151622</td>\n",
       "      <td>r</td>\n",
       "    </tr>\n",
       "  </tbody>\n",
       "</table>\n",
       "</div>"
      ],
      "text/plain": [
       "        VIF feature\n",
       "0  1.272781       p\n",
       "1  1.252365       q\n",
       "2  1.151622       r"
      ]
     },
     "execution_count": 12,
     "metadata": {},
     "output_type": "execute_result"
    }
   ],
   "source": [
    "compute_vif(features[['p','q','r']])"
   ]
  },
  {
   "cell_type": "code",
   "execution_count": 32,
   "metadata": {},
   "outputs": [
    {
     "name": "stdout",
     "output_type": "stream",
     "text": [
      "######################1#######################\n"
     ]
    },
    {
     "name": "stderr",
     "output_type": "stream",
     "text": [
      "Progression :: 100%|██████████| 5456/5456 [03:23<00:00, 26.77it/s]"
     ]
    },
    {
     "name": "stdout",
     "output_type": "stream",
     "text": [
      "[1.0003153515821601, 1.0003947578512513, 1.0004074078936562, 1.0004750801006355, 1.0004796715280073, 1.0005403866829419, 1.0006459700614874, 1.0007519098072788, 1.000994363901229, 1.0009956317557047, 1.0011571105714707, 1.0012172551091552, 1.0018789646954167, 1.001890197000479, 1.0020398145591378, 1.002484713180795, 1.0028314044150282, 1.0042560744563713, 1.0042584803146177, 1.0045677786472833]\n",
      "[('r4', 'q4p', 'p4r'), ('r4', 'q3p', 'p4r'), ('p4', 'r4', 'q4p'), ('p4', 'q4', 'r4'), ('p4', 'q4p', 'r4p'), ('p4', 'r4', 'q3p'), ('p4', 'q3p', 'r4p'), ('r4', 'q2p', 'p4r'), ('p4', 'r3p', 'q4p'), ('r4', 'p3r', 'q4p'), ('q4p', 'p4r', 'r4p'), ('q3p', 'p4r', 'r4p'), ('q4', 'r4', 'p4q'), ('q4', 'p4q', 'r4p'), ('r4', 'q2p', 'p3r'), ('q4p', 'p4r', 'r4q'), ('p3r', 'q4p', 'r4q'), ('q4', 'p3r', 'r4q'), ('r3q', 'q4p', 'p4r'), ('q3p', 'r3q', 'p4r')]\n"
     ]
    },
    {
     "name": "stderr",
     "output_type": "stream",
     "text": [
      "\n"
     ]
    }
   ],
   "source": [
    "import seaborn as sns\n",
    "history=[]\n",
    "names=[]\n",
    "print(\"######################1#######################\")\n",
    "grid_search(features,3,1 )\n",
    "\n",
    "\n"
   ]
  },
  {
   "cell_type": "code",
   "execution_count": 34,
   "metadata": {},
   "outputs": [
    {
     "name": "stdout",
     "output_type": "stream",
     "text": [
      "######################2#######################\n"
     ]
    },
    {
     "name": "stderr",
     "output_type": "stream",
     "text": [
      "Progression :: 100%|██████████| 7140/7140 [04:29<00:00, 26.48it/s]"
     ]
    },
    {
     "name": "stdout",
     "output_type": "stream",
     "text": [
      "[7.030116555458655, 7.048382716001007, 7.060764887979526, 7.0653566305080355, 7.07312967391587, 7.171080672199681, 7.194766749974029, 7.224269784525663, 7.228762217036042, 7.236905323688716, 7.321325735124912, 7.328005582869794, 7.696154955043733, 7.879268982727759, 7.924653506767348, 8.017977057387746, 8.095479439063087, 8.148971257751583, 8.262057799130202, 8.264768482036008]\n",
      "[('q1r', 'q2r', 'q4p'), ('sqrt(p)', 'sqrt(r)', 'r1'), ('r3', 'q1r', 'q2r'), ('sqrt(p)', 'q1r', 'q2r'), ('q3', 'p1q', 'p2q'), ('q1r', 'p2r', 'p3r'), ('p2', 'p2r', 'p3r'), ('p2', 'p3', 'r3p'), ('q3', 'q1r', 'q2r'), ('r2', 'p2r', 'p3r'), ('q4', 'p2q', 'q3p'), ('p2r', 'p3r', 'p4q'), ('p2q', 'p3q', 'q4p'), ('r2', 'r3', 'q4r'), ('p2r', 'p3r', 'r4p'), ('r2', 'q1r', 'q2r'), ('r2', 'r3', 'r2q'), ('r2q', 'q4r', 'r4q'), ('r2p', 'r3p', 'q4p'), ('r2p', 'r3p', 'q4r')]\n"
     ]
    },
    {
     "name": "stderr",
     "output_type": "stream",
     "text": [
      "\n"
     ]
    }
   ],
   "source": [
    "history=[]\n",
    "names=[]\n",
    "print(\"######################2#######################\")\n",
    "grid_search(features,3,7 )\n"
   ]
  },
  {
   "cell_type": "code",
   "execution_count": 35,
   "metadata": {},
   "outputs": [
    {
     "name": "stdout",
     "output_type": "stream",
     "text": [
      "######################3#######################\n"
     ]
    },
    {
     "name": "stderr",
     "output_type": "stream",
     "text": [
      "Progression :: 100%|██████████| 7140/7140 [04:48<00:00, 24.78it/s]"
     ]
    },
    {
     "name": "stdout",
     "output_type": "stream",
     "text": [
      "[8.017977057387746, 8.04749863301937, 8.057028222765389, 8.081109744303072, 8.095479439063087, 8.148971257751583, 8.262057799130202, 8.264768482036008, 8.294205647800824, 8.311540442552763, 8.383456355207883, 8.48112628886997, 8.64446113642909, 8.843509441334502, 8.97552277309257, 9.657088511764403, 9.934339133570777, 10.44689792450661, 11.119026752175918, 11.64895586513516]\n",
      "[('r2', 'q1r', 'q2r'), ('r2', 'r3', 'r2p'), ('p2', 'p3', 'p4q'), ('sqrt(p)', 'p1', 'p1r'), ('r2', 'r3', 'r2q'), ('r2q', 'q4r', 'r4q'), ('r2p', 'r3p', 'q4p'), ('r2p', 'r3p', 'q4r'), ('r2p', 'r3p', 'q3r'), ('r2p', 'r3p', 'p4q'), ('r2p', 'q2r', 'r3p'), ('p2q', 'r2p', 'r3p'), ('r2p', 'r3p', 'r3q'), ('r2p', 'r3p', 'r4q'), ('r2q', 'q3r', 'r4q'), ('p3q', 'p4q', 'r4q'), ('p3q', 'p4q', 'q4r'), ('p3q', 'p3r', 'p4q'), ('p3q', 'p4q', 'p4r'), ('r2q', 'r3q', 'p4r')]\n"
     ]
    },
    {
     "name": "stderr",
     "output_type": "stream",
     "text": [
      "\n"
     ]
    }
   ],
   "source": [
    "history=[]\n",
    "names=[]\n",
    "print(\"######################3#######################\")\n",
    "grid_search(features,3,8 )"
   ]
  },
  {
   "cell_type": "code",
   "execution_count": 36,
   "metadata": {},
   "outputs": [
    {
     "name": "stdout",
     "output_type": "stream",
     "text": [
      "######################4#######################\n"
     ]
    },
    {
     "name": "stderr",
     "output_type": "stream",
     "text": [
      "Progression :: 100%|██████████| 7140/7140 [05:05<00:00, 23.39it/s]"
     ]
    },
    {
     "name": "stdout",
     "output_type": "stream",
     "text": [
      "[9.011365745326126, 9.034334195197909, 9.042986031604123, 9.048934343709899, 9.05175399598587, 9.109820428299956, 9.201790286743291, 9.655915222178951, 9.657088511764403, 9.710755373862451, 9.900470686813891, 9.934339133570777, 10.028056775535644, 10.44689792450661, 11.119026752175918, 11.64895586513516, 11.694106621710567, 11.734416141177602, 11.79984475290541, 11.96886212553574]\n",
      "[('sqrt(p)', 'p1', 'p4r'), ('p1q', 'q2p', 'q3r'), ('p2q', 'p3q', 'q3p'), ('sqrt(r)', 'p1q', 'q2p'), ('p1q', 'q2p', 'p2r'), ('r2p', 'r3p', 'p4r'), ('p1q', 'q2p', 'q4r'), ('r4', 'p3q', 'p4q'), ('p3q', 'p4q', 'r4q'), ('r2p', 'p3r', 'r3p'), ('p1q', 'p1r', 'q2p'), ('p3q', 'p4q', 'q4r'), ('q2r', 'p3q', 'p4q'), ('p3q', 'p3r', 'p4q'), ('p3q', 'p4q', 'p4r'), ('r2q', 'r3q', 'p4r'), ('q2', 'q4', 'p4q'), ('r2q', 'r3p', 'r3q'), ('p2r', 'r2q', 'r3q'), ('p2q', 'r2q', 'r3q')]\n"
     ]
    },
    {
     "name": "stderr",
     "output_type": "stream",
     "text": [
      "\n"
     ]
    }
   ],
   "source": [
    "history=[]\n",
    "names=[]\n",
    "print(\"######################4#######################\")\n",
    "grid_search(features,3,9 )"
   ]
  },
  {
   "cell_type": "code",
   "execution_count": 37,
   "metadata": {},
   "outputs": [
    {
     "name": "stdout",
     "output_type": "stream",
     "text": [
      "######################5#######################\n"
     ]
    },
    {
     "name": "stderr",
     "output_type": "stream",
     "text": [
      "Progression :: 100%|██████████| 7140/7140 [04:56<00:00, 24.07it/s]"
     ]
    },
    {
     "name": "stdout",
     "output_type": "stream",
     "text": [
      "[10.028056775535644, 10.030228330855094, 10.03939593453847, 10.057838453114192, 10.123376926584458, 10.44689792450661, 10.91315023714512, 10.955586752513634, 11.119026752175918, 11.242493728592175, 11.64895586513516, 11.68932778339787, 11.690569913872517, 11.694106621710567, 11.734416141177602, 11.79984475290541, 11.96886212553574, 11.980907649157231, 12.177762309695117, 12.332842811380003]\n",
      "[('q2r', 'p3q', 'p4q'), ('p2', 'p3q', 'p4q'), ('q1', 'p1q', 'p2q'), ('q1r', 'p3q', 'p4q'), ('sqrt(p)', 'sqrt(r)', 'p1'), ('p3q', 'p3r', 'p4q'), ('r1', 'r2', 'r4'), ('q2', 'p3q', 'p4q'), ('p3q', 'p4q', 'p4r'), ('q2r', 'r2q', 'r4q'), ('r2q', 'r3q', 'p4r'), ('q2', 'q4', 'r3p'), ('q2', 'q4', 'r3q'), ('q2', 'q4', 'p4q'), ('r2q', 'r3p', 'r3q'), ('p2r', 'r2q', 'r3q'), ('p2q', 'r2q', 'r3q'), ('r2q', 'r3q', 'r4p'), ('r2p', 'r2q', 'r3q'), ('r2q', 'r3q', 'q4p')]\n"
     ]
    },
    {
     "name": "stderr",
     "output_type": "stream",
     "text": [
      "\n"
     ]
    }
   ],
   "source": [
    "print(\"######################5#######################\")\n",
    "grid_search(features,3,10 )"
   ]
  },
  {
   "cell_type": "code",
   "execution_count": 12,
   "metadata": {},
   "outputs": [
    {
     "name": "stderr",
     "output_type": "stream",
     "text": [
      "Progression :: 100%|██████████████████████████████████████████████████████████████████████████████████████████████████████████████████████████████████████████████████████| 630/630 [00:11<00:00, 56.43it/s]"
     ]
    },
    {
     "name": "stdout",
     "output_type": "stream",
     "text": [
      "[1.0000000687381108, 1.0000003845348913, 1.0000007016175474, 1.0000009714029523, 1.000001195608339]\n",
      "[('p4', 'r4q'), ('p4', 'r3q'), ('r4', 'p4q'), ('p4q', 'r4q'), ('p4', 'r4')]\n"
     ]
    },
    {
     "name": "stderr",
     "output_type": "stream",
     "text": [
      "\n"
     ]
    },
    {
     "data": {
      "text/plain": [
       "<Figure size 4000x1000 with 0 Axes>"
      ]
     },
     "metadata": {},
     "output_type": "display_data"
    }
   ],
   "source": [
    "history=[]\n",
    "names=[]\n",
    "grid_search(features,2 )\n",
    "plt.figure(figsize=(40, 10))\n",
    "data=pd.DataFrame(zip(history,names),columns=['VIF','NAME'])\n",
    "data=data.sort_values('VIF')"
   ]
  },
  {
   "cell_type": "code",
   "execution_count": 33,
   "metadata": {},
   "outputs": [
    {
     "name": "stdout",
     "output_type": "stream",
     "text": [
      "1.2727812286448872\n"
     ]
    }
   ],
   "source": [
    "print(np.max(compute_vif(features)[\"VIF\"]))"
   ]
  },
  {
   "cell_type": "code",
   "execution_count": 119,
   "metadata": {},
   "outputs": [
    {
     "ename": "IndexError",
     "evalue": "tuple index out of range",
     "output_type": "error",
     "traceback": [
      "\u001b[0;31m---------------------------------------------------------------------------\u001b[0m",
      "\u001b[0;31mIndexError\u001b[0m                                Traceback (most recent call last)",
      "Cell \u001b[0;32mIn[119], line 1\u001b[0m\n\u001b[0;32m----> 1\u001b[0m \u001b[43mcompute_vif\u001b[49m\u001b[43m(\u001b[49m\u001b[43mfeatures\u001b[49m\u001b[43m[\u001b[49m\u001b[38;5;124;43m'\u001b[39;49m\u001b[38;5;124;43mp\u001b[39;49m\u001b[38;5;124;43m'\u001b[39;49m\u001b[43m]\u001b[49m\u001b[38;5;241;43m*\u001b[39;49m\u001b[43mfeatures\u001b[49m\u001b[43m[\u001b[49m\u001b[38;5;124;43m'\u001b[39;49m\u001b[38;5;124;43mq\u001b[39;49m\u001b[38;5;124;43m'\u001b[39;49m\u001b[43m]\u001b[49m\u001b[43m)\u001b[49m\n",
      "Cell \u001b[0;32mIn[9], line 3\u001b[0m, in \u001b[0;36mcompute_vif\u001b[0;34m(features)\u001b[0m\n\u001b[1;32m      1\u001b[0m \u001b[38;5;28;01mdef\u001b[39;00m \u001b[38;5;21mcompute_vif\u001b[39m(features):\n\u001b[1;32m      2\u001b[0m     vif \u001b[38;5;241m=\u001b[39m pd\u001b[38;5;241m.\u001b[39mDataFrame()\n\u001b[0;32m----> 3\u001b[0m     vif[\u001b[38;5;124m'\u001b[39m\u001b[38;5;124mVIF\u001b[39m\u001b[38;5;124m'\u001b[39m] \u001b[38;5;241m=\u001b[39m [variance_inflation_factor(features\u001b[38;5;241m.\u001b[39mvalues, i) \u001b[38;5;28;01mfor\u001b[39;00m i \u001b[38;5;129;01min\u001b[39;00m \u001b[38;5;28mrange\u001b[39m(\u001b[43mfeatures\u001b[49m\u001b[38;5;241;43m.\u001b[39;49m\u001b[43mshape\u001b[49m\u001b[43m[\u001b[49m\u001b[38;5;241;43m1\u001b[39;49m\u001b[43m]\u001b[49m)]\n\u001b[1;32m      4\u001b[0m     vif[\u001b[38;5;124m'\u001b[39m\u001b[38;5;124mfeature\u001b[39m\u001b[38;5;124m'\u001b[39m] \u001b[38;5;241m=\u001b[39m features\u001b[38;5;241m.\u001b[39mcolumns\n\u001b[1;32m      5\u001b[0m     \u001b[38;5;28;01mreturn\u001b[39;00m vif\n",
      "\u001b[0;31mIndexError\u001b[0m: tuple index out of range"
     ]
    }
   ],
   "source": [
    "compute_vif(features['p']*features['q'])\n"
   ]
  },
  {
   "cell_type": "code",
   "execution_count": 21,
   "metadata": {},
   "outputs": [
    {
     "name": "stderr",
     "output_type": "stream",
     "text": [
      "Progression: 100%|███████████████████████████████████████████████████████████████████████████████████████████████████████████████████████████████████████████████████████████████| 435/435 [00:35<00:00, 12.22it/s]\n"
     ]
    },
    {
     "name": "stdout",
     "output_type": "stream",
     "text": [
      "1.2862065211525044\n",
      "('r3q', 'r4p')\n"
     ]
    }
   ],
   "source": [
    "p=[]\n",
    "for i in range (2,3):\n",
    "    p.append(Process(target=grid_search,args=(features,i)))\n",
    "    p[i-2].start()\n",
    "    \n",
    "for proc in p:\n",
    "    proc.join()\n",
    "    \n",
    "        "
   ]
  },
  {
   "cell_type": "code",
   "execution_count": null,
   "metadata": {},
   "outputs": [],
   "source": [
    "res=only_lin_predictors_pr(features)\n",
    "vif=compute_vif(res)\n",
    "print (vif)\n",
    "print(\"mean = \",np.mean(vif.VIF))"
   ]
  },
  {
   "cell_type": "code",
   "execution_count": null,
   "metadata": {},
   "outputs": [],
   "source": [
    "compute_vif(create_quadratic_polynomial(features))"
   ]
  },
  {
   "cell_type": "code",
   "execution_count": null,
   "metadata": {},
   "outputs": [],
   "source": [
    "compute_vif(create_cubic_polynomial(features))"
   ]
  },
  {
   "cell_type": "code",
   "execution_count": null,
   "metadata": {},
   "outputs": [],
   "source": [
    "compute_vif(create_quartic_polynomial(features))"
   ]
  },
  {
   "cell_type": "code",
   "execution_count": null,
   "metadata": {
    "colab": {
     "base_uri": "https://localhost:8080/",
     "height": 833
    },
    "executionInfo": {
     "elapsed": 364,
     "status": "ok",
     "timestamp": 1669485409514,
     "user": {
      "displayName": "Lucas de Sousa Rosa",
      "userId": "13726313841360537470"
     },
     "user_tz": 180
    },
    "id": "oNtFi_FjBNQw",
    "outputId": "93ba6afa-d738-40da-ac87-21cfba7a8f67"
   },
   "outputs": [],
   "source": [
    "compute_vif(create_quintic_polynomial(features))"
   ]
  },
  {
   "cell_type": "code",
   "execution_count": null,
   "metadata": {
    "id": "ZxAOmB_YEdmj"
   },
   "outputs": [],
   "source": [
    "compute_vif(features)"
   ]
  }
 ],
 "metadata": {
  "colab": {
   "authorship_tag": "ABX9TyPMhh/jmRsvwvTAytBDa8t0",
   "mount_file_id": "1eGwhasuHjhtSeDceCIzNdMx7ImGGeICK",
   "provenance": []
  },
  "kernelspec": {
   "display_name": "Python 3 (ipykernel)",
   "language": "python",
   "name": "python3"
  },
  "language_info": {
   "codemirror_mode": {
    "name": "ipython",
    "version": 3
   },
   "file_extension": ".py",
   "mimetype": "text/x-python",
   "name": "python",
   "nbconvert_exporter": "python",
   "pygments_lexer": "ipython3",
   "version": "3.10.12"
  }
 },
 "nbformat": 4,
 "nbformat_minor": 4
}
