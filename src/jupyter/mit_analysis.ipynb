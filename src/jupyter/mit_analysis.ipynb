{
 "cells": [
  {
   "cell_type": "code",
   "execution_count": 1,
   "metadata": {},
   "outputs": [],
   "source": [
    "import numpy as np\n",
    "import pandas as pd\n",
    "import matplotlib.pyplot as plt\n",
    "import seaborn as sns\n",
    "\n",
    "from parser_mit_dataset import to_swf"
   ]
  },
  {
   "attachments": {},
   "cell_type": "markdown",
   "metadata": {},
   "source": [
    "# Exploring the MIT Supercloud dataset\n",
    "Some questions about:\n",
    "- How easy is to covert it to the standard workloads format?\n",
    "- What's different from the dataset I've been using?\n",
    "- What's the same?"
   ]
  },
  {
   "cell_type": "code",
   "execution_count": 2,
   "metadata": {},
   "outputs": [
    {
     "name": "stdout",
     "output_type": "stream",
     "text": [
      "<class 'pandas.core.frame.DataFrame'>\n",
      "RangeIndex: 395914 entries, 0 to 395913\n",
      "Data columns (total 29 columns):\n",
      " #   Column              Non-Null Count   Dtype  \n",
      "---  ------              --------------   -----  \n",
      " 0   id_job              395914 non-null  int64  \n",
      " 1   id_array_job        395914 non-null  int64  \n",
      " 2   id_array_task       395914 non-null  int64  \n",
      " 3   id_user             395914 non-null  int64  \n",
      " 4   kill_requid         395914 non-null  int64  \n",
      " 5   nodes_alloc         395914 non-null  int64  \n",
      " 6   nodelist            395914 non-null  object \n",
      " 7   cpus_req            395914 non-null  int64  \n",
      " 8   derived_ec          395914 non-null  int64  \n",
      " 9   exit_code           395914 non-null  int64  \n",
      " 10  gres_used           0 non-null       float64\n",
      " 11  array_max_tasks     395914 non-null  int64  \n",
      " 12  array_task_pending  395914 non-null  int64  \n",
      " 13  constraints         395914 non-null  object \n",
      " 14  flags               395914 non-null  int64  \n",
      " 15  mem_req             395914 non-null  uint64 \n",
      " 16  partition           395914 non-null  object \n",
      " 17  priority            395914 non-null  int64  \n",
      " 18  state               395914 non-null  int64  \n",
      " 19  timelimit           395914 non-null  int64  \n",
      " 20  time_submit         395914 non-null  int64  \n",
      " 21  time_eligible       395914 non-null  int64  \n",
      " 22  time_start          395914 non-null  int64  \n",
      " 23  time_end            395914 non-null  int64  \n",
      " 24  time_suspended      395914 non-null  int64  \n",
      " 25  track_steps         395914 non-null  int64  \n",
      " 26  tres_alloc          395914 non-null  object \n",
      " 27  tres_req            395914 non-null  object \n",
      " 28  job_type            395914 non-null  object \n",
      "dtypes: float64(1), int64(21), object(6), uint64(1)\n",
      "memory usage: 87.6+ MB\n"
     ]
    }
   ],
   "source": [
    "mit_raw = pd.read_csv(\"mit-logs.csv\")\n",
    "mit_raw.info()"
   ]
  },
  {
   "cell_type": "code",
   "execution_count": null,
   "metadata": {},
   "outputs": [],
   "source": [
    "mit_raw['partition'].value_counts()"
   ]
  },
  {
   "attachments": {},
   "cell_type": "markdown",
   "metadata": {},
   "source": [
    "For us, the important jobs are from the CPU-only partition (Xeon Platinum 8260 CPU). I guess those jobs are marked as `xeon-p8` partition."
   ]
  },
  {
   "cell_type": "code",
   "execution_count": null,
   "metadata": {},
   "outputs": [],
   "source": [
    "mit_raw[['exit_code']].value_counts().head()"
   ]
  },
  {
   "attachments": {},
   "cell_type": "markdown",
   "metadata": {},
   "source": [
    "It's also important to only select those jobs with `exit_code` 0."
   ]
  },
  {
   "cell_type": "code",
   "execution_count": null,
   "metadata": {},
   "outputs": [],
   "source": [
    "mit_raw[mit_raw['exit_code'] == 0]"
   ]
  },
  {
   "cell_type": "code",
   "execution_count": null,
   "metadata": {},
   "outputs": [],
   "source": [
    "mit_raw[mit_raw['timelimit'] == 4294967295]['job_type'].value_counts()"
   ]
  },
  {
   "cell_type": "code",
   "execution_count": null,
   "metadata": {},
   "outputs": [],
   "source": [
    "mit_raw['constraints'][mit_raw['partition'] == 'xeon-p8'].value_counts()"
   ]
  },
  {
   "attachments": {},
   "cell_type": "markdown",
   "metadata": {},
   "source": [
    "The constraints field indicates the type of processor on which execute the job. This information is in accordance with the partition information."
   ]
  },
  {
   "cell_type": "code",
   "execution_count": null,
   "metadata": {},
   "outputs": [],
   "source": [
    "mit_raw['state'].value_counts() # Nothing meaningful here"
   ]
  },
  {
   "attachments": {},
   "cell_type": "markdown",
   "metadata": {},
   "source": [
    "## Standard workloads format equivalence\n",
    "To convert the MIT Supercloud dataset to the standard workloads format, we need to:\n",
    "- Filter the dataset to only select the CPU-only partition (Xeon Platinum 8260 CPU) and jobs with `exit_code` 0. (DONE)\n",
    "\n",
    "| SWF                             | MIT Supercloud           |\n",
    "|---------------------------------|--------------------------|\n",
    "| Job Number                      | id_job                   |\n",
    "| Submit Time                     | time_submit              |\n",
    "| Wait Time                       | time_start - time_submit |\n",
    "| Run Time                        | time_end - time_start    |\n",
    "| Number of Allocated Processors  | -                        |\n",
    "| Average CPU Time Used           | -                        |\n",
    "| Used Memory                     | -                        |\n",
    "| Requested Number of Processors  | cpus_req                 |\n",
    "| Requested Time                  | timelimit                |\n",
    "| Requested Memory                | mem_req                  |\n",
    "| Status                          | -                        |\n",
    "| User ID                         | id_user                  |\n",
    "| Group ID                        | -                        |\n",
    "| Executable (Application) Number | -                        |\n",
    "| Queue Number                    | -                        |\n",
    "| Partition Number                | -                        |\n",
    "| Preceding Job Number            | -                        |\n",
    "| Think Time from Preceding Job   | -                        |"
   ]
  },
  {
   "cell_type": "code",
   "execution_count": 3,
   "metadata": {},
   "outputs": [
    {
     "name": "stdout",
     "output_type": "stream",
     "text": [
      "<class 'pandas.core.frame.DataFrame'>\n",
      "RangeIndex: 393426 entries, 0 to 393425\n",
      "Data columns (total 18 columns):\n",
      " #   Column                           Non-Null Count   Dtype \n",
      "---  ------                           --------------   ----- \n",
      " 0   Job number                       393426 non-null  int64 \n",
      " 1   Submit time                      393426 non-null  int64 \n",
      " 2   Wait time                        393426 non-null  int64 \n",
      " 3   Run time                         393426 non-null  int64 \n",
      " 4   Number of allocated processors   393426 non-null  int64 \n",
      " 5   Average CPU time used            393426 non-null  int64 \n",
      " 6   Used memory                      393426 non-null  int64 \n",
      " 7   Requested number of processors   393426 non-null  int64 \n",
      " 8   Requested time                   393426 non-null  int64 \n",
      " 9   Requested memory                 393426 non-null  uint64\n",
      " 10  Status                           393426 non-null  int64 \n",
      " 11  User ID                          393426 non-null  int64 \n",
      " 12  Group ID                         393426 non-null  int64 \n",
      " 13  Executable (application) number  393426 non-null  int64 \n",
      " 14  Queue number                     393426 non-null  int64 \n",
      " 15  Partition number                 393426 non-null  int64 \n",
      " 16  Preceding job number             393426 non-null  int64 \n",
      " 17  Think time from preceding job    393426 non-null  int64 \n",
      "dtypes: int64(17), uint64(1)\n",
      "memory usage: 54.0 MB\n"
     ]
    }
   ],
   "source": [
    "mit_swf = to_swf(mit_raw)\n",
    "mit_swf.info()"
   ]
  },
  {
   "cell_type": "code",
   "execution_count": null,
   "metadata": {},
   "outputs": [],
   "source": [
    "mit_swf.head()"
   ]
  },
  {
   "attachments": {},
   "cell_type": "markdown",
   "metadata": {},
   "source": [
    "Seems we have enough data to use in our experiments."
   ]
  },
  {
   "attachments": {},
   "cell_type": "markdown",
   "metadata": {},
   "source": [
    "## The time limit question"
   ]
  },
  {
   "cell_type": "code",
   "execution_count": null,
   "metadata": {},
   "outputs": [],
   "source": [
    "mit_swf['Requested time'].value_counts()"
   ]
  },
  {
   "cell_type": "code",
   "execution_count": null,
   "metadata": {},
   "outputs": [],
   "source": [
    "mit_swf[['User ID', 'Requested time']]"
   ]
  },
  {
   "cell_type": "code",
   "execution_count": null,
   "metadata": {},
   "outputs": [],
   "source": [
    "# Group by Requested time and get the unique User ID\n",
    "result = mit_swf[['User ID', 'Requested time']].groupby(\"Requested time\")[\"User ID\"].unique()\n",
    "print(result)\n",
    "# Reset the index and rename the columns\n",
    "result = result.reset_index().rename(columns={\"User ID\": \"Associated User ID\"})\n",
    "result"
   ]
  },
  {
   "cell_type": "code",
   "execution_count": null,
   "metadata": {},
   "outputs": [],
   "source": [
    "strange_req_time = result[result[\"Requested time\"] == 4294967295]\n",
    "associated_user_ids = strange_req_time[\"Associated User ID\"]\n",
    "print(associated_user_ids.iloc[0].size)"
   ]
  },
  {
   "attachments": {},
   "cell_type": "markdown",
   "metadata": {},
   "source": [
    "283 users requested a time limit of 4294967295."
   ]
  },
  {
   "cell_type": "code",
   "execution_count": null,
   "metadata": {},
   "outputs": [],
   "source": [
    "unique_user_ids = mit_swf[\"User ID\"].nunique()\n",
    "print(\"Number of unique User IDs:\", unique_user_ids)\n",
    "user_ids_associated_with_strange_value = associated_user_ids.iloc[0].size\n",
    "print(\"Fraction of User IDs associated with strange value:\", user_ids_associated_with_strange_value / unique_user_ids)"
   ]
  },
  {
   "attachments": {},
   "cell_type": "markdown",
   "metadata": {},
   "source": [
    "## Checking the time unit"
   ]
  },
  {
   "cell_type": "code",
   "execution_count": null,
   "metadata": {},
   "outputs": [],
   "source": [
    "req_times = pd.Series(mit_swf[\"Requested time\"].unique())\n",
    "print(req_times)"
   ]
  },
  {
   "cell_type": "code",
   "execution_count": null,
   "metadata": {},
   "outputs": [],
   "source": [
    "req_times = pd.to_timedelta(req_times, unit=\"s\")\n",
    "print(req_times.sort_values().to_string())"
   ]
  },
  {
   "attachments": {},
   "cell_type": "markdown",
   "metadata": {},
   "source": [
    "## Large Requested time vs. Run time"
   ]
  },
  {
   "cell_type": "code",
   "execution_count": null,
   "metadata": {},
   "outputs": [],
   "source": [
    "runtimes = mit_swf[['Run time', 'Requested time', 'Number of allocated processors']]\n",
    "runtimes = runtimes[runtimes['Requested time'] == 4294967295]\n",
    "print(runtimes)"
   ]
  },
  {
   "cell_type": "code",
   "execution_count": null,
   "metadata": {},
   "outputs": [],
   "source": [
    "# Boxplot of the runtimes (without outliers)\n",
    "plt.figure(figsize=(10, 5))\n",
    "sns.boxplot(x=\"Run time\", data=runtimes, showfliers=False)\n",
    "plt.show()\n",
    "\n",
    "# Boxplot of the runtimes just the outliers\n",
    "plt.figure(figsize=(10, 5))\n",
    "sns.boxplot(x=\"Run time\", data=runtimes, showfliers=True)\n",
    "plt.show()"
   ]
  },
  {
   "cell_type": "code",
   "execution_count": null,
   "metadata": {},
   "outputs": [],
   "source": [
    "# Histogram of the runtimes\n",
    "plt.figure(figsize=(10, 5))\n",
    "plt.hist(runtimes['Number of allocated processors'], bins=100000, histtype='stepfilled', color='steelblue', edgecolor='none')\n",
    "plt.xlabel(\"Run time (s)\")\n",
    "plt.ylabel(\"Frequency\")\n",
    "plt.title(\"Histogram of runtimes\")\n",
    "plt.gca().set_xlim((0, 24))\n",
    "plt.show()"
   ]
  },
  {
   "cell_type": "code",
   "execution_count": null,
   "metadata": {},
   "outputs": [],
   "source": [
    "run_times.max()"
   ]
  },
  {
   "cell_type": "code",
   "execution_count": 5,
   "metadata": {},
   "outputs": [],
   "source": [
    "import re\n",
    "\n",
    "class ReaderSWF:\n",
    "    def __init__(self, filename):\n",
    "        self.filename = filename\n",
    "        self.number_of_jobs = None\n",
    "        self.number_of_processors = None\n",
    "        self.jobs_info = {'p': [], '~p': [], 'q': [], 'r': []}\n",
    "        self.read_and_extract_data()\n",
    "\n",
    "    def read_and_extract_data(self):\n",
    "        with open(self.filename, 'r') as reader:\n",
    "            jobs_counter = 0\n",
    "            for line in reader.readlines():\n",
    "                \n",
    "                row = re.split(\" +\", line.lstrip(\" \"))\n",
    "                row[-1] = row[-1].rstrip()\n",
    "\n",
    "\n",
    "                if row[0].startswith(\";\"):\n",
    "                    if \"MaxProcs:\" in row:\n",
    "                        self.number_of_processors = int(row[row.index(\"MaxProcs:\") + 1])\n",
    "                    elif \"MaxNodes:\" in row:\n",
    "                        self.number_of_processors = int(row[row.index(\"MaxNodes:\") + 1])\n",
    "                    continue\n",
    "\n",
    "                # row[4] is q, row[3] is p, row[8] is ~p, and row[1] is r\n",
    "                if int(row[4]) > 0 and int(row[4]) <= self.number_of_processors and int(row[3]) > 0 and int(row[8]) > 0:\n",
    "                    jobs_counter += 1\n",
    "                    self.jobs_info['p'].append(int(row[3]))\n",
    "                    self.jobs_info['~p'].append(int(row[8]))\n",
    "                    self.jobs_info['q'].append(int(row[4]))\n",
    "                    self.jobs_info['r'].append(int(row[1]))\n",
    "            \n",
    "            self.number_of_jobs = jobs_counter"
   ]
  },
  {
   "cell_type": "code",
   "execution_count": 6,
   "metadata": {},
   "outputs": [],
   "source": [
    "reader = ReaderSWF(\"m_tsafrir05/mit-supercloud-est.swf\")"
   ]
  },
  {
   "cell_type": "code",
   "execution_count": 7,
   "metadata": {},
   "outputs": [],
   "source": [
    "tsafrir = reader.jobs_info['~p']"
   ]
  },
  {
   "cell_type": "code",
   "execution_count": 8,
   "metadata": {},
   "outputs": [
    {
     "data": {
      "image/png": "[encoded data removed]",
      "text/plain": [
       "<Figure size 640x480 with 1 Axes>"
      ]
     },
     "metadata": {},
     "output_type": "display_data"
    }
   ],
   "source": [
    "plt.style.use('ggplot')\n",
    "\n",
    "# Get the run times\n",
    "run_times = mit_swf[\"Run time\"]\n",
    "est_times = mit_swf[mit_swf['Requested time'] != 4294967295]['Requested time']\n",
    "est_times_unlimited = mit_swf['Requested time']\n",
    "\n",
    "# Calculate the cumulative distribution function\n",
    "run_times_sorted = np.sort(run_times)\n",
    "cdf = np.linspace(0, 1, len(run_times_sorted))\n",
    "\n",
    "est_times_sorted = np.sort(est_times)\n",
    "est_cdf = np.linspace(0, 1, len(est_times_sorted))\n",
    "\n",
    "est_times_unlimited_sorted = np.sort(est_times_unlimited)\n",
    "est_unlimited_cdf = np.linspace(0, 1, len(est_times_unlimited_sorted))\n",
    "\n",
    "tsafrir_sorted = np.sort(tsafrir)\n",
    "tsafrir_cdf = np.linspace(0, 1, len(tsafrir_sorted))\n",
    "\n",
    "# Plot the cumulative distribution function\n",
    "plt.plot(run_times_sorted, cdf)\n",
    "plt.plot(est_times_sorted, est_cdf)\n",
    "plt.plot(est_times_unlimited_sorted, est_unlimited_cdf)\n",
    "plt.plot(tsafrir_sorted, tsafrir_cdf)\n",
    "plt.xlabel(\"Time [log scale]\")\n",
    "plt.ylabel(\"CDF [%]\")\n",
    "plt.title(\"MIT log: runtime and estimated runtime CDF\")\n",
    "plt.xscale(\"log\")\n",
    "plt.legend([\"Run time\", \"Estimated time\", \"Estimated time (unlimited)\", \"tsafrir\"])\n",
    "\n",
    "# Set the x-axis tick locations\n",
    "tick_locations = [10, 60, 300, 720, 1800, 3600, 5400, 14400, 28800, 57600, 256000, 512000, 1080000, 4294967295]\n",
    "tick_labels = [\"10s\", \"1m\", \"5m\", \"12m\", \"30m\", \"1h\", \"1h30m\", \"4h\", \"8h\", \"16h\", \"64h\", \"128h\", \"300h\", \"unlimited\"]\n",
    "plt.xticks(tick_locations, tick_labels, rotation=90, ha='center', va='top')\n",
    "# plt.gca().set_xlim((0, 57600))\n",
    "# plt.gca().set_ylim((0, 1))\n",
    "plt.yticks(np.arange(0, 1.1, 0.05))\n",
    "plt.show()"
   ]
  }
 ],
 "metadata": {
  "kernelspec": {
   "display_name": "base",
   "language": "python",
   "name": "python3"
  },
  "language_info": {
   "codemirror_mode": {
    "name": "ipython",
    "version": 3
   },
   "file_extension": ".py",
   "mimetype": "text/x-python",
   "name": "python",
   "nbconvert_exporter": "python",
   "pygments_lexer": "ipython3",
   "version": "3.10.9"
  },
  "orig_nbformat": 4,
  "vscode": {
   "interpreter": {
    "hash": "d4d1e4263499bec80672ea0156c357c1ee493ec2b1c70f0acce89fc37c4a6abe"
   }
  }
 },
 "nbformat": 4,
 "nbformat_minor": 2
}
