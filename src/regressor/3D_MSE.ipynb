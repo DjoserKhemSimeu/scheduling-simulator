{
 "cells": [
  {
   "cell_type": "code",
   "execution_count": 43,
   "metadata": {},
   "outputs": [
    {
     "data": {
      "application/vnd.jupyter.widget-view+json": {
       "model_id": "1bc37b544e29452384a6f4676c36c8ba",
       "version_major": 2,
       "version_minor": 0
      },
      "text/plain": [
       "interactive(children=(IntSlider(value=20, description='elev'), IntSlider(value=45, description='azim', max=90)…"
      ]
     },
     "metadata": {},
     "output_type": "display_data"
    },
    {
     "data": {
      "text/plain": [
       "<Figure size 640x480 with 0 Axes>"
      ]
     },
     "metadata": {},
     "output_type": "display_data"
    }
   ],
   "source": [
    "import pandas as pd\n",
    "import matplotlib.pyplot as plt\n",
    "from mpl_toolkits.mplot3d import Axes3D\n",
    "from scipy.interpolate import griddata\n",
    "from ipywidgets import interact, fixed\n",
    "import ipywidgets as widgets\n",
    "import numpy as np\n",
    "def plot_3D(df,elev,azim):\n",
    "    fig = plt.figure(figsize=(20, 15))\n",
    "    ax = fig.add_subplot(111, projection='3d')\n",
    "\n",
    "    # Extraire les données\n",
    "    x = df['vif']\n",
    "    y = df['deg']\n",
    "    z = df['MSE']\n",
    "\n",
    "    # Scatter plot des points de données\n",
    "    ax.scatter(x, y, z, color='r', marker='o')\n",
    "\n",
    "    # Créer une grille de points\n",
    "    xi = np.linspace(x.min(), x.max(), 1000)\n",
    "    yi = np.linspace(y.min(), y.max(), 1000)\n",
    "    xi, yi = np.meshgrid(xi, yi)\n",
    "\n",
    "    # Interpoler les valeurs de z pour la grille de points\n",
    "    zi = griddata((x, y), z, (xi, yi), method='cubic')\n",
    "\n",
    "    # Tracer la surface interpolée\n",
    "    surf = ax.plot_surface(xi, yi, zi, cmap='viridis', alpha=0.6)\n",
    "\n",
    "    # Définir les étiquettes et le titre\n",
    "    ax.set_xlabel('VIF', fontsize=15)\n",
    "    ax.set_ylabel('AVGD', fontsize=15)\n",
    "    ax.set_zlabel('MSE', fontsize=15)\n",
    "    ax.set_title('3D Plot of VIF, Degree, and MSE with Smooth Surface', fontsize=18)\n",
    "\n",
    "    # Ajuster l'angle de vue\n",
    "    ax.view_init(elev=elev, azim=azim)\n",
    "    plt.savefig(\"../../images/3D_MSE_s4_4_10_20_45.pdf\")\n",
    "    plt.savefig(\"../../images/3D_MSE_s4_4_10_20_45.png\")\n",
    "    plt.show()\n",
    "\n",
    "df = pd.read_csv('3D_MSE.csv')\n",
    "\n",
    "interact(plot_3D,df=fixed(df), elev=widgets.IntSlider(min=0, max=100, step=1, value=20), azim=widgets.IntSlider(min=0, max=90, step=1, value=45))\n",
    "\n",
    "\n",
    "plt.savefig(\"../../images/3D_MSE_4_10_20_45.pdf\")\n",
    "plt.savefig(\"../../images/3D_MSE_4_10_20_45.png\")\n",
    "plt.show()\n"
   ]
  },
  {
   "cell_type": "code",
   "execution_count": 3,
   "metadata": {},
   "outputs": [
    {
     "data": {
      "text/plain": [
       "<matplotlib.collections.PathCollection at 0x745a5d9811e0>"
      ]
     },
     "execution_count": 3,
     "metadata": {},
     "output_type": "execute_result"
    },
    {
     "data": {
      "image/png": "[encoded data removed]",
      "text/plain": [
       "<Figure size 640x480 with 1 Axes>"
      ]
     },
     "metadata": {},
     "output_type": "display_data"
    }
   ],
   "source": [
    "plt.scatter(x,z)"
   ]
  },
  {
   "cell_type": "code",
   "execution_count": 44,
   "metadata": {},
   "outputs": [
    {
     "data": {
      "application/vnd.jupyter.widget-view+json": {
       "model_id": "2dc0f9b7880c476ab067fd97185fc721",
       "version_major": 2,
       "version_minor": 0
      },
      "text/plain": [
       "interactive(children=(IntSlider(value=20, description='elev'), IntSlider(value=45, description='azim', max=90)…"
      ]
     },
     "metadata": {},
     "output_type": "display_data"
    },
    {
     "data": {
      "text/plain": [
       "<Figure size 640x480 with 0 Axes>"
      ]
     },
     "metadata": {},
     "output_type": "display_data"
    }
   ],
   "source": [
    "\n",
    "\n",
    "# Lire les données\n",
    "df = pd.read_csv('3D_MSE_4.csv')\n",
    "\n",
    "\n",
    "# Enregistrer le graphique\n",
    "interact(plot_3D,df=fixed(df), elev=widgets.IntSlider(min=0, max=100, step=1, value=20), azim=widgets.IntSlider(min=0, max=90, step=1, value=45))\n",
    "plt.savefig(\"../../images/3D_MSE_s4_4_10_20_45.pdf\")\n",
    "plt.savefig(\"../../images/3D_MSE_s4_4_10_20_45.png\")\n",
    "plt.show()\n",
    "\n"
   ]
  }
 ],
 "metadata": {
  "kernelspec": {
   "display_name": "Python 3",
   "language": "python",
   "name": "python3"
  },
  "language_info": {
   "codemirror_mode": {
    "name": "ipython",
    "version": 3
   },
   "file_extension": ".py",
   "mimetype": "text/x-python",
   "name": "python",
   "nbconvert_exporter": "python",
   "pygments_lexer": "ipython3",
   "version": "3.10.12"
  }
 },
 "nbformat": 4,
 "nbformat_minor": 2
}
